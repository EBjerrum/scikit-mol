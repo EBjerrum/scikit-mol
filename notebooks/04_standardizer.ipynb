{
 "cells": [
  {
   "cell_type": "markdown",
   "id": "be682e9c",
   "metadata": {},
   "source": [
    "# Molecule standardization\n",
    "When building machine learning models of molecules, it is important to standardize the molecules. We often don't want different predictions just because things are drawn in slightly different forms, such as protonated or deprotanted carboxylic acids. Scikit-mol provides a very basic standardize transformer based on the molvs implementation in RDKit"
   ]
  },
  {
   "cell_type": "code",
   "execution_count": 1,
   "id": "2aa91923",
   "metadata": {
    "execution": {
     "iopub.execute_input": "2024-04-12T12:10:17.122184Z",
     "iopub.status.busy": "2024-04-12T12:10:17.121928Z",
     "iopub.status.idle": "2024-04-12T12:10:17.878455Z",
     "shell.execute_reply": "2024-04-12T12:10:17.877770Z"
    }
   },
   "outputs": [],
   "source": [
    "from rdkit import Chem\n",
    "from scikit_mol.standardizer import Standardizer\n",
    "from scikit_mol.fingerprints import MorganFingerprintTransformer\n",
    "from scikit_mol.conversions import SmilesToMolTransformer\n",
    "from sklearn.pipeline import make_pipeline\n",
    "from sklearn.linear_model import Ridge"
   ]
  },
  {
   "cell_type": "markdown",
   "id": "0fed8d0b",
   "metadata": {},
   "source": [
    "For demonstration let's create some molecules with different protonation states. The two first molecules are Benzoic acid and Sodium benzoate."
   ]
  },
  {
   "cell_type": "code",
   "execution_count": 2,
   "id": "934c031b",
   "metadata": {
    "execution": {
     "iopub.execute_input": "2024-04-12T12:10:17.881422Z",
     "iopub.status.busy": "2024-04-12T12:10:17.881092Z",
     "iopub.status.idle": "2024-04-12T12:10:17.889228Z",
     "shell.execute_reply": "2024-04-12T12:10:17.888702Z"
    }
   },
   "outputs": [
    {
     "data": {
      "text/plain": [
       "array([<rdkit.Chem.rdchem.Mol object at 0x7da9b28bb060>], dtype=object)"
      ]
     },
     "metadata": {},
     "output_type": "display_data"
    },
    {
     "data": {
      "text/plain": [
       "array([<rdkit.Chem.rdchem.Mol object at 0x7da9b28bb0d0>], dtype=object)"
      ]
     },
     "metadata": {},
     "output_type": "display_data"
    }
   ],
   "source": [
    "smiles_strings = ('c1ccccc1C(=O)[OH]','c1ccccc1C(=O)[O-].[Na+]','CC[NH+](C)C','CC[N+](C)(C)C',\n",
    "       '[O-]CC(C(=O)[O-])C[NH+](C)C','[O-]CC(C(=O)[O-])C[N+](C)(C)C')\n",
    "\n",
    "smi2mol = SmilesToMolTransformer()\n",
    "\n",
    "mols  = smi2mol.transform(smiles_strings)\n",
    "for mol in mols[0:2]:\n",
    "    display(mol)"
   ]
  },
  {
   "cell_type": "markdown",
   "id": "e68b0eff",
   "metadata": {},
   "source": [
    "We can simply use the transformer directly and get a list of standardized molecules"
   ]
  },
  {
   "cell_type": "code",
   "execution_count": 3,
   "id": "c18bbd3e",
   "metadata": {
    "execution": {
     "iopub.execute_input": "2024-04-12T12:10:17.891559Z",
     "iopub.status.busy": "2024-04-12T12:10:17.891342Z",
     "iopub.status.idle": "2024-04-12T12:10:17.906792Z",
     "shell.execute_reply": "2024-04-12T12:10:17.906295Z"
    }
   },
   "outputs": [
    {
     "data": {
      "text/plain": [
       "array([['O=C(O)c1ccccc1'],\n",
       "       ['O=C(O)c1ccccc1'],\n",
       "       ['CCN(C)C'],\n",
       "       ['CC[N+](C)(C)C'],\n",
       "       ['CN(C)CC(CO)C(=O)O'],\n",
       "       ['C[N+](C)(C)CC(CO)C(=O)[O-]']], dtype='<U26')"
      ]
     },
     "execution_count": 3,
     "metadata": {},
     "output_type": "execute_result"
    }
   ],
   "source": [
    "# You can just run straight up like this. Note that neutralising is optional\n",
    "standardizer = Standardizer(neutralize=True)\n",
    "standard_mols = standardizer.transform(mols)\n",
    "standard_smiles = smi2mol.inverse_transform(standard_mols)\n",
    "standard_smiles"
   ]
  },
  {
   "cell_type": "markdown",
   "id": "da3fc3e2",
   "metadata": {},
   "source": [
    "Some of the molecules were desalted and neutralized.\n",
    "\n",
    "A typical usecase would be to add the standardizer to a pipeline for prediction"
   ]
  },
  {
   "cell_type": "code",
   "execution_count": 4,
   "id": "d03be7dc",
   "metadata": {
    "execution": {
     "iopub.execute_input": "2024-04-12T12:10:17.909344Z",
     "iopub.status.busy": "2024-04-12T12:10:17.909132Z",
     "iopub.status.idle": "2024-04-12T12:10:17.939678Z",
     "shell.execute_reply": "2024-04-12T12:10:17.939104Z"
    },
    "lines_to_next_cell": 2
   },
   "outputs": [
    {
     "name": "stdout",
     "output_type": "stream",
     "text": [
      "Predictions with no standardization: [0.51983795 0.51983795 2.06562022 3.01206795 3.95446692 4.92816899]\n",
      "Predictions with standardization:    [0.51983795 0.61543701 2.31738354 3.01206795 3.44085399 4.37516731]\n"
     ]
    }
   ],
   "source": [
    "# Typical use case is to use it in an sklearn pipeline, like below \n",
    "predictor = Ridge()\n",
    "\n",
    "std_pipe = make_pipeline(SmilesToMolTransformer(), Standardizer(), MorganFingerprintTransformer(useCounts=True), predictor)\n",
    "nonstd_pipe = make_pipeline(SmilesToMolTransformer(), MorganFingerprintTransformer(useCounts=True), predictor)\n",
    "\n",
    "fake_y = range(len(smiles_strings))\n",
    "\n",
    "std_pipe.fit(smiles_strings, fake_y)\n",
    "\n",
    "\n",
    "print(f'Predictions with no standardization: {std_pipe.predict(smiles_strings)}')\n",
    "print(f'Predictions with standardization:    {nonstd_pipe.predict(smiles_strings)}')"
   ]
  },
  {
   "cell_type": "markdown",
   "id": "9cfab56c",
   "metadata": {},
   "source": [
    "As we can see, the predictions with the standardizer and without are different. The two first molecules were benzoic acid and sodium benzoate, which with the standardized pipeline is predicted as the same, but differently with the nonstandardized pipeline. Wheter we want to make the prediction on the parent compound, or predict the exact form, will of course depend on the use-case, but now there is at least a way to handle it easily in pipelined predictors.\n",
    "\n",
    "The example also demonstrate another feature. We created the ridge regressor before creating the two pipelines. Fitting one of the pipelines thus also updated the object in the other pipeline. This can be useful for building inference pipelines that takes in SMILES molecules, but rather do the fitting on already converted and standardized molecules. However, be aware that the crossvalidation classes of scikit-learn may clone the estimators internally when doing the search loop, which would break this interdependence, and necessitate the rebuilding of the inference pipeline.\n",
    "\n",
    "If we had fitted the non standardizing pipeline, the model would have been different as shown below, as some of the molecules would be perceived different by the Ridge regressor."
   ]
  },
  {
   "cell_type": "code",
   "execution_count": 5,
   "id": "e5f8495f",
   "metadata": {
    "execution": {
     "iopub.execute_input": "2024-04-12T12:10:17.942493Z",
     "iopub.status.busy": "2024-04-12T12:10:17.942248Z",
     "iopub.status.idle": "2024-04-12T12:10:17.961792Z",
     "shell.execute_reply": "2024-04-12T12:10:17.961206Z"
    }
   },
   "outputs": [
    {
     "name": "stdout",
     "output_type": "stream",
     "text": [
      "Predictions with no standardization: [0.07445775 0.07445775 2.32132164 3.00857908 2.68502208 4.30275549]\n",
      "Predictions with standardization:    [0.07445775 0.96053374 2.05993278 3.00857908 3.96365443 4.93284221]\n"
     ]
    }
   ],
   "source": [
    "nonstd_pipe.fit(smiles_strings, fake_y)\n",
    "print(f'Predictions with no standardization: {std_pipe.predict(smiles_strings)}')\n",
    "print(f'Predictions with standardization:    {nonstd_pipe.predict(smiles_strings)}')"
   ]
  }
 ],
 "metadata": {
  "jupytext": {
   "cell_metadata_filter": "-all",
   "formats": "ipynb,py:percent"
  },
  "kernelspec": {
   "display_name": "Python 3.9.4 ('rdkit')",
   "language": "python",
   "name": "python3"
  },
  "language_info": {
   "codemirror_mode": {
    "name": "ipython",
    "version": 3
   },
   "file_extension": ".py",
   "mimetype": "text/x-python",
   "name": "python",
   "nbconvert_exporter": "python",
   "pygments_lexer": "ipython3",
   "version": "3.10.12"
  }
 },
 "nbformat": 4,
 "nbformat_minor": 5
}
