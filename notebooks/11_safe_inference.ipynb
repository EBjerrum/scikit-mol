{
 "cells": [
  {
   "cell_type": "markdown",
   "id": "f34dacf0",
   "metadata": {},
   "source": [
    "# Safe inference mode\n",
    "\n",
    "I think everyone which have worked with SMILES and RDKit sooner or later come across a SMILES that doesn't parse. It can happen if the SMILES was produced with a different toolkit that are less strict with e.g. valence rules, or maybe a characher was missing in the copying from the email. During curation of the dataset for training models, these SMILES need to be identfied and eventually fixed or removed. But what happens when we are finished with our modelling? What kind of molecules and SMILES will a user of the model send for the model in the future when it's in deployment. What kind of SMILES will a generative model create that we need to predict? We don't know and we won't know. So it's kind of crucial to be able to handle these situations. Scikit-Learn models usually simply explodes the entire batch that are being predicted. This is where safe_inference_mode was introduced in Scikit-Mol. With the introduction all transformers got a safe inference mode, where they handle invalid input. How they handle it depends a bit on the transformer, so we will go through the different usual steps and see how things have changed with the introduction of the safe inference mode.\n",
    "\n",
    "NOTE! In the following demonstration I switch on the safe inference mode individually for demonstration purposes. I would not recommend to do that while building and training models, instead I would switch it on _after_ training and evaluation (more on that later). Otherwise there's a risk to train on the 2% of a dataset that didn't fail....\n",
    "\n",
    "First some imports and test SMILES and molecules."
   ]
  },
  {
   "cell_type": "code",
   "execution_count": 1,
   "id": "ac780f4c",
   "metadata": {
    "execution": {
     "iopub.execute_input": "2024-11-24T09:28:44.417205Z",
     "iopub.status.busy": "2024-11-24T09:28:44.417002Z",
     "iopub.status.idle": "2024-11-24T09:28:45.205864Z",
     "shell.execute_reply": "2024-11-24T09:28:45.205244Z"
    }
   },
   "outputs": [
    {
     "data": {
      "text/plain": [
       "array([[<rdkit.Chem.rdchem.Mol object at 0x782cbbb36c70>],\n",
       "       [<rdkit.Chem.rdchem.Mol object at 0x782cbbb36b90>],\n",
       "       [<rdkit.Chem.rdchem.Mol object at 0x782cbbb36c00>],\n",
       "       [<rdkit.Chem.rdchem.Mol object at 0x782cbbb36ce0>],\n",
       "       [InvalidMol('SmilesToMolTransformer(safe_inference_mode=True)', error='Invalid Molecule: Explicit valence for atom # 0 N, 4, is greater than permitted')],\n",
       "       [InvalidMol('SmilesToMolTransformer(safe_inference_mode=True)', error='Invalid SMILES: I'm not a SMILES')]],\n",
       "      dtype=object)"
      ]
     },
     "execution_count": 1,
     "metadata": {},
     "output_type": "execute_result"
    }
   ],
   "source": [
    "from rdkit import Chem\n",
    "from scikit_mol.conversions import SmilesToMolTransformer\n",
    "\n",
    "# We have some deprecation warnings, we are adressing them, but they just distract from this demonstration\n",
    "import warnings\n",
    "\n",
    "warnings.filterwarnings(\"ignore\", category=DeprecationWarning)\n",
    "\n",
    "smiles = [\"C1=CC=C(C=C1)F\", \"C1=CC=C(C=C1)O\", \"C1=CC=C(C=C1)N\", \"C1=CC=C(C=C1)Cl\"]\n",
    "smiles_with_invalid = smiles + [\"N(C)(C)(C)C\", \"I'm not a SMILES\"]\n",
    "\n",
    "smi2mol = SmilesToMolTransformer(safe_inference_mode=True)\n",
    "\n",
    "mols_with_invalid = smi2mol.transform(smiles_with_invalid)\n",
    "mols_with_invalid"
   ]
  },
  {
   "cell_type": "markdown",
   "id": "bdd18682",
   "metadata": {},
   "source": [
    "Without the safe inference mode, the transformation would simply fail, but now we get the expected array back with our RDKit molecules and a last entry which is an object of the type InvalidMol. InvalidMol is simply a placeholder that tells what step failed the conversion and the error. InvalidMol evaluates to `False` in boolean contexts, so it gets easy to filter away and handle in `if`s and list comprehensions. As example:"
   ]
  },
  {
   "cell_type": "code",
   "execution_count": 2,
   "id": "44a6019c",
   "metadata": {
    "execution": {
     "iopub.execute_input": "2024-11-24T09:28:45.208884Z",
     "iopub.status.busy": "2024-11-24T09:28:45.208436Z",
     "iopub.status.idle": "2024-11-24T09:28:45.213259Z",
     "shell.execute_reply": "2024-11-24T09:28:45.212730Z"
    }
   },
   "outputs": [
    {
     "data": {
      "text/plain": [
       "[array([<rdkit.Chem.rdchem.Mol object at 0x782cbbb36c70>], dtype=object),\n",
       " array([<rdkit.Chem.rdchem.Mol object at 0x782cbbb36b90>], dtype=object),\n",
       " array([<rdkit.Chem.rdchem.Mol object at 0x782cbbb36c00>], dtype=object),\n",
       " array([<rdkit.Chem.rdchem.Mol object at 0x782cbbb36ce0>], dtype=object)]"
      ]
     },
     "execution_count": 2,
     "metadata": {},
     "output_type": "execute_result"
    }
   ],
   "source": [
    "[mol for mol in mols_with_invalid if mol]"
   ]
  },
  {
   "cell_type": "markdown",
   "id": "176a44de",
   "metadata": {},
   "source": [
    "or"
   ]
  },
  {
   "cell_type": "code",
   "execution_count": 3,
   "id": "8286fd44",
   "metadata": {
    "execution": {
     "iopub.execute_input": "2024-11-24T09:28:45.215847Z",
     "iopub.status.busy": "2024-11-24T09:28:45.215431Z",
     "iopub.status.idle": "2024-11-24T09:28:45.219372Z",
     "shell.execute_reply": "2024-11-24T09:28:45.218875Z"
    }
   },
   "outputs": [
    {
     "data": {
      "text/plain": [
       "array([<rdkit.Chem.rdchem.Mol object at 0x782cbbb36c70>,\n",
       "       <rdkit.Chem.rdchem.Mol object at 0x782cbbb36b90>,\n",
       "       <rdkit.Chem.rdchem.Mol object at 0x782cbbb36c00>,\n",
       "       <rdkit.Chem.rdchem.Mol object at 0x782cbbb36ce0>], dtype=object)"
      ]
     },
     "execution_count": 3,
     "metadata": {},
     "output_type": "execute_result"
    }
   ],
   "source": [
    "mask = mols_with_invalid.astype(bool)\n",
    "mols_with_invalid[mask]"
   ]
  },
  {
   "cell_type": "markdown",
   "id": "c7be8909",
   "metadata": {},
   "source": [
    "Having a failsafe SmilesToMol conversion leads us to next step, featurization. The transformers in safe inference mode now return a NumPy masked array instead of a regular NumPy array. It simply evaluates the incoming mols in a boolean context, so e.g. `None`, `np.nan` and other Python objects that evaluates to False will also get masked (i.e. if you use a dataframe with an ROMol column produced with the PandasTools utility)"
   ]
  },
  {
   "cell_type": "code",
   "execution_count": 4,
   "id": "9a705642",
   "metadata": {
    "execution": {
     "iopub.execute_input": "2024-11-24T09:28:45.221712Z",
     "iopub.status.busy": "2024-11-24T09:28:45.221465Z",
     "iopub.status.idle": "2024-11-24T09:28:45.246566Z",
     "shell.execute_reply": "2024-11-24T09:28:45.245960Z"
    },
    "lines_to_next_cell": 2
   },
   "outputs": [
    {
     "data": {
      "text/plain": [
       "masked_array(\n",
       "  data=[[0.0, 0.0, 0.0, 0.0, 0.0, 0.0, 0.0, 0.0, 1.0, 1.0, 0.0, 0.0, 1.0,\n",
       "         1.0, 0.0, 0.0, 1.0, 0.0, 1.0, 1.0, 1.0, 0.0, 1.0, 1.0, 0.0],\n",
       "        [0.0, 0.0, 0.0, 0.0, 0.0, 0.0, 0.0, 1.0, 1.0, 1.0, 0.0, 1.0, 1.0,\n",
       "         1.0, 0.0, 0.0, 1.0, 0.0, 0.0, 1.0, 1.0, 0.0, 0.0, 1.0, 0.0],\n",
       "        [0.0, 0.0, 0.0, 0.0, 0.0, 0.0, 0.0, 0.0, 1.0, 1.0, 0.0, 0.0, 0.0,\n",
       "         1.0, 1.0, 0.0, 1.0, 0.0, 1.0, 1.0, 1.0, 0.0, 0.0, 0.0, 0.0],\n",
       "        [1.0, 0.0, 0.0, 0.0, 0.0, 0.0, 0.0, 0.0, 1.0, 1.0, 0.0, 0.0, 0.0,\n",
       "         1.0, 0.0, 0.0, 1.0, 0.0, 0.0, 1.0, 1.0, 0.0, 1.0, 0.0, 1.0],\n",
       "        [--, --, --, --, --, --, --, --, --, --, --, --, --, --, --, --,\n",
       "         --, --, --, --, --, --, --, --, --],\n",
       "        [--, --, --, --, --, --, --, --, --, --, --, --, --, --, --, --,\n",
       "         --, --, --, --, --, --, --, --, --]],\n",
       "  mask=[[False, False, False, False, False, False, False, False, False,\n",
       "         False, False, False, False, False, False, False, False, False,\n",
       "         False, False, False, False, False, False, False],\n",
       "        [False, False, False, False, False, False, False, False, False,\n",
       "         False, False, False, False, False, False, False, False, False,\n",
       "         False, False, False, False, False, False, False],\n",
       "        [False, False, False, False, False, False, False, False, False,\n",
       "         False, False, False, False, False, False, False, False, False,\n",
       "         False, False, False, False, False, False, False],\n",
       "        [False, False, False, False, False, False, False, False, False,\n",
       "         False, False, False, False, False, False, False, False, False,\n",
       "         False, False, False, False, False, False, False],\n",
       "        [ True,  True,  True,  True,  True,  True,  True,  True,  True,\n",
       "          True,  True,  True,  True,  True,  True,  True,  True,  True,\n",
       "          True,  True,  True,  True,  True,  True,  True],\n",
       "        [ True,  True,  True,  True,  True,  True,  True,  True,  True,\n",
       "          True,  True,  True,  True,  True,  True,  True,  True,  True,\n",
       "          True,  True,  True,  True,  True,  True,  True]],\n",
       "  fill_value=1e+20)"
      ]
     },
     "execution_count": 4,
     "metadata": {},
     "output_type": "execute_result"
    }
   ],
   "source": [
    "from scikit_mol.fingerprints import MorganFingerprintTransformer\n",
    "\n",
    "mfp = MorganFingerprintTransformer(radius=2, fpSize=25, safe_inference_mode=True)\n",
    "fps = mfp.transform(mols_with_invalid)\n",
    "fps"
   ]
  },
  {
   "cell_type": "markdown",
   "id": "a5e2b301",
   "metadata": {},
   "source": [
    "However, currently scikit-learn models accepts masked arrays, but they do not respect the mask! So if you fed it directly to the model to train, it would seemingly work, but the invalid samples would all have the fill_value, meaning you could get weird results. Instead we need the last part of the puzzle, the SafeInferenceWrapper class."
   ]
  },
  {
   "cell_type": "code",
   "execution_count": 5,
   "id": "37987dc9",
   "metadata": {
    "execution": {
     "iopub.execute_input": "2024-11-24T09:28:45.249048Z",
     "iopub.status.busy": "2024-11-24T09:28:45.248844Z",
     "iopub.status.idle": "2024-11-24T09:28:45.318911Z",
     "shell.execute_reply": "2024-11-24T09:28:45.318291Z"
    },
    "lines_to_next_cell": 2
   },
   "outputs": [
    {
     "name": "stderr",
     "output_type": "stream",
     "text": [
      "/home/esben/git/scikit-mol/scikit_mol/safeinference.py:49: UserWarning: SafeInferenceWrapper is in safe_inference_mode during use of fit and invalid data detected. This mode is intended for safe inference in production, not for training and evaluation.\n",
      "  warnings.warn(\n"
     ]
    },
    {
     "data": {
      "text/plain": [
       "array([ 0.,  1.,  0.,  1., nan, nan])"
      ]
     },
     "execution_count": 5,
     "metadata": {},
     "output_type": "execute_result"
    }
   ],
   "source": [
    "from scikit_mol.safeinference import SafeInferenceWrapper\n",
    "from sklearn.linear_model import LogisticRegression\n",
    "import numpy as np\n",
    "\n",
    "regressor = LogisticRegression()\n",
    "wrapper = SafeInferenceWrapper(regressor, safe_inference_mode=True)\n",
    "wrapper.fit(fps, [0, 1, 0, 1, 0, 1])\n",
    "wrapper.predict(fps)"
   ]
  },
  {
   "cell_type": "markdown",
   "id": "7aa1223f",
   "metadata": {},
   "source": []
  },
  {
   "cell_type": "markdown",
   "id": "f08d26d5",
   "metadata": {},
   "source": [
    "The prediction went fine both in fit and in prediction, where the result shows `nan` for the invalid entries. However, please note fit in sage_inference_mode is not recommended in a training session, but you are warned and not blocked, because maybe you know what you do and do it on purpose.\n",
    "The SafeInferenceMapper both handles rows that are masked in masked arrays, but also checks rows for nonfinite values and filters these away. Sometimes some descriptors may return a inf or nan, even though the molecule itself is valid. The masking of nonfinite values can be switched off, maybe you are using a model that can handle missing data and only want to filter away invalid molecules.\n",
    "\n",
    "## Setting safe_inference_mode post-training\n",
    "As I said before I believe in catching errors and fixing those during training, but what do we do when we need to switch on safe inference mode for all objects in a pipeline? There's of course a tool for that, so lets demo that:"
   ]
  },
  {
   "cell_type": "code",
   "execution_count": 6,
   "id": "51436aa8",
   "metadata": {
    "execution": {
     "iopub.execute_input": "2024-11-24T09:28:45.321557Z",
     "iopub.status.busy": "2024-11-24T09:28:45.321253Z",
     "iopub.status.idle": "2024-11-24T09:28:45.333442Z",
     "shell.execute_reply": "2024-11-24T09:28:45.332830Z"
    }
   },
   "outputs": [
    {
     "name": "stdout",
     "output_type": "stream",
     "text": [
      "Without safe inference mode:\n",
      "Prediction failed with exception:  Invalid input found: [InvalidMol('SmilesToMolTransformer()', error='Invalid Molecule: Explicit valence for atom # 0 N, 4, is greater than permitted'), InvalidMol('SmilesToMolTransformer()', error='Invalid SMILES: I'm not a SMILES')].\n",
      "\n",
      "With safe inference mode:\n",
      "[ 1.  0.  1.  0. nan nan]\n"
     ]
    }
   ],
   "source": [
    "from scikit_mol.safeinference import set_safe_inference_mode\n",
    "from sklearn.pipeline import Pipeline\n",
    "\n",
    "pipe = Pipeline(\n",
    "    [\n",
    "        (\"smi2mol\", SmilesToMolTransformer()),\n",
    "        (\"mfp\", MorganFingerprintTransformer(radius=2, fpSize=25)),\n",
    "        (\"safe_regressor\", SafeInferenceWrapper(LogisticRegression())),\n",
    "    ]\n",
    ")\n",
    "\n",
    "pipe.fit(smiles, [1, 0, 1, 0])\n",
    "\n",
    "print(\"Without safe inference mode:\")\n",
    "try:\n",
    "    pipe.predict(smiles_with_invalid)\n",
    "except Exception as e:\n",
    "    print(\"Prediction failed with exception: \", e)\n",
    "print()\n",
    "\n",
    "set_safe_inference_mode(pipe, True)\n",
    "\n",
    "print(\"With safe inference mode:\")\n",
    "print(pipe.predict(smiles_with_invalid))"
   ]
  },
  {
   "cell_type": "markdown",
   "id": "cf53d58f",
   "metadata": {},
   "source": [
    "We see that the prediction fail without safe inference mode, and proceeds when it's conveniently set by the `set_safe_inference_mode` utility. The model is now ready for save and reuse in a more failsafe manner :-)"
   ]
  },
  {
   "cell_type": "markdown",
   "id": "685e22fd",
   "metadata": {},
   "source": [
    "## Combining safe_inference_mode with pandas output\n",
    "One potential issue can happen when we combine the safe_inference_mode with Pandas output mode of the transformers. It will work, but depending on the batch something surprising can happen due to the way that Pandas converts masked Numpy arrays. Let me demonstrate the issue, first we predict a batch without any errors."
   ]
  },
  {
   "cell_type": "code",
   "execution_count": 7,
   "id": "b8dbd88c",
   "metadata": {
    "execution": {
     "iopub.execute_input": "2024-11-24T09:28:45.336071Z",
     "iopub.status.busy": "2024-11-24T09:28:45.335859Z",
     "iopub.status.idle": "2024-11-24T09:28:45.351873Z",
     "shell.execute_reply": "2024-11-24T09:28:45.351251Z"
    }
   },
   "outputs": [
    {
     "data": {
      "text/html": [
       "<div>\n",
       "<style scoped>\n",
       "    .dataframe tbody tr th:only-of-type {\n",
       "        vertical-align: middle;\n",
       "    }\n",
       "\n",
       "    .dataframe tbody tr th {\n",
       "        vertical-align: top;\n",
       "    }\n",
       "\n",
       "    .dataframe thead th {\n",
       "        text-align: right;\n",
       "    }\n",
       "</style>\n",
       "<table border=\"1\" class=\"dataframe\">\n",
       "  <thead>\n",
       "    <tr style=\"text-align: right;\">\n",
       "      <th></th>\n",
       "      <th>fp_morgan_1</th>\n",
       "      <th>fp_morgan_2</th>\n",
       "      <th>fp_morgan_3</th>\n",
       "      <th>fp_morgan_4</th>\n",
       "      <th>fp_morgan_5</th>\n",
       "      <th>fp_morgan_6</th>\n",
       "      <th>fp_morgan_7</th>\n",
       "      <th>fp_morgan_8</th>\n",
       "      <th>fp_morgan_9</th>\n",
       "      <th>fp_morgan_10</th>\n",
       "      <th>...</th>\n",
       "      <th>fp_morgan_16</th>\n",
       "      <th>fp_morgan_17</th>\n",
       "      <th>fp_morgan_18</th>\n",
       "      <th>fp_morgan_19</th>\n",
       "      <th>fp_morgan_20</th>\n",
       "      <th>fp_morgan_21</th>\n",
       "      <th>fp_morgan_22</th>\n",
       "      <th>fp_morgan_23</th>\n",
       "      <th>fp_morgan_24</th>\n",
       "      <th>fp_morgan_25</th>\n",
       "    </tr>\n",
       "  </thead>\n",
       "  <tbody>\n",
       "    <tr>\n",
       "      <th>0</th>\n",
       "      <td>0</td>\n",
       "      <td>0</td>\n",
       "      <td>0</td>\n",
       "      <td>0</td>\n",
       "      <td>0</td>\n",
       "      <td>0</td>\n",
       "      <td>0</td>\n",
       "      <td>0</td>\n",
       "      <td>1</td>\n",
       "      <td>1</td>\n",
       "      <td>...</td>\n",
       "      <td>0</td>\n",
       "      <td>1</td>\n",
       "      <td>0</td>\n",
       "      <td>1</td>\n",
       "      <td>1</td>\n",
       "      <td>1</td>\n",
       "      <td>0</td>\n",
       "      <td>1</td>\n",
       "      <td>1</td>\n",
       "      <td>0</td>\n",
       "    </tr>\n",
       "    <tr>\n",
       "      <th>1</th>\n",
       "      <td>0</td>\n",
       "      <td>0</td>\n",
       "      <td>0</td>\n",
       "      <td>0</td>\n",
       "      <td>0</td>\n",
       "      <td>0</td>\n",
       "      <td>0</td>\n",
       "      <td>1</td>\n",
       "      <td>1</td>\n",
       "      <td>1</td>\n",
       "      <td>...</td>\n",
       "      <td>0</td>\n",
       "      <td>1</td>\n",
       "      <td>0</td>\n",
       "      <td>0</td>\n",
       "      <td>1</td>\n",
       "      <td>1</td>\n",
       "      <td>0</td>\n",
       "      <td>0</td>\n",
       "      <td>1</td>\n",
       "      <td>0</td>\n",
       "    </tr>\n",
       "    <tr>\n",
       "      <th>2</th>\n",
       "      <td>0</td>\n",
       "      <td>0</td>\n",
       "      <td>0</td>\n",
       "      <td>0</td>\n",
       "      <td>0</td>\n",
       "      <td>0</td>\n",
       "      <td>0</td>\n",
       "      <td>0</td>\n",
       "      <td>1</td>\n",
       "      <td>1</td>\n",
       "      <td>...</td>\n",
       "      <td>0</td>\n",
       "      <td>1</td>\n",
       "      <td>0</td>\n",
       "      <td>1</td>\n",
       "      <td>1</td>\n",
       "      <td>1</td>\n",
       "      <td>0</td>\n",
       "      <td>0</td>\n",
       "      <td>0</td>\n",
       "      <td>0</td>\n",
       "    </tr>\n",
       "    <tr>\n",
       "      <th>3</th>\n",
       "      <td>1</td>\n",
       "      <td>0</td>\n",
       "      <td>0</td>\n",
       "      <td>0</td>\n",
       "      <td>0</td>\n",
       "      <td>0</td>\n",
       "      <td>0</td>\n",
       "      <td>0</td>\n",
       "      <td>1</td>\n",
       "      <td>1</td>\n",
       "      <td>...</td>\n",
       "      <td>0</td>\n",
       "      <td>1</td>\n",
       "      <td>0</td>\n",
       "      <td>0</td>\n",
       "      <td>1</td>\n",
       "      <td>1</td>\n",
       "      <td>0</td>\n",
       "      <td>1</td>\n",
       "      <td>0</td>\n",
       "      <td>1</td>\n",
       "    </tr>\n",
       "  </tbody>\n",
       "</table>\n",
       "<p>4 rows × 25 columns</p>\n",
       "</div>"
      ],
      "text/plain": [
       "   fp_morgan_1  fp_morgan_2  fp_morgan_3  fp_morgan_4  fp_morgan_5  \\\n",
       "0            0            0            0            0            0   \n",
       "1            0            0            0            0            0   \n",
       "2            0            0            0            0            0   \n",
       "3            1            0            0            0            0   \n",
       "\n",
       "   fp_morgan_6  fp_morgan_7  fp_morgan_8  fp_morgan_9  fp_morgan_10  ...  \\\n",
       "0            0            0            0            1             1  ...   \n",
       "1            0            0            1            1             1  ...   \n",
       "2            0            0            0            1             1  ...   \n",
       "3            0            0            0            1             1  ...   \n",
       "\n",
       "   fp_morgan_16  fp_morgan_17  fp_morgan_18  fp_morgan_19  fp_morgan_20  \\\n",
       "0             0             1             0             1             1   \n",
       "1             0             1             0             0             1   \n",
       "2             0             1             0             1             1   \n",
       "3             0             1             0             0             1   \n",
       "\n",
       "   fp_morgan_21  fp_morgan_22  fp_morgan_23  fp_morgan_24  fp_morgan_25  \n",
       "0             1             0             1             1             0  \n",
       "1             1             0             0             1             0  \n",
       "2             1             0             0             0             0  \n",
       "3             1             0             1             0             1  \n",
       "\n",
       "[4 rows x 25 columns]"
      ]
     },
     "execution_count": 7,
     "metadata": {},
     "output_type": "execute_result"
    }
   ],
   "source": [
    "mfp.set_output(transform=\"pandas\")\n",
    "\n",
    "mols = smi2mol.transform(smiles)\n",
    "\n",
    "fps = mfp.transform(mols)\n",
    "fps"
   ]
  },
  {
   "cell_type": "markdown",
   "id": "092ca859",
   "metadata": {},
   "source": [
    "Then lets see if we transform a batch with an invalid molecule:"
   ]
  },
  {
   "cell_type": "code",
   "execution_count": 8,
   "id": "710ceeb0",
   "metadata": {
    "execution": {
     "iopub.execute_input": "2024-11-24T09:28:45.354427Z",
     "iopub.status.busy": "2024-11-24T09:28:45.354176Z",
     "iopub.status.idle": "2024-11-24T09:28:45.377892Z",
     "shell.execute_reply": "2024-11-24T09:28:45.377253Z"
    }
   },
   "outputs": [
    {
     "data": {
      "text/html": [
       "<div>\n",
       "<style scoped>\n",
       "    .dataframe tbody tr th:only-of-type {\n",
       "        vertical-align: middle;\n",
       "    }\n",
       "\n",
       "    .dataframe tbody tr th {\n",
       "        vertical-align: top;\n",
       "    }\n",
       "\n",
       "    .dataframe thead th {\n",
       "        text-align: right;\n",
       "    }\n",
       "</style>\n",
       "<table border=\"1\" class=\"dataframe\">\n",
       "  <thead>\n",
       "    <tr style=\"text-align: right;\">\n",
       "      <th></th>\n",
       "      <th>fp_morgan_1</th>\n",
       "      <th>fp_morgan_2</th>\n",
       "      <th>fp_morgan_3</th>\n",
       "      <th>fp_morgan_4</th>\n",
       "      <th>fp_morgan_5</th>\n",
       "      <th>fp_morgan_6</th>\n",
       "      <th>fp_morgan_7</th>\n",
       "      <th>fp_morgan_8</th>\n",
       "      <th>fp_morgan_9</th>\n",
       "      <th>fp_morgan_10</th>\n",
       "      <th>...</th>\n",
       "      <th>fp_morgan_16</th>\n",
       "      <th>fp_morgan_17</th>\n",
       "      <th>fp_morgan_18</th>\n",
       "      <th>fp_morgan_19</th>\n",
       "      <th>fp_morgan_20</th>\n",
       "      <th>fp_morgan_21</th>\n",
       "      <th>fp_morgan_22</th>\n",
       "      <th>fp_morgan_23</th>\n",
       "      <th>fp_morgan_24</th>\n",
       "      <th>fp_morgan_25</th>\n",
       "    </tr>\n",
       "  </thead>\n",
       "  <tbody>\n",
       "    <tr>\n",
       "      <th>0</th>\n",
       "      <td>0.0</td>\n",
       "      <td>0.0</td>\n",
       "      <td>0.0</td>\n",
       "      <td>0.0</td>\n",
       "      <td>0.0</td>\n",
       "      <td>0.0</td>\n",
       "      <td>0.0</td>\n",
       "      <td>0.0</td>\n",
       "      <td>1.0</td>\n",
       "      <td>1.0</td>\n",
       "      <td>...</td>\n",
       "      <td>0.0</td>\n",
       "      <td>1.0</td>\n",
       "      <td>0.0</td>\n",
       "      <td>1.0</td>\n",
       "      <td>1.0</td>\n",
       "      <td>1.0</td>\n",
       "      <td>0.0</td>\n",
       "      <td>1.0</td>\n",
       "      <td>1.0</td>\n",
       "      <td>0.0</td>\n",
       "    </tr>\n",
       "    <tr>\n",
       "      <th>1</th>\n",
       "      <td>0.0</td>\n",
       "      <td>0.0</td>\n",
       "      <td>0.0</td>\n",
       "      <td>0.0</td>\n",
       "      <td>0.0</td>\n",
       "      <td>0.0</td>\n",
       "      <td>0.0</td>\n",
       "      <td>1.0</td>\n",
       "      <td>1.0</td>\n",
       "      <td>1.0</td>\n",
       "      <td>...</td>\n",
       "      <td>0.0</td>\n",
       "      <td>1.0</td>\n",
       "      <td>0.0</td>\n",
       "      <td>0.0</td>\n",
       "      <td>1.0</td>\n",
       "      <td>1.0</td>\n",
       "      <td>0.0</td>\n",
       "      <td>0.0</td>\n",
       "      <td>1.0</td>\n",
       "      <td>0.0</td>\n",
       "    </tr>\n",
       "    <tr>\n",
       "      <th>2</th>\n",
       "      <td>0.0</td>\n",
       "      <td>0.0</td>\n",
       "      <td>0.0</td>\n",
       "      <td>0.0</td>\n",
       "      <td>0.0</td>\n",
       "      <td>0.0</td>\n",
       "      <td>0.0</td>\n",
       "      <td>0.0</td>\n",
       "      <td>1.0</td>\n",
       "      <td>1.0</td>\n",
       "      <td>...</td>\n",
       "      <td>0.0</td>\n",
       "      <td>1.0</td>\n",
       "      <td>0.0</td>\n",
       "      <td>1.0</td>\n",
       "      <td>1.0</td>\n",
       "      <td>1.0</td>\n",
       "      <td>0.0</td>\n",
       "      <td>0.0</td>\n",
       "      <td>0.0</td>\n",
       "      <td>0.0</td>\n",
       "    </tr>\n",
       "    <tr>\n",
       "      <th>3</th>\n",
       "      <td>1.0</td>\n",
       "      <td>0.0</td>\n",
       "      <td>0.0</td>\n",
       "      <td>0.0</td>\n",
       "      <td>0.0</td>\n",
       "      <td>0.0</td>\n",
       "      <td>0.0</td>\n",
       "      <td>0.0</td>\n",
       "      <td>1.0</td>\n",
       "      <td>1.0</td>\n",
       "      <td>...</td>\n",
       "      <td>0.0</td>\n",
       "      <td>1.0</td>\n",
       "      <td>0.0</td>\n",
       "      <td>0.0</td>\n",
       "      <td>1.0</td>\n",
       "      <td>1.0</td>\n",
       "      <td>0.0</td>\n",
       "      <td>1.0</td>\n",
       "      <td>0.0</td>\n",
       "      <td>1.0</td>\n",
       "    </tr>\n",
       "    <tr>\n",
       "      <th>4</th>\n",
       "      <td>NaN</td>\n",
       "      <td>NaN</td>\n",
       "      <td>NaN</td>\n",
       "      <td>NaN</td>\n",
       "      <td>NaN</td>\n",
       "      <td>NaN</td>\n",
       "      <td>NaN</td>\n",
       "      <td>NaN</td>\n",
       "      <td>NaN</td>\n",
       "      <td>NaN</td>\n",
       "      <td>...</td>\n",
       "      <td>NaN</td>\n",
       "      <td>NaN</td>\n",
       "      <td>NaN</td>\n",
       "      <td>NaN</td>\n",
       "      <td>NaN</td>\n",
       "      <td>NaN</td>\n",
       "      <td>NaN</td>\n",
       "      <td>NaN</td>\n",
       "      <td>NaN</td>\n",
       "      <td>NaN</td>\n",
       "    </tr>\n",
       "    <tr>\n",
       "      <th>5</th>\n",
       "      <td>NaN</td>\n",
       "      <td>NaN</td>\n",
       "      <td>NaN</td>\n",
       "      <td>NaN</td>\n",
       "      <td>NaN</td>\n",
       "      <td>NaN</td>\n",
       "      <td>NaN</td>\n",
       "      <td>NaN</td>\n",
       "      <td>NaN</td>\n",
       "      <td>NaN</td>\n",
       "      <td>...</td>\n",
       "      <td>NaN</td>\n",
       "      <td>NaN</td>\n",
       "      <td>NaN</td>\n",
       "      <td>NaN</td>\n",
       "      <td>NaN</td>\n",
       "      <td>NaN</td>\n",
       "      <td>NaN</td>\n",
       "      <td>NaN</td>\n",
       "      <td>NaN</td>\n",
       "      <td>NaN</td>\n",
       "    </tr>\n",
       "  </tbody>\n",
       "</table>\n",
       "<p>6 rows × 25 columns</p>\n",
       "</div>"
      ],
      "text/plain": [
       "   fp_morgan_1  fp_morgan_2  fp_morgan_3  fp_morgan_4  fp_morgan_5  \\\n",
       "0          0.0          0.0          0.0          0.0          0.0   \n",
       "1          0.0          0.0          0.0          0.0          0.0   \n",
       "2          0.0          0.0          0.0          0.0          0.0   \n",
       "3          1.0          0.0          0.0          0.0          0.0   \n",
       "4          NaN          NaN          NaN          NaN          NaN   \n",
       "5          NaN          NaN          NaN          NaN          NaN   \n",
       "\n",
       "   fp_morgan_6  fp_morgan_7  fp_morgan_8  fp_morgan_9  fp_morgan_10  ...  \\\n",
       "0          0.0          0.0          0.0          1.0           1.0  ...   \n",
       "1          0.0          0.0          1.0          1.0           1.0  ...   \n",
       "2          0.0          0.0          0.0          1.0           1.0  ...   \n",
       "3          0.0          0.0          0.0          1.0           1.0  ...   \n",
       "4          NaN          NaN          NaN          NaN           NaN  ...   \n",
       "5          NaN          NaN          NaN          NaN           NaN  ...   \n",
       "\n",
       "   fp_morgan_16  fp_morgan_17  fp_morgan_18  fp_morgan_19  fp_morgan_20  \\\n",
       "0           0.0           1.0           0.0           1.0           1.0   \n",
       "1           0.0           1.0           0.0           0.0           1.0   \n",
       "2           0.0           1.0           0.0           1.0           1.0   \n",
       "3           0.0           1.0           0.0           0.0           1.0   \n",
       "4           NaN           NaN           NaN           NaN           NaN   \n",
       "5           NaN           NaN           NaN           NaN           NaN   \n",
       "\n",
       "   fp_morgan_21  fp_morgan_22  fp_morgan_23  fp_morgan_24  fp_morgan_25  \n",
       "0           1.0           0.0           1.0           1.0           0.0  \n",
       "1           1.0           0.0           0.0           1.0           0.0  \n",
       "2           1.0           0.0           0.0           0.0           0.0  \n",
       "3           1.0           0.0           1.0           0.0           1.0  \n",
       "4           NaN           NaN           NaN           NaN           NaN  \n",
       "5           NaN           NaN           NaN           NaN           NaN  \n",
       "\n",
       "[6 rows x 25 columns]"
      ]
     },
     "execution_count": 8,
     "metadata": {},
     "output_type": "execute_result"
    }
   ],
   "source": [
    "fps = mfp.transform(mols_with_invalid)\n",
    "fps"
   ]
  },
  {
   "cell_type": "markdown",
   "id": "b87b46b3",
   "metadata": {},
   "source": [
    "The second output is no longer integers, but floats. As most sklearn models cast input arrays to float32 internally, this difference is likely benign, but that's not guaranteed! Thus if you want to use pandas output for your production models, do check that the final outputs are the same for the valid rows, with and without a single invalid row. Alternatively the dtype for the output of the transformer can be switched to float for consistency if its supported by the transformer."
   ]
  },
  {
   "cell_type": "code",
   "execution_count": 9,
   "id": "bbfe1ec0",
   "metadata": {
    "execution": {
     "iopub.execute_input": "2024-11-24T09:28:45.380434Z",
     "iopub.status.busy": "2024-11-24T09:28:45.380233Z",
     "iopub.status.idle": "2024-11-24T09:28:45.393639Z",
     "shell.execute_reply": "2024-11-24T09:28:45.393095Z"
    }
   },
   "outputs": [
    {
     "name": "stderr",
     "output_type": "stream",
     "text": [
      "/home/esben/git/scikit-mol/scikit_mol/fingerprints/morgan.py:69: DeprecationWarning: dtype is no longer supported, due to move to generator based fingerprints\n",
      "  self.dtype = dtype\n"
     ]
    },
    {
     "data": {
      "text/html": [
       "<div>\n",
       "<style scoped>\n",
       "    .dataframe tbody tr th:only-of-type {\n",
       "        vertical-align: middle;\n",
       "    }\n",
       "\n",
       "    .dataframe tbody tr th {\n",
       "        vertical-align: top;\n",
       "    }\n",
       "\n",
       "    .dataframe thead th {\n",
       "        text-align: right;\n",
       "    }\n",
       "</style>\n",
       "<table border=\"1\" class=\"dataframe\">\n",
       "  <thead>\n",
       "    <tr style=\"text-align: right;\">\n",
       "      <th></th>\n",
       "      <th>fp_morgan_1</th>\n",
       "      <th>fp_morgan_2</th>\n",
       "      <th>fp_morgan_3</th>\n",
       "      <th>fp_morgan_4</th>\n",
       "      <th>fp_morgan_5</th>\n",
       "      <th>fp_morgan_6</th>\n",
       "      <th>fp_morgan_7</th>\n",
       "      <th>fp_morgan_8</th>\n",
       "      <th>fp_morgan_9</th>\n",
       "      <th>fp_morgan_10</th>\n",
       "      <th>...</th>\n",
       "      <th>fp_morgan_16</th>\n",
       "      <th>fp_morgan_17</th>\n",
       "      <th>fp_morgan_18</th>\n",
       "      <th>fp_morgan_19</th>\n",
       "      <th>fp_morgan_20</th>\n",
       "      <th>fp_morgan_21</th>\n",
       "      <th>fp_morgan_22</th>\n",
       "      <th>fp_morgan_23</th>\n",
       "      <th>fp_morgan_24</th>\n",
       "      <th>fp_morgan_25</th>\n",
       "    </tr>\n",
       "  </thead>\n",
       "  <tbody>\n",
       "    <tr>\n",
       "      <th>0</th>\n",
       "      <td>0</td>\n",
       "      <td>0</td>\n",
       "      <td>0</td>\n",
       "      <td>0</td>\n",
       "      <td>0</td>\n",
       "      <td>0</td>\n",
       "      <td>0</td>\n",
       "      <td>0</td>\n",
       "      <td>1</td>\n",
       "      <td>1</td>\n",
       "      <td>...</td>\n",
       "      <td>0</td>\n",
       "      <td>1</td>\n",
       "      <td>0</td>\n",
       "      <td>1</td>\n",
       "      <td>1</td>\n",
       "      <td>1</td>\n",
       "      <td>0</td>\n",
       "      <td>1</td>\n",
       "      <td>1</td>\n",
       "      <td>0</td>\n",
       "    </tr>\n",
       "    <tr>\n",
       "      <th>1</th>\n",
       "      <td>0</td>\n",
       "      <td>0</td>\n",
       "      <td>0</td>\n",
       "      <td>0</td>\n",
       "      <td>0</td>\n",
       "      <td>0</td>\n",
       "      <td>0</td>\n",
       "      <td>1</td>\n",
       "      <td>1</td>\n",
       "      <td>1</td>\n",
       "      <td>...</td>\n",
       "      <td>0</td>\n",
       "      <td>1</td>\n",
       "      <td>0</td>\n",
       "      <td>0</td>\n",
       "      <td>1</td>\n",
       "      <td>1</td>\n",
       "      <td>0</td>\n",
       "      <td>0</td>\n",
       "      <td>1</td>\n",
       "      <td>0</td>\n",
       "    </tr>\n",
       "    <tr>\n",
       "      <th>2</th>\n",
       "      <td>0</td>\n",
       "      <td>0</td>\n",
       "      <td>0</td>\n",
       "      <td>0</td>\n",
       "      <td>0</td>\n",
       "      <td>0</td>\n",
       "      <td>0</td>\n",
       "      <td>0</td>\n",
       "      <td>1</td>\n",
       "      <td>1</td>\n",
       "      <td>...</td>\n",
       "      <td>0</td>\n",
       "      <td>1</td>\n",
       "      <td>0</td>\n",
       "      <td>1</td>\n",
       "      <td>1</td>\n",
       "      <td>1</td>\n",
       "      <td>0</td>\n",
       "      <td>0</td>\n",
       "      <td>0</td>\n",
       "      <td>0</td>\n",
       "    </tr>\n",
       "    <tr>\n",
       "      <th>3</th>\n",
       "      <td>1</td>\n",
       "      <td>0</td>\n",
       "      <td>0</td>\n",
       "      <td>0</td>\n",
       "      <td>0</td>\n",
       "      <td>0</td>\n",
       "      <td>0</td>\n",
       "      <td>0</td>\n",
       "      <td>1</td>\n",
       "      <td>1</td>\n",
       "      <td>...</td>\n",
       "      <td>0</td>\n",
       "      <td>1</td>\n",
       "      <td>0</td>\n",
       "      <td>0</td>\n",
       "      <td>1</td>\n",
       "      <td>1</td>\n",
       "      <td>0</td>\n",
       "      <td>1</td>\n",
       "      <td>0</td>\n",
       "      <td>1</td>\n",
       "    </tr>\n",
       "  </tbody>\n",
       "</table>\n",
       "<p>4 rows × 25 columns</p>\n",
       "</div>"
      ],
      "text/plain": [
       "   fp_morgan_1  fp_morgan_2  fp_morgan_3  fp_morgan_4  fp_morgan_5  \\\n",
       "0            0            0            0            0            0   \n",
       "1            0            0            0            0            0   \n",
       "2            0            0            0            0            0   \n",
       "3            1            0            0            0            0   \n",
       "\n",
       "   fp_morgan_6  fp_morgan_7  fp_morgan_8  fp_morgan_9  fp_morgan_10  ...  \\\n",
       "0            0            0            0            1             1  ...   \n",
       "1            0            0            1            1             1  ...   \n",
       "2            0            0            0            1             1  ...   \n",
       "3            0            0            0            1             1  ...   \n",
       "\n",
       "   fp_morgan_16  fp_morgan_17  fp_morgan_18  fp_morgan_19  fp_morgan_20  \\\n",
       "0             0             1             0             1             1   \n",
       "1             0             1             0             0             1   \n",
       "2             0             1             0             1             1   \n",
       "3             0             1             0             0             1   \n",
       "\n",
       "   fp_morgan_21  fp_morgan_22  fp_morgan_23  fp_morgan_24  fp_morgan_25  \n",
       "0             1             0             1             1             0  \n",
       "1             1             0             0             1             0  \n",
       "2             1             0             0             0             0  \n",
       "3             1             0             1             0             1  \n",
       "\n",
       "[4 rows x 25 columns]"
      ]
     },
     "execution_count": 9,
     "metadata": {},
     "output_type": "execute_result"
    }
   ],
   "source": [
    "mfp_float = MorganFingerprintTransformer(\n",
    "    radius=2, fpSize=25, safe_inference_mode=True, dtype=np.float32\n",
    ")\n",
    "mfp_float.set_output(transform=\"pandas\")\n",
    "fps = mfp_float.transform(mols)\n",
    "fps"
   ]
  },
  {
   "cell_type": "markdown",
   "id": "2c7b382c",
   "metadata": {},
   "source": [
    "I hope this new feature of Scikit-Mol will make it even easier to handle models, even when used in environments without SMILES or molecule validity guarantees."
   ]
  }
 ],
 "metadata": {
  "jupytext": {
   "formats": "ipynb,py:percent"
  },
  "kernelspec": {
   "display_name": "vscode",
   "language": "python",
   "name": "python3"
  },
  "language_info": {
   "codemirror_mode": {
    "name": "ipython",
    "version": 3
   },
   "file_extension": ".py",
   "mimetype": "text/x-python",
   "name": "python",
   "nbconvert_exporter": "python",
   "pygments_lexer": "ipython3",
   "version": "3.10.12"
  }
 },
 "nbformat": 4,
 "nbformat_minor": 5
}
