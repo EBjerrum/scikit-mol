{
 "cells": [
  {
   "cell_type": "code",
   "execution_count": 1,
   "id": "7111cd27",
   "metadata": {
    "title": "Needs scikit-optimize"
   },
   "outputs": [
    {
     "name": "stdout",
     "output_type": "stream",
     "text": [
      "Requirement already satisfied: scikit-optimize in /home/esben/python_envs/vscode/lib/python3.10/site-packages (0.10.1)\n",
      "Requirement already satisfied: packaging>=21.3 in /home/esben/python_envs/vscode/lib/python3.10/site-packages (from scikit-optimize) (23.2)\n",
      "Requirement already satisfied: pyaml>=16.9 in /home/esben/python_envs/vscode/lib/python3.10/site-packages (from scikit-optimize) (23.12.0)\n",
      "Requirement already satisfied: joblib>=0.11 in /home/esben/python_envs/vscode/lib/python3.10/site-packages (from scikit-optimize) (1.3.2)\n",
      "Requirement already satisfied: scikit-learn>=1.0.0 in /home/esben/python_envs/vscode/lib/python3.10/site-packages (from scikit-optimize) (1.3.1)\n",
      "Requirement already satisfied: scipy>=1.1.0 in /home/esben/python_envs/vscode/lib/python3.10/site-packages (from scikit-optimize) (1.11.3)\n",
      "Requirement already satisfied: numpy>=1.20.3 in /home/esben/python_envs/vscode/lib/python3.10/site-packages (from scikit-optimize) (1.26.0)\n",
      "Requirement already satisfied: PyYAML in /home/esben/python_envs/vscode/lib/python3.10/site-packages (from pyaml>=16.9->scikit-optimize) (6.0.1)\n",
      "Requirement already satisfied: threadpoolctl>=2.0.0 in /home/esben/python_envs/vscode/lib/python3.10/site-packages (from scikit-learn>=1.0.0->scikit-optimize) (3.2.0)\n"
     ]
    }
   ],
   "source": [
    "!pip install scikit-optimize"
   ]
  },
  {
   "cell_type": "code",
   "execution_count": 2,
   "id": "5648edb8",
   "metadata": {
    "lines_to_next_cell": 0
   },
   "outputs": [],
   "source": [
    "import os\n",
    "import numpy as np\n",
    "import pandas as pd"
   ]
  },
  {
   "cell_type": "code",
   "execution_count": 3,
   "id": "6825d2cd",
   "metadata": {},
   "outputs": [],
   "source": [
    "from sklearn.linear_model import Ridge\n",
    "from sklearn.model_selection import cross_val_score\n",
    "\n",
    "from scikit_mol.fingerprints import MorganFingerprintTransformer\n",
    "from scikit_mol.conversions import SmilesToMolTransformer\n",
    "\n",
    "from sklearn.pipeline import make_pipeline"
   ]
  },
  {
   "cell_type": "code",
   "execution_count": 4,
   "id": "12f97eb7",
   "metadata": {
    "lines_to_next_cell": 0
   },
   "outputs": [],
   "source": [
    "from skopt.space import Real, Integer, Categorical\n",
    "from skopt.utils import use_named_args\n",
    "\n",
    "from skopt import gp_minimize"
   ]
  },
  {
   "cell_type": "code",
   "execution_count": 5,
   "id": "3e9f36e9",
   "metadata": {},
   "outputs": [],
   "source": [
    "full_set = False\n",
    "\n",
    "if full_set:\n",
    "    csv_file = \"SLC6A4_active_excape_export.csv\"\n",
    "    if not os.path.exists(csv_file):\n",
    "        import urllib.request\n",
    "        url = \"https://ndownloader.figshare.com/files/25747817\"\n",
    "        urllib.request.urlretrieve(url, csv_file)\n",
    "else:\n",
    "    csv_file = '../tests/data/SLC6A4_active_excapedb_subset.csv'\n",
    "\n",
    "data = pd.read_csv(csv_file)\n",
    "trf = SmilesToMolTransformer()\n",
    "data['ROMol'] = trf.transform(data.SMILES.values).flatten()"
   ]
  },
  {
   "cell_type": "code",
   "execution_count": 6,
   "id": "67d54492",
   "metadata": {
    "lines_to_next_cell": 0
   },
   "outputs": [
    {
     "data": {
      "text/html": [
       "<style>#sk-container-id-1 {color: black;}#sk-container-id-1 pre{padding: 0;}#sk-container-id-1 div.sk-toggleable {background-color: white;}#sk-container-id-1 label.sk-toggleable__label {cursor: pointer;display: block;width: 100%;margin-bottom: 0;padding: 0.3em;box-sizing: border-box;text-align: center;}#sk-container-id-1 label.sk-toggleable__label-arrow:before {content: \"▸\";float: left;margin-right: 0.25em;color: #696969;}#sk-container-id-1 label.sk-toggleable__label-arrow:hover:before {color: black;}#sk-container-id-1 div.sk-estimator:hover label.sk-toggleable__label-arrow:before {color: black;}#sk-container-id-1 div.sk-toggleable__content {max-height: 0;max-width: 0;overflow: hidden;text-align: left;background-color: #f0f8ff;}#sk-container-id-1 div.sk-toggleable__content pre {margin: 0.2em;color: black;border-radius: 0.25em;background-color: #f0f8ff;}#sk-container-id-1 input.sk-toggleable__control:checked~div.sk-toggleable__content {max-height: 200px;max-width: 100%;overflow: auto;}#sk-container-id-1 input.sk-toggleable__control:checked~label.sk-toggleable__label-arrow:before {content: \"▾\";}#sk-container-id-1 div.sk-estimator input.sk-toggleable__control:checked~label.sk-toggleable__label {background-color: #d4ebff;}#sk-container-id-1 div.sk-label input.sk-toggleable__control:checked~label.sk-toggleable__label {background-color: #d4ebff;}#sk-container-id-1 input.sk-hidden--visually {border: 0;clip: rect(1px 1px 1px 1px);clip: rect(1px, 1px, 1px, 1px);height: 1px;margin: -1px;overflow: hidden;padding: 0;position: absolute;width: 1px;}#sk-container-id-1 div.sk-estimator {font-family: monospace;background-color: #f0f8ff;border: 1px dotted black;border-radius: 0.25em;box-sizing: border-box;margin-bottom: 0.5em;}#sk-container-id-1 div.sk-estimator:hover {background-color: #d4ebff;}#sk-container-id-1 div.sk-parallel-item::after {content: \"\";width: 100%;border-bottom: 1px solid gray;flex-grow: 1;}#sk-container-id-1 div.sk-label:hover label.sk-toggleable__label {background-color: #d4ebff;}#sk-container-id-1 div.sk-serial::before {content: \"\";position: absolute;border-left: 1px solid gray;box-sizing: border-box;top: 0;bottom: 0;left: 50%;z-index: 0;}#sk-container-id-1 div.sk-serial {display: flex;flex-direction: column;align-items: center;background-color: white;padding-right: 0.2em;padding-left: 0.2em;position: relative;}#sk-container-id-1 div.sk-item {position: relative;z-index: 1;}#sk-container-id-1 div.sk-parallel {display: flex;align-items: stretch;justify-content: center;background-color: white;position: relative;}#sk-container-id-1 div.sk-item::before, #sk-container-id-1 div.sk-parallel-item::before {content: \"\";position: absolute;border-left: 1px solid gray;box-sizing: border-box;top: 0;bottom: 0;left: 50%;z-index: -1;}#sk-container-id-1 div.sk-parallel-item {display: flex;flex-direction: column;z-index: 1;position: relative;background-color: white;}#sk-container-id-1 div.sk-parallel-item:first-child::after {align-self: flex-end;width: 50%;}#sk-container-id-1 div.sk-parallel-item:last-child::after {align-self: flex-start;width: 50%;}#sk-container-id-1 div.sk-parallel-item:only-child::after {width: 0;}#sk-container-id-1 div.sk-dashed-wrapped {border: 1px dashed gray;margin: 0 0.4em 0.5em 0.4em;box-sizing: border-box;padding-bottom: 0.4em;background-color: white;}#sk-container-id-1 div.sk-label label {font-family: monospace;font-weight: bold;display: inline-block;line-height: 1.2em;}#sk-container-id-1 div.sk-label-container {text-align: center;}#sk-container-id-1 div.sk-container {/* jupyter's `normalize.less` sets `[hidden] { display: none; }` but bootstrap.min.css set `[hidden] { display: none !important; }` so we also need the `!important` here to be able to override the default hidden behavior on the sphinx rendered scikit-learn.org. See: https://github.com/scikit-learn/scikit-learn/issues/21755 */display: inline-block !important;position: relative;}#sk-container-id-1 div.sk-text-repr-fallback {display: none;}</style><div id=\"sk-container-id-1\" class=\"sk-top-container\"><div class=\"sk-text-repr-fallback\"><pre>Pipeline(steps=[(&#x27;morganfingerprinttransformer&#x27;,\n",
       "                 MorganFingerprintTransformer()),\n",
       "                (&#x27;ridge&#x27;, Ridge())])</pre><b>In a Jupyter environment, please rerun this cell to show the HTML representation or trust the notebook. <br />On GitHub, the HTML representation is unable to render, please try loading this page with nbviewer.org.</b></div><div class=\"sk-container\" hidden><div class=\"sk-item sk-dashed-wrapped\"><div class=\"sk-label-container\"><div class=\"sk-label sk-toggleable\"><input class=\"sk-toggleable__control sk-hidden--visually\" id=\"sk-estimator-id-1\" type=\"checkbox\" ><label for=\"sk-estimator-id-1\" class=\"sk-toggleable__label sk-toggleable__label-arrow\">Pipeline</label><div class=\"sk-toggleable__content\"><pre>Pipeline(steps=[(&#x27;morganfingerprinttransformer&#x27;,\n",
       "                 MorganFingerprintTransformer()),\n",
       "                (&#x27;ridge&#x27;, Ridge())])</pre></div></div></div><div class=\"sk-serial\"><div class=\"sk-item\"><div class=\"sk-estimator sk-toggleable\"><input class=\"sk-toggleable__control sk-hidden--visually\" id=\"sk-estimator-id-2\" type=\"checkbox\" ><label for=\"sk-estimator-id-2\" class=\"sk-toggleable__label sk-toggleable__label-arrow\">MorganFingerprintTransformer</label><div class=\"sk-toggleable__content\"><pre>MorganFingerprintTransformer()</pre></div></div></div><div class=\"sk-item\"><div class=\"sk-estimator sk-toggleable\"><input class=\"sk-toggleable__control sk-hidden--visually\" id=\"sk-estimator-id-3\" type=\"checkbox\" ><label for=\"sk-estimator-id-3\" class=\"sk-toggleable__label sk-toggleable__label-arrow\">Ridge</label><div class=\"sk-toggleable__content\"><pre>Ridge()</pre></div></div></div></div></div></div></div>"
      ],
      "text/plain": [
       "Pipeline(steps=[('morganfingerprinttransformer',\n",
       "                 MorganFingerprintTransformer()),\n",
       "                ('ridge', Ridge())])"
      ]
     },
     "execution_count": 6,
     "metadata": {},
     "output_type": "execute_result"
    }
   ],
   "source": [
    "pipe = make_pipeline(MorganFingerprintTransformer(), Ridge())\n",
    "pipe"
   ]
  },
  {
   "cell_type": "code",
   "execution_count": 7,
   "id": "e3ce7fc0",
   "metadata": {},
   "outputs": [
    {
     "name": "stdout",
     "output_type": "stream",
     "text": [
      "{'memory': None, 'steps': [('morganfingerprinttransformer', MorganFingerprintTransformer()), ('ridge', Ridge())], 'verbose': False, 'morganfingerprinttransformer': MorganFingerprintTransformer(), 'ridge': Ridge(), 'morganfingerprinttransformer__nBits': 2048, 'morganfingerprinttransformer__parallel': False, 'morganfingerprinttransformer__radius': 2, 'morganfingerprinttransformer__useBondTypes': True, 'morganfingerprinttransformer__useChirality': False, 'morganfingerprinttransformer__useCounts': False, 'morganfingerprinttransformer__useFeatures': False, 'ridge__alpha': 1.0, 'ridge__copy_X': True, 'ridge__fit_intercept': True, 'ridge__max_iter': None, 'ridge__positive': False, 'ridge__random_state': None, 'ridge__solver': 'auto', 'ridge__tol': 0.0001}\n"
     ]
    }
   ],
   "source": [
    "print(pipe.get_params())"
   ]
  },
  {
   "cell_type": "code",
   "execution_count": 8,
   "id": "0a155dd3",
   "metadata": {
    "lines_to_next_cell": 0
   },
   "outputs": [],
   "source": [
    "max_bits = 4096\n",
    "\n",
    "morgan_space = [\n",
    "    Categorical([True, False], name='morganfingerprinttransformer__useCounts'),\n",
    "    Categorical([True, False], name='morganfingerprinttransformer__useFeatures'),\n",
    "    Integer(512,max_bits, name='morganfingerprinttransformer__nBits'),\n",
    "    Integer(1,3, name='morganfingerprinttransformer__radius')\n",
    "]\n",
    "\n",
    "\n",
    "regressor_space = [Real(1e-2, 1e3, \"log-uniform\", name='ridge__alpha')]\n",
    "\n",
    "search_space = morgan_space + regressor_space"
   ]
  },
  {
   "cell_type": "code",
   "execution_count": 9,
   "id": "abb750a3",
   "metadata": {
    "lines_to_next_cell": 0
   },
   "outputs": [],
   "source": [
    "@use_named_args(search_space)\n",
    "def objective(**params):\n",
    "    for key, value in params.items():\n",
    "        print(f\"{key}:{value} - {type(value)}\")\n",
    "    pipe.set_params(**params)\n",
    "\n",
    "    return -np.mean(cross_val_score(pipe, data.ROMol, data.pXC50, cv=2, n_jobs=-1,\n",
    "                                    scoring=\"neg_mean_absolute_error\"))"
   ]
  },
  {
   "cell_type": "code",
   "execution_count": 10,
   "id": "8b6a546c",
   "metadata": {
    "lines_to_next_cell": 0,
    "title": "THIS takes forever on my machine with a GradientBoostingRegressor"
   },
   "outputs": [
    {
     "name": "stdout",
     "output_type": "stream",
     "text": [
      "morganfingerprinttransformer__useCounts:False - <class 'bool'>\n",
      "morganfingerprinttransformer__useFeatures:False - <class 'bool'>\n",
      "morganfingerprinttransformer__nBits:3587 - <class 'numpy.int64'>\n",
      "morganfingerprinttransformer__radius:3 - <class 'numpy.int64'>\n",
      "ridge__alpha:13.116515715358098 - <class 'float'>\n"
     ]
    },
    {
     "name": "stdout",
     "output_type": "stream",
     "text": [
      "morganfingerprinttransformer__useCounts:True - <class 'bool'>\n",
      "morganfingerprinttransformer__useFeatures:True - <class 'bool'>\n",
      "morganfingerprinttransformer__nBits:715 - <class 'numpy.int64'>\n",
      "morganfingerprinttransformer__radius:2 - <class 'numpy.int64'>\n",
      "ridge__alpha:2.445263057083992 - <class 'float'>\n",
      "morganfingerprinttransformer__useCounts:False - <class 'bool'>\n",
      "morganfingerprinttransformer__useFeatures:True - <class 'bool'>\n",
      "morganfingerprinttransformer__nBits:1920 - <class 'numpy.int64'>\n",
      "morganfingerprinttransformer__radius:3 - <class 'numpy.int64'>\n",
      "ridge__alpha:0.48638570461894715 - <class 'float'>\n",
      "morganfingerprinttransformer__useCounts:False - <class 'bool'>\n",
      "morganfingerprinttransformer__useFeatures:True - <class 'bool'>\n",
      "morganfingerprinttransformer__nBits:3942 - <class 'numpy.int64'>\n",
      "morganfingerprinttransformer__radius:1 - <class 'numpy.int64'>\n",
      "ridge__alpha:224.09712855921126 - <class 'float'>\n",
      "morganfingerprinttransformer__useCounts:True - <class 'bool'>\n",
      "morganfingerprinttransformer__useFeatures:False - <class 'bool'>\n",
      "morganfingerprinttransformer__nBits:2377 - <class 'numpy.int64'>\n",
      "morganfingerprinttransformer__radius:2 - <class 'numpy.int64'>\n",
      "ridge__alpha:40.10174523739503 - <class 'float'>\n",
      "morganfingerprinttransformer__useCounts:False - <class 'bool'>\n",
      "morganfingerprinttransformer__useFeatures:False - <class 'bool'>\n",
      "morganfingerprinttransformer__nBits:3231 - <class 'numpy.int64'>\n",
      "morganfingerprinttransformer__radius:1 - <class 'numpy.int64'>\n",
      "ridge__alpha:2.333469328026273 - <class 'float'>\n",
      "morganfingerprinttransformer__useCounts:True - <class 'bool'>\n",
      "morganfingerprinttransformer__useFeatures:False - <class 'bool'>\n",
      "morganfingerprinttransformer__nBits:1288 - <class 'numpy.int64'>\n",
      "morganfingerprinttransformer__radius:1 - <class 'numpy.int64'>\n",
      "ridge__alpha:0.41754668393896904 - <class 'float'>\n",
      "morganfingerprinttransformer__useCounts:True - <class 'bool'>\n",
      "morganfingerprinttransformer__useFeatures:True - <class 'bool'>\n",
      "morganfingerprinttransformer__nBits:1897 - <class 'numpy.int64'>\n",
      "morganfingerprinttransformer__radius:3 - <class 'numpy.int64'>\n",
      "ridge__alpha:1.777255838269662 - <class 'float'>\n",
      "morganfingerprinttransformer__useCounts:False - <class 'bool'>\n",
      "morganfingerprinttransformer__useFeatures:False - <class 'bool'>\n",
      "morganfingerprinttransformer__nBits:868 - <class 'numpy.int64'>\n",
      "morganfingerprinttransformer__radius:3 - <class 'numpy.int64'>\n",
      "ridge__alpha:18.43742127649598 - <class 'float'>\n",
      "morganfingerprinttransformer__useCounts:True - <class 'bool'>\n",
      "morganfingerprinttransformer__useFeatures:True - <class 'bool'>\n",
      "morganfingerprinttransformer__nBits:3202 - <class 'numpy.int64'>\n",
      "morganfingerprinttransformer__radius:2 - <class 'numpy.int64'>\n",
      "ridge__alpha:0.4219258607446576 - <class 'float'>\n"
     ]
    },
    {
     "data": {
      "text/plain": [
       "'Best score=0.5968'"
      ]
     },
     "execution_count": 10,
     "metadata": {},
     "output_type": "execute_result"
    }
   ],
   "source": [
    "\n",
    "pipe_gp = gp_minimize(objective, search_space, n_calls=10, random_state=0)\n",
    "\"Best score=%.4f\" % pipe_gp.fun"
   ]
  },
  {
   "cell_type": "code",
   "execution_count": 11,
   "id": "243f5309",
   "metadata": {
    "lines_to_next_cell": 0
   },
   "outputs": [
    {
     "name": "stdout",
     "output_type": "stream",
     "text": [
      "Best parameters:\n",
      "{'morganfingerprinttransformer__useCounts': False, 'morganfingerprinttransformer__useFeatures': False, 'morganfingerprinttransformer__nBits': 3231, 'morganfingerprinttransformer__radius': 1, 'ridge__alpha': 2.333469328026273}\n"
     ]
    }
   ],
   "source": [
    "print(\"\"\"Best parameters:\"\"\")\n",
    "print({param.name:value for param,value in zip(pipe_gp.space, pipe_gp.x) })"
   ]
  },
  {
   "cell_type": "code",
   "execution_count": 12,
   "id": "b95b09d1",
   "metadata": {},
   "outputs": [
    {
     "data": {
      "text/plain": [
       "<Axes: title={'center': 'Convergence plot'}, xlabel='Number of calls $n$', ylabel='$\\\\min f(x)$ after $n$ calls'>"
      ]
     },
     "execution_count": 12,
     "metadata": {},
     "output_type": "execute_result"
    },
    {
     "data": {
      "image/png": "[encoded data removed]",
      "text/plain": [
       "<Figure size 640x480 with 1 Axes>"
      ]
     },
     "metadata": {},
     "output_type": "display_data"
    }
   ],
   "source": [
    "from skopt.plots import plot_convergence\n",
    "plot_convergence(pipe_gp)"
   ]
  },
  {
   "cell_type": "code",
   "execution_count": null,
   "id": "8371d672",
   "metadata": {},
   "outputs": [],
   "source": []
  }
 ],
 "metadata": {
  "jupytext": {
   "cell_metadata_filter": "title,-all",
   "formats": "ipynb,py:percent",
   "main_language": "python"
  },
  "kernelspec": {
   "display_name": "vscode",
   "language": "python",
   "name": "python3"
  },
  "language_info": {
   "codemirror_mode": {
    "name": "ipython",
    "version": 3
   },
   "file_extension": ".py",
   "mimetype": "text/x-python",
   "name": "python",
   "nbconvert_exporter": "python",
   "pygments_lexer": "ipython3",
   "version": "3.10.12"
  }
 },
 "nbformat": 4,
 "nbformat_minor": 5
}
