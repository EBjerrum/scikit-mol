{
 "cells": [
  {
   "cell_type": "markdown",
   "id": "73523f92",
   "metadata": {},
   "source": [
    "# Scikit-Mol\n",
    "## scikit-learn compatible RDKit transformers\n",
    "\n",
    "Scikit-mol is a collection of scikit-learn compatible transformer classes that integrate into the scikit-learn framework and thus bridge between the molecular information in form of RDKit molecules or SMILES and the machine learning framework from scikit-learn\n"
   ]
  },
  {
   "cell_type": "markdown",
   "id": "a23e85c0",
   "metadata": {},
   "source": [
    "The transformer classes are easy to load, configure and use to process molecular information into vectorized formats using fingerprinters or collections of descriptors. For demonstration purposes, let's load a MorganTransformer, that can convert a list of RDKit molecular objects into a numpy array of morgan fingerprints. First create some molecules from SMILES strings."
   ]
  },
  {
   "cell_type": "code",
   "execution_count": null,
   "id": "146e0986",
   "metadata": {},
   "outputs": [],
   "source": [
    "from rdkit import Chem\n",
    "\n",
    "smiles_strings = [\"C12C([C@@H](OC(C=3C=CC(=CC3)F)C=4C=CC(=CC4)F)CC(N1CCCCCC5=CC=CC=C5)CC2)C(=O)OC\", \n",
    "\"O(C1=NC=C2C(CN(CC2=C1)C)C3=CC=C(OC)C=C3)CCCN(CC)CC\",\n",
    "\"O=S(=O)(N(CC=1C=CC2=CC=CC=C2C1)[C@@H]3CCNC3)C\",\n",
    "\"C1(=C2C(CCCC2O)=NC=3C1=CC=CC3)NCC=4C=CC(=CC4)Cl\",\n",
    "\"C1NC[C@@H](C1)[C@H](OC=2C=CC(=NC2C)OC)CC(C)C\",\n",
    "\"FC(F)(F)C=1C(CN(C2CCNCC2)CC(CC)CC)=CC=CC1\"]\n",
    "\n",
    "mols = [Chem.MolFromSmiles(smiles) for smiles in smiles_strings]"
   ]
  },
  {
   "cell_type": "markdown",
   "id": "6b0f57df",
   "metadata": {},
   "source": [
    "Next we import the Morgan fingerprint transformer"
   ]
  },
  {
   "cell_type": "code",
   "execution_count": null,
   "id": "69a1e742",
   "metadata": {},
   "outputs": [],
   "source": [
    "from scikit_mol.transformers import MorganTransformer\n",
    "\n",
    "transformer = MorganTransformer(radius=3)\n",
    "transformer"
   ]
  },
  {
   "cell_type": "markdown",
   "id": "4771be4e",
   "metadata": {},
   "source": [
    "It renders as a cute little block in the jupyter notebook and lists the options that are not the default values. If we print it, it also gives the information on the settings."
   ]
  },
  {
   "cell_type": "code",
   "execution_count": null,
   "id": "5b11b679",
   "metadata": {},
   "outputs": [],
   "source": [
    "print(transformer)"
   ]
  },
  {
   "cell_type": "markdown",
   "id": "bdacd1be",
   "metadata": {},
   "source": [
    "If we want to get all the settings exlicitly, we can use the .get_params() method."
   ]
  },
  {
   "cell_type": "code",
   "execution_count": null,
   "id": "875bcb5c",
   "metadata": {},
   "outputs": [],
   "source": [
    "parameters = transformer.get_params()\n",
    "parameters"
   ]
  },
  {
   "cell_type": "markdown",
   "id": "c40b2e97",
   "metadata": {},
   "source": [
    "The corresponding .set_params() method can be used to update the settings from options or from a dictionary (via ** unpackaging). The get_params and set_params methods are sometimes used by sklearn by e.g. hyperparameter search objects."
   ]
  },
  {
   "cell_type": "code",
   "execution_count": null,
   "id": "7c483432",
   "metadata": {},
   "outputs": [],
   "source": [
    "parameters[\"radius\"] = 2\n",
    "parameters[\"nBits\"] = 256\n",
    "transformer.set_params(**parameters)\n",
    "transformer"
   ]
  },
  {
   "cell_type": "markdown",
   "id": "f415d9d3",
   "metadata": {},
   "source": [
    "Transformation is easy, simply use the .transform() method. For sklearn compatibility the scikit-learn transformers also have a .fit_transform() method, but it is usually not fitting anything."
   ]
  },
  {
   "cell_type": "code",
   "execution_count": null,
   "id": "c02716d7",
   "metadata": {},
   "outputs": [],
   "source": [
    "fps = transformer.transform(mols)\n",
    "print(f\"fps is a {type(fps)} with shape {fps.shape} and data type {fps.dtype}\")"
   ]
  },
  {
   "cell_type": "markdown",
   "id": "9b0835ed",
   "metadata": {},
   "source": [
    "For sklearn compatibility, the transform function can be given a second parameter, usually representing the targets in the machine learning, but it is simply ignored most of the time"
   ]
  },
  {
   "cell_type": "code",
   "execution_count": null,
   "id": "f957a045",
   "metadata": {},
   "outputs": [],
   "source": [
    "y = range(len(mols))\n",
    "transformer.transform(mols, y)"
   ]
  },
  {
   "cell_type": "markdown",
   "id": "0c58cdeb",
   "metadata": {},
   "source": [
    "Sometimes we may want to transform SMILES into molecules, and scikit-mol also has a transformer for that. It simply takes a list of SMILES and produces a list of RDKit molecules, this may come in handy when building pipelines for machine learning models, as we will demo in another notebook."
   ]
  },
  {
   "cell_type": "code",
   "execution_count": null,
   "id": "b567acfa",
   "metadata": {},
   "outputs": [],
   "source": [
    "from scikit_mol.transformers import SmilesToMol\n",
    "smi2mol = SmilesToMol()\n",
    "smi2mol"
   ]
  },
  {
   "cell_type": "code",
   "execution_count": null,
   "id": "0c8093fd",
   "metadata": {},
   "outputs": [],
   "source": [
    "smi2mol.transform(smiles_strings)"
   ]
  }
 ],
 "metadata": {
  "jupytext": {
   "formats": "ipynb,py:percent"
  },
  "kernelspec": {
   "display_name": "Python 3.9.4 ('rdkit')",
   "language": "python",
   "name": "python3"
  }
 },
 "nbformat": 4,
 "nbformat_minor": 5
}
