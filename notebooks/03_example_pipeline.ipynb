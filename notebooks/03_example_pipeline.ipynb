{
 "cells": [
  {
   "cell_type": "markdown",
   "metadata": {},
   "source": [
    "# Pipelining the scikit-mol transformer\n",
    "\n",
    "One of the very usable things with scikit-learn are their pipelines. With pipelines different scikit-learn transformers can be stacked and operated on just as a single model object. In this example we will build a simple model that can predict directly on RDKit molecules and then expand it to one that predicts directly on SMILES strings\n",
    "\n",
    "First some needed imports and a dataset"
   ]
  },
  {
   "cell_type": "code",
   "execution_count": 1,
   "metadata": {
    "execution": {
     "iopub.execute_input": "2022-12-09T17:05:22.596037Z",
     "iopub.status.busy": "2022-12-09T17:05:22.595197Z",
     "iopub.status.idle": "2022-12-09T17:05:23.571104Z",
     "shell.execute_reply": "2022-12-09T17:05:23.572385Z"
    }
   },
   "outputs": [],
   "source": [
    "import os\n",
    "import rdkit\n",
    "from rdkit import Chem\n",
    "from rdkit.Chem import PandasTools\n",
    "import pandas as pd\n",
    "import matplotlib.pyplot as plt\n",
    "from time import time\n",
    "import numpy as np"
   ]
  },
  {
   "cell_type": "code",
   "execution_count": 2,
   "metadata": {
    "execution": {
     "iopub.execute_input": "2022-12-09T17:05:23.578194Z",
     "iopub.status.busy": "2022-12-09T17:05:23.576362Z",
     "iopub.status.idle": "2022-12-09T17:05:23.587619Z",
     "shell.execute_reply": "2022-12-09T17:05:23.588644Z"
    },
    "lines_to_next_cell": 0
   },
   "outputs": [],
   "source": [
    "csv_file = \"../tests/data/SLC6A4_active_excapedb_subset.csv\" # Hmm, maybe better to download directly\n",
    "data = pd.read_csv(csv_file)"
   ]
  },
  {
   "cell_type": "markdown",
   "metadata": {},
   "source": [
    "The dataset is a subset of the SLC6A4 actives from ExcapeDB. They are hand selected to give test set performance despite the small size, and are provided as example data only and should not be used to build serious QSAR models.\n",
    "\n",
    "We add RDKit mol objects to the dataframe with pandastools and check that all conversions went well."
   ]
  },
  {
   "cell_type": "code",
   "execution_count": 3,
   "metadata": {
    "execution": {
     "iopub.execute_input": "2022-12-09T17:05:23.594260Z",
     "iopub.status.busy": "2022-12-09T17:05:23.592486Z",
     "iopub.status.idle": "2022-12-09T17:05:23.665835Z",
     "shell.execute_reply": "2022-12-09T17:05:23.666912Z"
    },
    "lines_to_next_cell": 0
   },
   "outputs": [
    {
     "name": "stdout",
     "output_type": "stream",
     "text": [
      "0 out of 200 SMILES failed in conversion\n"
     ]
    }
   ],
   "source": [
    "PandasTools.AddMoleculeColumnToFrame(data, smilesCol=\"SMILES\")\n",
    "print(f\"{data.ROMol.isna().sum()} out of {len(data)} SMILES failed in conversion\")"
   ]
  },
  {
   "cell_type": "markdown",
   "metadata": {},
   "source": [
    "Then, let's import some tools from scikit-learn and two transformers from scikit-mol"
   ]
  },
  {
   "cell_type": "code",
   "execution_count": 4,
   "metadata": {
    "execution": {
     "iopub.execute_input": "2022-12-09T17:05:23.672213Z",
     "iopub.status.busy": "2022-12-09T17:05:23.670546Z",
     "iopub.status.idle": "2022-12-09T17:05:24.247618Z",
     "shell.execute_reply": "2022-12-09T17:05:24.249061Z"
    },
    "lines_to_next_cell": 0
   },
   "outputs": [],
   "source": [
    "from sklearn.pipeline import Pipeline\n",
    "from sklearn.linear_model import Ridge\n",
    "from sklearn.model_selection import train_test_split\n",
    "from scikit_mol.transformers import MorganTransformer, SmilesToMol"
   ]
  },
  {
   "cell_type": "code",
   "execution_count": 5,
   "metadata": {
    "execution": {
     "iopub.execute_input": "2022-12-09T17:05:24.254941Z",
     "iopub.status.busy": "2022-12-09T17:05:24.253181Z",
     "iopub.status.idle": "2022-12-09T17:05:24.265332Z",
     "shell.execute_reply": "2022-12-09T17:05:24.265976Z"
    }
   },
   "outputs": [],
   "source": [
    "mol_list_train, mol_list_test, y_train, y_test = train_test_split(data.ROMol, data.pXC50, random_state=0)"
   ]
  },
  {
   "cell_type": "markdown",
   "metadata": {},
   "source": [
    "After a split into train and test, we'll build the first pipeline"
   ]
  },
  {
   "cell_type": "code",
   "execution_count": 6,
   "metadata": {
    "execution": {
     "iopub.execute_input": "2022-12-09T17:05:24.275680Z",
     "iopub.status.busy": "2022-12-09T17:05:24.272313Z",
     "iopub.status.idle": "2022-12-09T17:05:24.285661Z",
     "shell.execute_reply": "2022-12-09T17:05:24.285068Z"
    }
   },
   "outputs": [
    {
     "name": "stdout",
     "output_type": "stream",
     "text": [
      "Pipeline(steps=[('mol_transformer', MorganTransformer()),\n",
      "                ('Regressor', Ridge())])\n"
     ]
    }
   ],
   "source": [
    "pipe = Pipeline([('mol_transformer', MorganTransformer()), ('Regressor', Ridge())])\n",
    "print(pipe)"
   ]
  },
  {
   "cell_type": "markdown",
   "metadata": {},
   "source": [
    "We can do the fit by simply providing the list of RDKit molecule objects"
   ]
  },
  {
   "cell_type": "code",
   "execution_count": 7,
   "metadata": {
    "execution": {
     "iopub.execute_input": "2022-12-09T17:05:24.292814Z",
     "iopub.status.busy": "2022-12-09T17:05:24.291238Z",
     "iopub.status.idle": "2022-12-09T17:05:24.465316Z",
     "shell.execute_reply": "2022-12-09T17:05:24.465945Z"
    },
    "lines_to_next_cell": 0
   },
   "outputs": [
    {
     "name": "stdout",
     "output_type": "stream",
     "text": [
      "Train score is :1.00\n",
      "Test score is  :0.55\n"
     ]
    }
   ],
   "source": [
    "pipe.fit(mol_list_train, y_train)\n",
    "print(f\"Train score is :{pipe.score(mol_list_train,y_train):0.2F}\")\n",
    "print(f\"Test score is  :{pipe.score(mol_list_test, y_test):0.2F}\")"
   ]
  },
  {
   "cell_type": "markdown",
   "metadata": {},
   "source": [
    "Nevermind the performance, or the exact value of the prediction, this is for demonstration purpures. We can easily predict on lists of molecules"
   ]
  },
  {
   "cell_type": "code",
   "execution_count": 8,
   "metadata": {
    "execution": {
     "iopub.execute_input": "2022-12-09T17:05:24.470874Z",
     "iopub.status.busy": "2022-12-09T17:05:24.470149Z",
     "iopub.status.idle": "2022-12-09T17:05:24.483910Z",
     "shell.execute_reply": "2022-12-09T17:05:24.484664Z"
    }
   },
   "outputs": [
    {
     "data": {
      "text/plain": [
       "array([6.00400299])"
      ]
     },
     "execution_count": 1,
     "metadata": {},
     "output_type": "execute_result"
    }
   ],
   "source": [
    "pipe.predict([Chem.MolFromSmiles('c1ccccc1C(=O)[OH]')])"
   ]
  },
  {
   "cell_type": "markdown",
   "metadata": {},
   "source": [
    "We can also expand the already fitted pipeline, how about creating a pipeline that can predict directly from SMILES? With scikit-mol that is easy!"
   ]
  },
  {
   "cell_type": "code",
   "execution_count": 9,
   "metadata": {
    "execution": {
     "iopub.execute_input": "2022-12-09T17:05:24.491861Z",
     "iopub.status.busy": "2022-12-09T17:05:24.491111Z",
     "iopub.status.idle": "2022-12-09T17:05:24.506048Z",
     "shell.execute_reply": "2022-12-09T17:05:24.506671Z"
    }
   },
   "outputs": [
    {
     "name": "stdout",
     "output_type": "stream",
     "text": [
      "Pipeline(steps=[('smiles_transformer', SmilesToMol()),\n",
      "                ('pipe',\n",
      "                 Pipeline(steps=[('mol_transformer', MorganTransformer()),\n",
      "                                 ('Regressor', Ridge())]))])\n"
     ]
    }
   ],
   "source": [
    "smiles_pipe = Pipeline([('smiles_transformer', SmilesToMol()), ('pipe', pipe)])\n",
    "print(smiles_pipe)"
   ]
  },
  {
   "cell_type": "code",
   "execution_count": 10,
   "metadata": {
    "execution": {
     "iopub.execute_input": "2022-12-09T17:05:24.514152Z",
     "iopub.status.busy": "2022-12-09T17:05:24.513303Z",
     "iopub.status.idle": "2022-12-09T17:05:24.522451Z",
     "shell.execute_reply": "2022-12-09T17:05:24.523095Z"
    }
   },
   "outputs": [
    {
     "data": {
      "text/plain": [
       "array([6.00400299])"
      ]
     },
     "execution_count": 1,
     "metadata": {},
     "output_type": "execute_result"
    }
   ],
   "source": [
    "smiles_pipe.predict(['c1ccccc1C(=O)[OH]'])"
   ]
  },
  {
   "cell_type": "markdown",
   "metadata": {},
   "source": [
    "From here, the pipelines could be pickled, and later loaded for easy prediction on RDKit molecule objects or SMILES in other scripts. The transformation with the MorganTransformer will be the same as during fitting, so no need to remember if radius 2 or 3 was used for this or that model, as it is already in the pipeline itself. If we need to see the parameters for a particular pipeline of model, we can always get the non default settings via print or all settings with .get_params()."
   ]
  },
  {
   "cell_type": "code",
   "execution_count": 11,
   "metadata": {
    "execution": {
     "iopub.execute_input": "2022-12-09T17:05:24.528383Z",
     "iopub.status.busy": "2022-12-09T17:05:24.527563Z",
     "iopub.status.idle": "2022-12-09T17:05:24.549223Z",
     "shell.execute_reply": "2022-12-09T17:05:24.549973Z"
    },
    "lines_to_next_cell": 2
   },
   "outputs": [
    {
     "data": {
      "text/plain": [
       "{'memory': None,\n",
       " 'steps': [('smiles_transformer', SmilesToMol()),\n",
       "  ('pipe',\n",
       "   Pipeline(steps=[('mol_transformer', MorganTransformer()),\n",
       "                   ('Regressor', Ridge())]))],\n",
       " 'verbose': False,\n",
       " 'smiles_transformer': SmilesToMol(),\n",
       " 'pipe': Pipeline(steps=[('mol_transformer', MorganTransformer()),\n",
       "                 ('Regressor', Ridge())]),\n",
       " 'pipe__memory': None,\n",
       " 'pipe__steps': [('mol_transformer', MorganTransformer()),\n",
       "  ('Regressor', Ridge())],\n",
       " 'pipe__verbose': False,\n",
       " 'pipe__mol_transformer': MorganTransformer(),\n",
       " 'pipe__Regressor': Ridge(),\n",
       " 'pipe__mol_transformer__nBits': 2048,\n",
       " 'pipe__mol_transformer__radius': 2,\n",
       " 'pipe__mol_transformer__useBondTypes': True,\n",
       " 'pipe__mol_transformer__useChirality': False,\n",
       " 'pipe__mol_transformer__useCounts': False,\n",
       " 'pipe__mol_transformer__useFeatures': False,\n",
       " 'pipe__Regressor__alpha': 1.0,\n",
       " 'pipe__Regressor__copy_X': True,\n",
       " 'pipe__Regressor__fit_intercept': True,\n",
       " 'pipe__Regressor__max_iter': None,\n",
       " 'pipe__Regressor__normalize': 'deprecated',\n",
       " 'pipe__Regressor__positive': False,\n",
       " 'pipe__Regressor__random_state': None,\n",
       " 'pipe__Regressor__solver': 'auto',\n",
       " 'pipe__Regressor__tol': 0.001}"
      ]
     },
     "execution_count": 1,
     "metadata": {},
     "output_type": "execute_result"
    }
   ],
   "source": [
    "smiles_pipe.get_params()"
   ]
  }
 ],
 "metadata": {
  "jupytext": {
   "cell_metadata_filter": "title,-all",
   "formats": "ipynb,py:percent"
  },
  "kernelspec": {
   "display_name": "Python 3.9.4 ('rdkit')",
   "language": "python",
   "name": "python3"
  },
  "language_info": {
   "codemirror_mode": {
    "name": "ipython",
    "version": 3
   },
   "file_extension": ".py",
   "mimetype": "text/x-python",
   "name": "python",
   "nbconvert_exporter": "python",
   "pygments_lexer": "ipython3",
   "version": "3.9.4"
  },
  "vscode": {
   "interpreter": {
    "hash": "dc6218d6ccd9a44863300cd5111a59d6c18db4de812eb936d6a68ad5fa5cf18f"
   }
  }
 },
 "nbformat": 4,
 "nbformat_minor": 2
}
