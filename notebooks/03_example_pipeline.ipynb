{
 "cells": [
  {
   "cell_type": "markdown",
   "id": "e7c43298",
   "metadata": {},
   "source": [
    "# Pipelining the scikit-mol transformer\n",
    "\n",
    "One of the very usable things with scikit-learn are their pipelines. With pipelines different scikit-learn transformers can be stacked and operated on just as a single model object. In this example we will build a simple model that can predict directly on RDKit molecules and then expand it to one that predicts directly on SMILES strings\n",
    "\n",
    "First some needed imports and a dataset"
   ]
  },
  {
   "cell_type": "code",
   "execution_count": 1,
   "id": "79139b10",
   "metadata": {
    "execution": {
     "iopub.execute_input": "2024-11-24T09:27:21.863626Z",
     "iopub.status.busy": "2024-11-24T09:27:21.863272Z",
     "iopub.status.idle": "2024-11-24T09:27:22.718519Z",
     "shell.execute_reply": "2024-11-24T09:27:22.717789Z"
    }
   },
   "outputs": [],
   "source": [
    "import os\n",
    "import rdkit\n",
    "from rdkit import Chem\n",
    "from rdkit.Chem import PandasTools\n",
    "import pandas as pd\n",
    "import matplotlib.pyplot as plt\n",
    "from time import time\n",
    "import numpy as np"
   ]
  },
  {
   "cell_type": "code",
   "execution_count": 2,
   "id": "17a9cdd7",
   "metadata": {
    "execution": {
     "iopub.execute_input": "2024-11-24T09:27:22.722219Z",
     "iopub.status.busy": "2024-11-24T09:27:22.721369Z",
     "iopub.status.idle": "2024-11-24T09:27:22.727326Z",
     "shell.execute_reply": "2024-11-24T09:27:22.726709Z"
    },
    "lines_to_next_cell": 0
   },
   "outputs": [],
   "source": [
    "csv_file = \"../tests/data/SLC6A4_active_excapedb_subset.csv\" # Hmm, maybe better to download directly\n",
    "data = pd.read_csv(csv_file)"
   ]
  },
  {
   "cell_type": "markdown",
   "id": "066131b8",
   "metadata": {},
   "source": [
    "The dataset is a subset of the SLC6A4 actives from ExcapeDB. They are hand selected to give test set performance despite the small size, and are provided as example data only and should not be used to build serious QSAR models.\n",
    "\n",
    "We add RDKit mol objects to the dataframe with pandastools and check that all conversions went well."
   ]
  },
  {
   "cell_type": "code",
   "execution_count": 3,
   "id": "a3ec0a23",
   "metadata": {
    "execution": {
     "iopub.execute_input": "2024-11-24T09:27:22.729951Z",
     "iopub.status.busy": "2024-11-24T09:27:22.729732Z",
     "iopub.status.idle": "2024-11-24T09:27:22.769704Z",
     "shell.execute_reply": "2024-11-24T09:27:22.768854Z"
    },
    "lines_to_next_cell": 0
   },
   "outputs": [
    {
     "name": "stdout",
     "output_type": "stream",
     "text": [
      "0 out of 200 SMILES failed in conversion\n"
     ]
    }
   ],
   "source": [
    "PandasTools.AddMoleculeColumnToFrame(data, smilesCol=\"SMILES\")\n",
    "print(f\"{data.ROMol.isna().sum()} out of {len(data)} SMILES failed in conversion\")"
   ]
  },
  {
   "cell_type": "markdown",
   "id": "eccaf4af",
   "metadata": {},
   "source": [
    "Then, let's import some tools from scikit-learn and two transformers from scikit-mol"
   ]
  },
  {
   "cell_type": "code",
   "execution_count": 4,
   "id": "4eb8f0fa",
   "metadata": {
    "execution": {
     "iopub.execute_input": "2024-11-24T09:27:22.772861Z",
     "iopub.status.busy": "2024-11-24T09:27:22.772534Z",
     "iopub.status.idle": "2024-11-24T09:27:23.182612Z",
     "shell.execute_reply": "2024-11-24T09:27:23.181966Z"
    },
    "lines_to_next_cell": 0
   },
   "outputs": [],
   "source": [
    "from sklearn.pipeline import Pipeline\n",
    "from sklearn.linear_model import Ridge\n",
    "from sklearn.model_selection import train_test_split\n",
    "from scikit_mol.fingerprints import MorganFingerprintTransformer\n",
    "from scikit_mol.conversions import SmilesToMolTransformer"
   ]
  },
  {
   "cell_type": "code",
   "execution_count": 5,
   "id": "99edec0f",
   "metadata": {
    "execution": {
     "iopub.execute_input": "2024-11-24T09:27:23.185612Z",
     "iopub.status.busy": "2024-11-24T09:27:23.185269Z",
     "iopub.status.idle": "2024-11-24T09:27:23.190844Z",
     "shell.execute_reply": "2024-11-24T09:27:23.190290Z"
    }
   },
   "outputs": [],
   "source": [
    "mol_list_train, mol_list_test, y_train, y_test = train_test_split(data.ROMol, data.pXC50, random_state=0)"
   ]
  },
  {
   "cell_type": "markdown",
   "id": "b8380817",
   "metadata": {},
   "source": [
    "After a split into train and test, we'll build the first pipeline"
   ]
  },
  {
   "cell_type": "code",
   "execution_count": 6,
   "id": "a27d6ff9",
   "metadata": {
    "execution": {
     "iopub.execute_input": "2024-11-24T09:27:23.193426Z",
     "iopub.status.busy": "2024-11-24T09:27:23.193188Z",
     "iopub.status.idle": "2024-11-24T09:27:23.198881Z",
     "shell.execute_reply": "2024-11-24T09:27:23.198225Z"
    }
   },
   "outputs": [
    {
     "name": "stdout",
     "output_type": "stream",
     "text": [
      "Pipeline(steps=[('mol_transformer', MorganFingerprintTransformer()),\n",
      "                ('Regressor', Ridge())])\n"
     ]
    }
   ],
   "source": [
    "pipe = Pipeline([('mol_transformer', MorganFingerprintTransformer()), ('Regressor', Ridge())])\n",
    "print(pipe)"
   ]
  },
  {
   "cell_type": "markdown",
   "id": "6c12f9a8",
   "metadata": {},
   "source": [
    "We can do the fit by simply providing the list of RDKit molecule objects"
   ]
  },
  {
   "cell_type": "code",
   "execution_count": 7,
   "id": "634ca919",
   "metadata": {
    "execution": {
     "iopub.execute_input": "2024-11-24T09:27:23.201230Z",
     "iopub.status.busy": "2024-11-24T09:27:23.201013Z",
     "iopub.status.idle": "2024-11-24T09:27:23.265644Z",
     "shell.execute_reply": "2024-11-24T09:27:23.264698Z"
    },
    "lines_to_next_cell": 0
   },
   "outputs": [
    {
     "name": "stdout",
     "output_type": "stream",
     "text": [
      "Train score is :1.00\n",
      "Test score is  :0.55\n"
     ]
    }
   ],
   "source": [
    "pipe.fit(mol_list_train, y_train)\n",
    "print(f\"Train score is :{pipe.score(mol_list_train,y_train):0.2F}\")\n",
    "print(f\"Test score is  :{pipe.score(mol_list_test, y_test):0.2F}\")"
   ]
  },
  {
   "cell_type": "markdown",
   "id": "8440cc5a",
   "metadata": {},
   "source": [
    "Nevermind the performance, or the exact value of the prediction, this is for demonstration purpures. We can easily predict on lists of molecules"
   ]
  },
  {
   "cell_type": "code",
   "execution_count": 8,
   "id": "f4431aab",
   "metadata": {
    "execution": {
     "iopub.execute_input": "2024-11-24T09:27:23.269015Z",
     "iopub.status.busy": "2024-11-24T09:27:23.268218Z",
     "iopub.status.idle": "2024-11-24T09:27:23.280889Z",
     "shell.execute_reply": "2024-11-24T09:27:23.279967Z"
    }
   },
   "outputs": [
    {
     "data": {
      "text/plain": [
       "array([6.00400299])"
      ]
     },
     "execution_count": 8,
     "metadata": {},
     "output_type": "execute_result"
    }
   ],
   "source": [
    "pipe.predict([Chem.MolFromSmiles('c1ccccc1C(=O)[OH]')])"
   ]
  },
  {
   "cell_type": "markdown",
   "id": "a60e242b",
   "metadata": {},
   "source": [
    "We can also expand the already fitted pipeline, how about creating a pipeline that can predict directly from SMILES? With scikit-mol that is easy!"
   ]
  },
  {
   "cell_type": "code",
   "execution_count": 9,
   "id": "a908097d",
   "metadata": {
    "execution": {
     "iopub.execute_input": "2024-11-24T09:27:23.284650Z",
     "iopub.status.busy": "2024-11-24T09:27:23.283862Z",
     "iopub.status.idle": "2024-11-24T09:27:23.298454Z",
     "shell.execute_reply": "2024-11-24T09:27:23.297546Z"
    }
   },
   "outputs": [
    {
     "name": "stdout",
     "output_type": "stream",
     "text": [
      "Pipeline(steps=[('smiles_transformer', SmilesToMolTransformer()),\n",
      "                ('pipe',\n",
      "                 Pipeline(steps=[('mol_transformer',\n",
      "                                  MorganFingerprintTransformer()),\n",
      "                                 ('Regressor', Ridge())]))])\n"
     ]
    }
   ],
   "source": [
    "smiles_pipe = Pipeline([('smiles_transformer', SmilesToMolTransformer()), ('pipe', pipe)])\n",
    "print(smiles_pipe)"
   ]
  },
  {
   "cell_type": "code",
   "execution_count": 10,
   "id": "0124653c",
   "metadata": {
    "execution": {
     "iopub.execute_input": "2024-11-24T09:27:23.302185Z",
     "iopub.status.busy": "2024-11-24T09:27:23.301318Z",
     "iopub.status.idle": "2024-11-24T09:27:23.307070Z",
     "shell.execute_reply": "2024-11-24T09:27:23.306539Z"
    }
   },
   "outputs": [
    {
     "data": {
      "text/plain": [
       "array([6.00400299])"
      ]
     },
     "execution_count": 10,
     "metadata": {},
     "output_type": "execute_result"
    }
   ],
   "source": [
    "smiles_pipe.predict(['c1ccccc1C(=O)[OH]'])"
   ]
  },
  {
   "cell_type": "markdown",
   "id": "069e2d01",
   "metadata": {},
   "source": [
    "From here, the pipelines could be pickled, and later loaded for easy prediction on RDKit molecule objects or SMILES in other scripts. The transformation with the MorganTransformer will be the same as during fitting, so no need to remember if radius 2 or 3 was used for this or that model, as it is already in the pipeline itself. If we need to see the parameters for a particular pipeline of model, we can always get the non default settings via print or all settings with .get_params()."
   ]
  },
  {
   "cell_type": "code",
   "execution_count": 11,
   "id": "63c8ef60",
   "metadata": {
    "execution": {
     "iopub.execute_input": "2024-11-24T09:27:23.309849Z",
     "iopub.status.busy": "2024-11-24T09:27:23.309649Z",
     "iopub.status.idle": "2024-11-24T09:27:23.317613Z",
     "shell.execute_reply": "2024-11-24T09:27:23.316837Z"
    },
    "lines_to_next_cell": 2
   },
   "outputs": [
    {
     "data": {
      "text/plain": [
       "{'memory': None,\n",
       " 'steps': [('smiles_transformer', SmilesToMolTransformer()),\n",
       "  ('pipe',\n",
       "   Pipeline(steps=[('mol_transformer', MorganFingerprintTransformer()),\n",
       "                   ('Regressor', Ridge())]))],\n",
       " 'verbose': False,\n",
       " 'smiles_transformer': SmilesToMolTransformer(),\n",
       " 'pipe': Pipeline(steps=[('mol_transformer', MorganFingerprintTransformer()),\n",
       "                 ('Regressor', Ridge())]),\n",
       " 'smiles_transformer__parallel': False,\n",
       " 'smiles_transformer__safe_inference_mode': False,\n",
       " 'pipe__memory': None,\n",
       " 'pipe__steps': [('mol_transformer', MorganFingerprintTransformer()),\n",
       "  ('Regressor', Ridge())],\n",
       " 'pipe__verbose': False,\n",
       " 'pipe__mol_transformer': MorganFingerprintTransformer(),\n",
       " 'pipe__Regressor': Ridge(),\n",
       " 'pipe__mol_transformer__fpSize': 2048,\n",
       " 'pipe__mol_transformer__parallel': False,\n",
       " 'pipe__mol_transformer__radius': 2,\n",
       " 'pipe__mol_transformer__safe_inference_mode': False,\n",
       " 'pipe__mol_transformer__useBondTypes': True,\n",
       " 'pipe__mol_transformer__useChirality': False,\n",
       " 'pipe__mol_transformer__useCounts': False,\n",
       " 'pipe__mol_transformer__useFeatures': False,\n",
       " 'pipe__Regressor__alpha': 1.0,\n",
       " 'pipe__Regressor__copy_X': True,\n",
       " 'pipe__Regressor__fit_intercept': True,\n",
       " 'pipe__Regressor__max_iter': None,\n",
       " 'pipe__Regressor__positive': False,\n",
       " 'pipe__Regressor__random_state': None,\n",
       " 'pipe__Regressor__solver': 'auto',\n",
       " 'pipe__Regressor__tol': 0.0001}"
      ]
     },
     "execution_count": 11,
     "metadata": {},
     "output_type": "execute_result"
    }
   ],
   "source": [
    "smiles_pipe.get_params()"
   ]
  }
 ],
 "metadata": {
  "jupytext": {
   "cell_metadata_filter": "title,-all",
   "formats": "ipynb,py:percent"
  },
  "kernelspec": {
   "display_name": "Python 3.9.4 ('rdkit')",
   "language": "python",
   "name": "python3"
  },
  "language_info": {
   "codemirror_mode": {
    "name": "ipython",
    "version": 3
   },
   "file_extension": ".py",
   "mimetype": "text/x-python",
   "name": "python",
   "nbconvert_exporter": "python",
   "pygments_lexer": "ipython3",
   "version": "3.10.12"
  }
 },
 "nbformat": 4,
 "nbformat_minor": 5
}
