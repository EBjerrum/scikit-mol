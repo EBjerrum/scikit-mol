{
 "cells": [
  {
   "cell_type": "markdown",
   "id": "f3f842d3",
   "metadata": {},
   "source": [
    "# Pipelining the scikit-mol transformer\n",
    "\n",
    "One of the very usable things with scikit-learn are their pipelines. With pipelines different scikit-learn transformers can be stacked and operated on just as a single model object. In this example we will build a simple model that can predict directly on RDKit molecules and then expand it to one that predicts directly on SMILES strings\n",
    "\n",
    "First some needed imports and a dataset"
   ]
  },
  {
   "cell_type": "code",
   "execution_count": 1,
   "id": "b92c5a96",
   "metadata": {
    "execution": {
     "iopub.execute_input": "2023-03-19T08:54:27.653561Z",
     "iopub.status.busy": "2023-03-19T08:54:27.653105Z",
     "iopub.status.idle": "2023-03-19T08:54:28.385099Z",
     "shell.execute_reply": "2023-03-19T08:54:28.384146Z"
    }
   },
   "outputs": [],
   "source": [
    "import os\n",
    "import rdkit\n",
    "from rdkit import Chem\n",
    "from rdkit.Chem import PandasTools\n",
    "import pandas as pd\n",
    "import matplotlib.pyplot as plt\n",
    "from time import time\n",
    "import numpy as np"
   ]
  },
  {
   "cell_type": "code",
   "execution_count": 2,
   "id": "0d79bc45",
   "metadata": {
    "execution": {
     "iopub.execute_input": "2023-03-19T08:54:28.388213Z",
     "iopub.status.busy": "2023-03-19T08:54:28.387874Z",
     "iopub.status.idle": "2023-03-19T08:54:28.394786Z",
     "shell.execute_reply": "2023-03-19T08:54:28.394110Z"
    },
    "lines_to_next_cell": 0
   },
   "outputs": [],
   "source": [
    "csv_file = \"../tests/data/SLC6A4_active_excapedb_subset.csv\" # Hmm, maybe better to download directly\n",
    "data = pd.read_csv(csv_file)"
   ]
  },
  {
   "cell_type": "markdown",
   "id": "3569affd",
   "metadata": {},
   "source": [
    "The dataset is a subset of the SLC6A4 actives from ExcapeDB. They are hand selected to give test set performance despite the small size, and are provided as example data only and should not be used to build serious QSAR models.\n",
    "\n",
    "We add RDKit mol objects to the dataframe with pandastools and check that all conversions went well."
   ]
  },
  {
   "cell_type": "code",
   "execution_count": 3,
   "id": "594f45ba",
   "metadata": {
    "execution": {
     "iopub.execute_input": "2023-03-19T08:54:28.397967Z",
     "iopub.status.busy": "2023-03-19T08:54:28.397752Z",
     "iopub.status.idle": "2023-03-19T08:54:28.436822Z",
     "shell.execute_reply": "2023-03-19T08:54:28.436140Z"
    },
    "lines_to_next_cell": 0
   },
   "outputs": [
    {
     "name": "stdout",
     "output_type": "stream",
     "text": [
      "0 out of 200 SMILES failed in conversion\n"
     ]
    }
   ],
   "source": [
    "PandasTools.AddMoleculeColumnToFrame(data, smilesCol=\"SMILES\")\n",
    "print(f\"{data.ROMol.isna().sum()} out of {len(data)} SMILES failed in conversion\")"
   ]
  },
  {
   "cell_type": "markdown",
   "id": "04af16b2",
   "metadata": {},
   "source": [
    "Then, let's import some tools from scikit-learn and two transformers from scikit-mol"
   ]
  },
  {
   "cell_type": "code",
   "execution_count": 4,
   "id": "ed19f736",
   "metadata": {
    "execution": {
     "iopub.execute_input": "2023-03-19T08:54:28.439485Z",
     "iopub.status.busy": "2023-03-19T08:54:28.439232Z",
     "iopub.status.idle": "2023-03-19T08:54:28.834836Z",
     "shell.execute_reply": "2023-03-19T08:54:28.833932Z"
    },
    "lines_to_next_cell": 0
   },
   "outputs": [],
   "source": [
    "from sklearn.pipeline import Pipeline\n",
    "from sklearn.linear_model import Ridge\n",
    "from sklearn.model_selection import train_test_split\n",
    "from scikit_mol.fingerprints import MorganFingerprintTransformer\n",
    "from scikit_mol.conversions import SmilesToMolTransformer"
   ]
  },
  {
   "cell_type": "code",
   "execution_count": 5,
   "id": "c4a255f4",
   "metadata": {
    "execution": {
     "iopub.execute_input": "2023-03-19T08:54:28.838155Z",
     "iopub.status.busy": "2023-03-19T08:54:28.837767Z",
     "iopub.status.idle": "2023-03-19T08:54:28.842399Z",
     "shell.execute_reply": "2023-03-19T08:54:28.841851Z"
    }
   },
   "outputs": [],
   "source": [
    "mol_list_train, mol_list_test, y_train, y_test = train_test_split(data.ROMol, data.pXC50, random_state=0)"
   ]
  },
  {
   "cell_type": "markdown",
   "id": "a088665f",
   "metadata": {},
   "source": [
    "After a split into train and test, we'll build the first pipeline"
   ]
  },
  {
   "cell_type": "code",
   "execution_count": 6,
   "id": "0ddbf668",
   "metadata": {
    "execution": {
     "iopub.execute_input": "2023-03-19T08:54:28.845331Z",
     "iopub.status.busy": "2023-03-19T08:54:28.845041Z",
     "iopub.status.idle": "2023-03-19T08:54:28.851043Z",
     "shell.execute_reply": "2023-03-19T08:54:28.850277Z"
    }
   },
   "outputs": [
    {
     "name": "stdout",
     "output_type": "stream",
     "text": [
      "Pipeline(steps=[('mol_transformer', MorganTransformer()),\n",
      "                ('Regressor', Ridge())])\n"
     ]
    }
   ],
   "source": [
    "pipe = Pipeline([('mol_transformer', MorganFingerprintTransformer()), ('Regressor', Ridge())])\n",
    "print(pipe)"
   ]
  },
  {
   "cell_type": "markdown",
   "id": "004b0d25",
   "metadata": {},
   "source": [
    "We can do the fit by simply providing the list of RDKit molecule objects"
   ]
  },
  {
   "cell_type": "code",
   "execution_count": 7,
   "id": "231d0534",
   "metadata": {
    "execution": {
     "iopub.execute_input": "2023-03-19T08:54:28.853975Z",
     "iopub.status.busy": "2023-03-19T08:54:28.853718Z",
     "iopub.status.idle": "2023-03-19T08:54:28.944670Z",
     "shell.execute_reply": "2023-03-19T08:54:28.943808Z"
    },
    "lines_to_next_cell": 0
   },
   "outputs": [
    {
     "name": "stdout",
     "output_type": "stream",
     "text": [
      "Train score is :1.00\n",
      "Test score is  :0.55\n"
     ]
    }
   ],
   "source": [
    "pipe.fit(mol_list_train, y_train)\n",
    "print(f\"Train score is :{pipe.score(mol_list_train,y_train):0.2F}\")\n",
    "print(f\"Test score is  :{pipe.score(mol_list_test, y_test):0.2F}\")"
   ]
  },
  {
   "cell_type": "markdown",
   "id": "55915786",
   "metadata": {},
   "source": [
    "Nevermind the performance, or the exact value of the prediction, this is for demonstration purpures. We can easily predict on lists of molecules"
   ]
  },
  {
   "cell_type": "code",
   "execution_count": 8,
   "id": "5d1e9220",
   "metadata": {
    "execution": {
     "iopub.execute_input": "2023-03-19T08:54:28.949968Z",
     "iopub.status.busy": "2023-03-19T08:54:28.949504Z",
     "iopub.status.idle": "2023-03-19T08:54:28.964037Z",
     "shell.execute_reply": "2023-03-19T08:54:28.963010Z"
    }
   },
   "outputs": [
    {
     "data": {
      "text/plain": [
       "array([6.00400299])"
      ]
     },
     "execution_count": 8,
     "metadata": {},
     "output_type": "execute_result"
    }
   ],
   "source": [
    "pipe.predict([Chem.MolFromSmiles('c1ccccc1C(=O)[OH]')])"
   ]
  },
  {
   "cell_type": "markdown",
   "id": "07cf53ea",
   "metadata": {},
   "source": [
    "We can also expand the already fitted pipeline, how about creating a pipeline that can predict directly from SMILES? With scikit-mol that is easy!"
   ]
  },
  {
   "cell_type": "code",
   "execution_count": 9,
   "id": "eb8ce486",
   "metadata": {
    "execution": {
     "iopub.execute_input": "2023-03-19T08:54:28.969289Z",
     "iopub.status.busy": "2023-03-19T08:54:28.968614Z",
     "iopub.status.idle": "2023-03-19T08:54:28.983422Z",
     "shell.execute_reply": "2023-03-19T08:54:28.982473Z"
    }
   },
   "outputs": [
    {
     "name": "stdout",
     "output_type": "stream",
     "text": [
      "Pipeline(steps=[('smiles_transformer', SmilesToMol()),\n",
      "                ('pipe',\n",
      "                 Pipeline(steps=[('mol_transformer', MorganTransformer()),\n",
      "                                 ('Regressor', Ridge())]))])\n"
     ]
    }
   ],
   "source": [
    "smiles_pipe = Pipeline([('smiles_transformer', SmilesToMolTransformer()), ('pipe', pipe)])\n",
    "print(smiles_pipe)"
   ]
  },
  {
   "cell_type": "code",
   "execution_count": 10,
   "id": "1444b605",
   "metadata": {
    "execution": {
     "iopub.execute_input": "2023-03-19T08:54:28.988161Z",
     "iopub.status.busy": "2023-03-19T08:54:28.987478Z",
     "iopub.status.idle": "2023-03-19T08:54:28.995432Z",
     "shell.execute_reply": "2023-03-19T08:54:28.994415Z"
    }
   },
   "outputs": [
    {
     "data": {
      "text/plain": [
       "array([6.00400299])"
      ]
     },
     "execution_count": 10,
     "metadata": {},
     "output_type": "execute_result"
    }
   ],
   "source": [
    "smiles_pipe.predict(['c1ccccc1C(=O)[OH]'])"
   ]
  },
  {
   "cell_type": "markdown",
   "id": "90d7817b",
   "metadata": {},
   "source": [
    "From here, the pipelines could be pickled, and later loaded for easy prediction on RDKit molecule objects or SMILES in other scripts. The transformation with the MorganTransformer will be the same as during fitting, so no need to remember if radius 2 or 3 was used for this or that model, as it is already in the pipeline itself. If we need to see the parameters for a particular pipeline of model, we can always get the non default settings via print or all settings with .get_params()."
   ]
  },
  {
   "cell_type": "code",
   "execution_count": 11,
   "id": "1eacda8f",
   "metadata": {
    "execution": {
     "iopub.execute_input": "2023-03-19T08:54:29.000764Z",
     "iopub.status.busy": "2023-03-19T08:54:29.000309Z",
     "iopub.status.idle": "2023-03-19T08:54:29.015001Z",
     "shell.execute_reply": "2023-03-19T08:54:29.014049Z"
    },
    "lines_to_next_cell": 2
   },
   "outputs": [
    {
     "data": {
      "text/plain": [
       "{'memory': None,\n",
       " 'steps': [('smiles_transformer', SmilesToMol()),\n",
       "  ('pipe',\n",
       "   Pipeline(steps=[('mol_transformer', MorganTransformer()),\n",
       "                   ('Regressor', Ridge())]))],\n",
       " 'verbose': False,\n",
       " 'smiles_transformer': SmilesToMol(),\n",
       " 'pipe': Pipeline(steps=[('mol_transformer', MorganTransformer()),\n",
       "                 ('Regressor', Ridge())]),\n",
       " 'smiles_transformer__parallel': False,\n",
       " 'pipe__memory': None,\n",
       " 'pipe__steps': [('mol_transformer', MorganTransformer()),\n",
       "  ('Regressor', Ridge())],\n",
       " 'pipe__verbose': False,\n",
       " 'pipe__mol_transformer': MorganTransformer(),\n",
       " 'pipe__Regressor': Ridge(),\n",
       " 'pipe__mol_transformer__nBits': 2048,\n",
       " 'pipe__mol_transformer__parallel': False,\n",
       " 'pipe__mol_transformer__radius': 2,\n",
       " 'pipe__mol_transformer__useBondTypes': True,\n",
       " 'pipe__mol_transformer__useChirality': False,\n",
       " 'pipe__mol_transformer__useCounts': False,\n",
       " 'pipe__mol_transformer__useFeatures': False,\n",
       " 'pipe__Regressor__alpha': 1.0,\n",
       " 'pipe__Regressor__copy_X': True,\n",
       " 'pipe__Regressor__fit_intercept': True,\n",
       " 'pipe__Regressor__max_iter': None,\n",
       " 'pipe__Regressor__positive': False,\n",
       " 'pipe__Regressor__random_state': None,\n",
       " 'pipe__Regressor__solver': 'auto',\n",
       " 'pipe__Regressor__tol': 0.0001}"
      ]
     },
     "execution_count": 11,
     "metadata": {},
     "output_type": "execute_result"
    }
   ],
   "source": [
    "smiles_pipe.get_params()"
   ]
  }
 ],
 "metadata": {
  "jupytext": {
   "cell_metadata_filter": "title,-all",
   "formats": "ipynb,py:percent"
  },
  "kernelspec": {
   "display_name": "Python 3.9.4 ('rdkit')",
   "language": "python",
   "name": "python3"
  },
  "language_info": {
   "codemirror_mode": {
    "name": "ipython",
    "version": 3
   },
   "file_extension": ".py",
   "mimetype": "text/x-python",
   "name": "python",
   "nbconvert_exporter": "python",
   "pygments_lexer": "ipython3",
   "version": "3.10.9"
  }
 },
 "nbformat": 4,
 "nbformat_minor": 5
}
