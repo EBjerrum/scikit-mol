{
 "cells": [
  {
   "cell_type": "markdown",
   "id": "9d600dd1",
   "metadata": {},
   "source": [
    "# Full example: Hyperparameter tuning\n",
    "\n",
    "first some imports of the usual suspects: RDKit, pandas, matplotlib, numpy and sklearn. New kid on the block is scikit-mol"
   ]
  },
  {
   "cell_type": "code",
   "execution_count": 1,
   "id": "7df4793c",
   "metadata": {
    "execution": {
     "iopub.execute_input": "2023-03-19T08:54:35.701525Z",
     "iopub.status.busy": "2023-03-19T08:54:35.700822Z",
     "iopub.status.idle": "2023-03-19T08:54:37.014139Z",
     "shell.execute_reply": "2023-03-19T08:54:37.013259Z"
    }
   },
   "outputs": [],
   "source": [
    "import os\n",
    "import rdkit\n",
    "from rdkit import Chem\n",
    "from rdkit.Chem import PandasTools\n",
    "import pandas as pd\n",
    "import matplotlib.pyplot as plt\n",
    "from time import time\n",
    "import numpy as np\n",
    "from sklearn.pipeline import Pipeline, make_pipeline\n",
    "from sklearn.linear_model import Ridge\n",
    "from sklearn.model_selection import train_test_split\n",
    "from scikit_mol.fingerprints import MorganFingerprintTransformer\n",
    "from scikit_mol.conversions import SmilesToMolTransformer"
   ]
  },
  {
   "cell_type": "markdown",
   "id": "8acee1c3",
   "metadata": {},
   "source": [
    "We will need some data. There is a dataset with the SLC6A4 active compounds from ExcapeDB on Zenodo. The scikit-mol project uses a subset of this for testing, and the samples there has been specially selected to give good results in testing (it should therefore be used for any production modelling). If full_set is false, the fast subset will be used, and otherwise the full dataset will be downloaded if needed."
   ]
  },
  {
   "cell_type": "code",
   "execution_count": 2,
   "id": "45a8ebf1",
   "metadata": {
    "execution": {
     "iopub.execute_input": "2023-03-19T08:54:37.017824Z",
     "iopub.status.busy": "2023-03-19T08:54:37.017350Z",
     "iopub.status.idle": "2023-03-19T08:54:37.022818Z",
     "shell.execute_reply": "2023-03-19T08:54:37.022080Z"
    }
   },
   "outputs": [],
   "source": [
    "full_set = False\n",
    "\n",
    "if full_set:\n",
    "    csv_file = \"SLC6A4_active_excape_export.csv\"\n",
    "    if not os.path.exists(csv_file):\n",
    "        import urllib.request\n",
    "        url = \"https://ndownloader.figshare.com/files/25747817\"\n",
    "        urllib.request.urlretrieve(url, csv_file)\n",
    "else:\n",
    "    csv_file = '../tests/data/SLC6A4_active_excapedb_subset.csv'"
   ]
  },
  {
   "cell_type": "markdown",
   "id": "f3c108d4",
   "metadata": {},
   "source": [
    "The CSV data is loaded into a Pandas dataframe and the PandasTools utility from RDKit is used to add a column with RDKit molecules"
   ]
  },
  {
   "cell_type": "code",
   "execution_count": 3,
   "id": "08c233a7",
   "metadata": {
    "execution": {
     "iopub.execute_input": "2023-03-19T08:54:37.025520Z",
     "iopub.status.busy": "2023-03-19T08:54:37.025310Z",
     "iopub.status.idle": "2023-03-19T08:54:37.077231Z",
     "shell.execute_reply": "2023-03-19T08:54:37.076469Z"
    }
   },
   "outputs": [
    {
     "name": "stdout",
     "output_type": "stream",
     "text": [
      "0 out of 200 SMILES failed in conversion\n"
     ]
    }
   ],
   "source": [
    "\n",
    "data = pd.read_csv(csv_file)\n",
    "\n",
    "PandasTools.AddMoleculeColumnToFrame(data, smilesCol=\"SMILES\")\n",
    "print(f\"{data.ROMol.isna().sum()} out of {len(data)} SMILES failed in conversion\")"
   ]
  },
  {
   "cell_type": "markdown",
   "id": "e1828bee",
   "metadata": {},
   "source": [
    "We use the train_test_split to, well, split the dataframe's molecule columns and pXC50 column into lists for train and testing"
   ]
  },
  {
   "cell_type": "code",
   "execution_count": 4,
   "id": "5363d05a",
   "metadata": {
    "execution": {
     "iopub.execute_input": "2023-03-19T08:54:37.080021Z",
     "iopub.status.busy": "2023-03-19T08:54:37.079756Z",
     "iopub.status.idle": "2023-03-19T08:54:37.084574Z",
     "shell.execute_reply": "2023-03-19T08:54:37.084021Z"
    },
    "lines_to_next_cell": 2
   },
   "outputs": [],
   "source": [
    "\n",
    "mol_list_train, mol_list_test, y_train, y_test = train_test_split(data.ROMol, data.pXC50, random_state=0)"
   ]
  },
  {
   "cell_type": "markdown",
   "id": "bf9e8c8d",
   "metadata": {},
   "source": [
    "We will standardize the molecules before modelling. This is best done before the hyperparameter optimizatiion of the featurization with the scikit-mol transformer and regression modelling, as the standardization is otherwise done for every loop in the hyperparameter optimization, which will make it take longer time."
   ]
  },
  {
   "cell_type": "code",
   "execution_count": 5,
   "id": "885daf12",
   "metadata": {
    "execution": {
     "iopub.execute_input": "2023-03-19T08:54:37.087530Z",
     "iopub.status.busy": "2023-03-19T08:54:37.087275Z",
     "iopub.status.idle": "2023-03-19T08:54:37.454935Z",
     "shell.execute_reply": "2023-03-19T08:54:37.454153Z"
    }
   },
   "outputs": [],
   "source": [
    "# Probably the recommended way would be to prestandardize the data if there's no changes to the transformer, \n",
    "# and then add the standardizer in the inference pipeline.\n",
    "\n",
    "from scikit_mol.standardizer import Standardizer\n",
    "\n",
    "standardizer = Standardizer()\n",
    "mol_list_std_train = standardizer.transform(mol_list_train)"
   ]
  },
  {
   "cell_type": "markdown",
   "id": "a81ae4c4",
   "metadata": {},
   "source": [
    "A simple pipeline with a MorganTransformer and a Ridge() regression for demonstration."
   ]
  },
  {
   "cell_type": "code",
   "execution_count": 6,
   "id": "8fd14250",
   "metadata": {
    "execution": {
     "iopub.execute_input": "2023-03-19T08:54:37.458340Z",
     "iopub.status.busy": "2023-03-19T08:54:37.458092Z",
     "iopub.status.idle": "2023-03-19T08:54:37.461663Z",
     "shell.execute_reply": "2023-03-19T08:54:37.461052Z"
    }
   },
   "outputs": [],
   "source": [
    "\n",
    "moltransformer = MorganFingerprintTransformer()\n",
    "regressor = Ridge()\n",
    "\n",
    "optimization_pipe = make_pipeline(moltransformer, regressor)\n",
    "\n"
   ]
  },
  {
   "cell_type": "markdown",
   "id": "ad2752d0",
   "metadata": {},
   "source": [
    "For hyperparameter optimization we import the RandomizedSearchCV class from Scikit-Learn. It will try different random combinations of settings and use internal cross-validation to find the best model. In the end, it will fit the best found parameters on the full set. We also import loguniform, to get a better sampling of some of the parameters."
   ]
  },
  {
   "cell_type": "code",
   "execution_count": 7,
   "id": "fa082078",
   "metadata": {
    "execution": {
     "iopub.execute_input": "2023-03-19T08:54:37.464188Z",
     "iopub.status.busy": "2023-03-19T08:54:37.463905Z",
     "iopub.status.idle": "2023-03-19T08:54:37.467187Z",
     "shell.execute_reply": "2023-03-19T08:54:37.466548Z"
    },
    "title": "Now hyperparameter tuning"
   },
   "outputs": [],
   "source": [
    "from sklearn.model_selection import RandomizedSearchCV\n",
    "from sklearn.utils.fixes import loguniform"
   ]
  },
  {
   "cell_type": "markdown",
   "id": "fa2a316a",
   "metadata": {},
   "source": [
    "With the pipelines, getting the names of the parameters to tune is a bit more tricky, as they are concatenations of the name of the step and the parameter with double underscores in between. We can get the available parameters from the pipeline with the get_params() method, and select the parameters we want to change from there."
   ]
  },
  {
   "cell_type": "code",
   "execution_count": 8,
   "id": "046e24d3",
   "metadata": {
    "execution": {
     "iopub.execute_input": "2023-03-19T08:54:37.470133Z",
     "iopub.status.busy": "2023-03-19T08:54:37.469879Z",
     "iopub.status.idle": "2023-03-19T08:54:37.476370Z",
     "shell.execute_reply": "2023-03-19T08:54:37.475763Z"
    },
    "title": "Which keys do we have?"
   },
   "outputs": [
    {
     "data": {
      "text/plain": [
       "dict_keys(['memory', 'steps', 'verbose', 'morgantransformer', 'ridge', 'morgantransformer__nBits', 'morgantransformer__parallel', 'morgantransformer__radius', 'morgantransformer__useBondTypes', 'morgantransformer__useChirality', 'morgantransformer__useCounts', 'morgantransformer__useFeatures', 'ridge__alpha', 'ridge__copy_X', 'ridge__fit_intercept', 'ridge__max_iter', 'ridge__positive', 'ridge__random_state', 'ridge__solver', 'ridge__tol'])"
      ]
     },
     "execution_count": 8,
     "metadata": {},
     "output_type": "execute_result"
    }
   ],
   "source": [
    "\n",
    "optimization_pipe.get_params().keys()"
   ]
  },
  {
   "cell_type": "markdown",
   "id": "cd7c2297",
   "metadata": {},
   "source": [
    "We will tune the regularization strength of the Ridge regressor, and try out different parameters for the Morgan fingerprint, namely the number of bits, the radius of the fingerprint, wheter to use counts or bits and features."
   ]
  },
  {
   "cell_type": "code",
   "execution_count": 9,
   "id": "cf2c45d7",
   "metadata": {
    "execution": {
     "iopub.execute_input": "2023-03-19T08:54:37.478959Z",
     "iopub.status.busy": "2023-03-19T08:54:37.478683Z",
     "iopub.status.idle": "2023-03-19T08:54:37.483305Z",
     "shell.execute_reply": "2023-03-19T08:54:37.482688Z"
    },
    "lines_to_next_cell": 1
   },
   "outputs": [],
   "source": [
    "\n",
    "param_dist = {'ridge__alpha': loguniform(1e-2, 1e3),\n",
    "            \"morgantransformer__nBits\": [256,512,1024,2048,4096],\n",
    "            'morgantransformer__radius':[1,2,3,4],\n",
    "            'morgantransformer__useCounts': [True,False],\n",
    "            'morgantransformer__useFeatures':[True,False]}"
   ]
  },
  {
   "cell_type": "markdown",
   "id": "d61fc18c",
   "metadata": {},
   "source": [
    "The report function was taken from [this example](https://scikit-learn.org/stable/auto_examples/model_selection/plot_randomized_search.html#sphx-glr-auto-examples-model-selection-plot-randomized-search-py) from the scikit learn documentation."
   ]
  },
  {
   "cell_type": "code",
   "execution_count": 10,
   "id": "fbb2cacd",
   "metadata": {
    "execution": {
     "iopub.execute_input": "2023-03-19T08:54:37.485906Z",
     "iopub.status.busy": "2023-03-19T08:54:37.485645Z",
     "iopub.status.idle": "2023-03-19T08:54:37.489973Z",
     "shell.execute_reply": "2023-03-19T08:54:37.489382Z"
    },
    "title": "From https://scikit-learn.org/stable/auto_examples/model_selection/plot_randomized_search.html#sphx-glr-auto-examples-model-selection-plot-randomized-search-py"
   },
   "outputs": [],
   "source": [
    "# Utility function to report best scores\n",
    "def report(results, n_top=3):\n",
    "    for i in range(1, n_top + 1):\n",
    "        candidates = np.flatnonzero(results[\"rank_test_score\"] == i)\n",
    "        for candidate in candidates:\n",
    "            print(\"Model with rank: {0}\".format(i))\n",
    "            print(\n",
    "                \"Mean validation score: {0:.3f} (std: {1:.3f})\".format(\n",
    "                    results[\"mean_test_score\"][candidate],\n",
    "                    results[\"std_test_score\"][candidate],\n",
    "                )\n",
    "            )\n",
    "            print(\"Parameters: {0}\".format(results[\"params\"][candidate]))\n",
    "            print(\"\")"
   ]
  },
  {
   "cell_type": "markdown",
   "id": "ad49376f",
   "metadata": {},
   "source": [
    "We will do 25 tries of random parameter sets, and see what comes out as the best one. If you are using the small example dataset, this should take some second, but may take some minutes with the full set."
   ]
  },
  {
   "cell_type": "code",
   "execution_count": 11,
   "id": "bc66efa3",
   "metadata": {
    "execution": {
     "iopub.execute_input": "2023-03-19T08:54:37.492677Z",
     "iopub.status.busy": "2023-03-19T08:54:37.492327Z",
     "iopub.status.idle": "2023-03-19T08:54:44.019837Z",
     "shell.execute_reply": "2023-03-19T08:54:44.018820Z"
    }
   },
   "outputs": [
    {
     "name": "stdout",
     "output_type": "stream",
     "text": [
      "Runtime: 6.52 for 25 iterations)\n"
     ]
    }
   ],
   "source": [
    "n_iter_search = 25\n",
    "random_search = RandomizedSearchCV(\n",
    "    optimization_pipe, param_distributions=param_dist, n_iter=n_iter_search, cv=3\n",
    ")\n",
    "t0 = time()\n",
    "random_search.fit(mol_list_std_train, y_train.values)\n",
    "t1 = time()\n",
    "\n",
    "print(f'Runtime: {t1-t0:0.2F} for {n_iter_search} iterations)')"
   ]
  },
  {
   "cell_type": "code",
   "execution_count": 12,
   "id": "b2b3d623",
   "metadata": {
    "execution": {
     "iopub.execute_input": "2023-03-19T08:54:44.026632Z",
     "iopub.status.busy": "2023-03-19T08:54:44.024799Z",
     "iopub.status.idle": "2023-03-19T08:54:44.034480Z",
     "shell.execute_reply": "2023-03-19T08:54:44.033518Z"
    },
    "lines_to_next_cell": 0
   },
   "outputs": [
    {
     "name": "stdout",
     "output_type": "stream",
     "text": [
      "Model with rank: 1\n",
      "Mean validation score: 0.492 (std: 0.048)\n",
      "Parameters: {'morgantransformer__nBits': 2048, 'morgantransformer__radius': 4, 'morgantransformer__useCounts': False, 'morgantransformer__useFeatures': False, 'ridge__alpha': 18.49687467370123}\n",
      "\n",
      "Model with rank: 2\n",
      "Mean validation score: 0.446 (std: 0.188)\n",
      "Parameters: {'morgantransformer__nBits': 256, 'morgantransformer__radius': 2, 'morgantransformer__useCounts': False, 'morgantransformer__useFeatures': False, 'ridge__alpha': 0.22311472368521185}\n",
      "\n",
      "Model with rank: 3\n",
      "Mean validation score: 0.440 (std: 0.025)\n",
      "Parameters: {'morgantransformer__nBits': 4096, 'morgantransformer__radius': 3, 'morgantransformer__useCounts': False, 'morgantransformer__useFeatures': True, 'ridge__alpha': 6.023414585108017}\n",
      "\n"
     ]
    }
   ],
   "source": [
    "report(random_search.cv_results_)"
   ]
  },
  {
   "cell_type": "markdown",
   "id": "219e3e32",
   "metadata": {},
   "source": [
    "It can be interesting to see what combinations of hyperparameters gave good results for the cross-validation. Usually the number of bits are in the high end and radius is 2 to 4. But this can vary a bit, as we do a small number of tries for this demo. More extended search with more iterations could maybe find even better and more consistent. solutions"
   ]
  },
  {
   "cell_type": "markdown",
   "id": "630772af",
   "metadata": {},
   "source": [
    "Let's see if standardization had any influence on this dataset. We build an inference pipeline that includes the standardization object and the best estimator, and run the best estimator directly on the list of test molecules"
   ]
  },
  {
   "cell_type": "code",
   "execution_count": 13,
   "id": "cb369a0e",
   "metadata": {
    "execution": {
     "iopub.execute_input": "2023-03-19T08:54:44.041562Z",
     "iopub.status.busy": "2023-03-19T08:54:44.039729Z",
     "iopub.status.idle": "2023-03-19T08:54:44.258048Z",
     "shell.execute_reply": "2023-03-19T08:54:44.256978Z"
    }
   },
   "outputs": [
    {
     "name": "stdout",
     "output_type": "stream",
     "text": [
      "No Standardization 0.5222\n",
      "With Standardization 0.5222\n"
     ]
    }
   ],
   "source": [
    "inference_pipe = make_pipeline(standardizer, random_search.best_estimator_)\n",
    "\n",
    "print(f'No Standardization {random_search.best_estimator_.score(mol_list_test, y_test):0.4F}')\n",
    "print(f'With Standardization {inference_pipe.score(mol_list_test, y_test):0.4F}')"
   ]
  },
  {
   "cell_type": "markdown",
   "id": "e00bae88",
   "metadata": {
    "lines_to_next_cell": 0,
    "title": "Building an inference pipeline, it appears our test-data was pretty standard"
   },
   "source": [
    "We see that the dataset already appeared to be in forms that are similar to the ones coming from the standardization. \n",
    "\n",
    "Interestingly the test-set performance often seem to be better than the CV performance during the hyperparameter search. This may be due to the model being refit at the end of the search to the whole training dataset, as the refit parameter on the randomized_search object by default is true. The final model is thus fitted on more data than the individual models during training.\n",
    "\n",
    "To demonstrate the effect of standartization we can see the difference if we challenge the predictor with different forms of benzoic acid and benzoates."
   ]
  },
  {
   "cell_type": "code",
   "execution_count": 14,
   "id": "f6426b23",
   "metadata": {
    "execution": {
     "iopub.execute_input": "2023-03-19T08:54:44.264895Z",
     "iopub.status.busy": "2023-03-19T08:54:44.264460Z",
     "iopub.status.idle": "2023-03-19T08:54:44.295917Z",
     "shell.execute_reply": "2023-03-19T08:54:44.294841Z"
    }
   },
   "outputs": [
    {
     "name": "stdout",
     "output_type": "stream",
     "text": [
      "Predictions with no standardization: [6.29056823 6.31806374 6.34706809 6.44119607 6.41499794]\n",
      "Predictions with standardization:    [6.29056823 6.29056823 6.29056823 6.29056823 6.29056823]\n"
     ]
    }
   ],
   "source": [
    "# Intergrating the Standardizer and challenge it with some different forms and salts of benzoic acid\n",
    "smiles_list = ['c1ccccc1C(=O)[OH]', 'c1ccccc1C(=O)[O-]', 'c1ccccc1C(=O)[O-].[Na+]', 'c1ccccc1C(=O)[O][Na]', 'c1ccccc1C(=O)[O-].C[N+](C)C']\n",
    "mols_list = [Chem.MolFromSmiles(smiles) for smiles in smiles_list]\n",
    "\n",
    "print(f'Predictions with no standardization: {random_search.best_estimator_.predict(mols_list)}')\n",
    "print(f'Predictions with standardization:    {inference_pipe.predict(mols_list)}')"
   ]
  },
  {
   "cell_type": "markdown",
   "id": "47345289",
   "metadata": {},
   "source": [
    "Without standardization we get variation in the predictions, but with the standardization object in place, we get the same results. If you want a model that gives different predictions for the different forms, either the standardization need to be removed or the settings changed.\n",
    "\n",
    "From here it should be easy to save the model using pickle, so that it can be loaded and used in other python projects. The pipeline carries both the standardization, the featurization and the prediction in one, easy to reuse object. If you want the model to be able to predict directly from SMILES strings, check out the SmilesToMol class, which is also available in Scikit-Mol :-)\n"
   ]
  },
  {
   "cell_type": "markdown",
   "id": "8e0a8f49",
   "metadata": {},
   "source": []
  }
 ],
 "metadata": {
  "jupytext": {
   "cell_metadata_filter": "title,-all",
   "formats": "ipynb,py:percent"
  },
  "kernelspec": {
   "display_name": "Python 3.9.4 ('rdkit')",
   "language": "python",
   "name": "python3"
  },
  "language_info": {
   "codemirror_mode": {
    "name": "ipython",
    "version": 3
   },
   "file_extension": ".py",
   "mimetype": "text/x-python",
   "name": "python",
   "nbconvert_exporter": "python",
   "pygments_lexer": "ipython3",
   "version": "3.10.9"
  }
 },
 "nbformat": 4,
 "nbformat_minor": 5
}
