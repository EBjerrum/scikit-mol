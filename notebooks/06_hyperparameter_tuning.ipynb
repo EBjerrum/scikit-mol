{
 "cells": [
  {
   "cell_type": "markdown",
   "id": "9d600dd1",
   "metadata": {},
   "source": [
    "# Full example: Hyperparameter tuning\n",
    "\n",
    "first some imports of the usual suspects: RDKit, pandas, matplotlib, numpy and sklearn. New kid on the block is scikit-mol"
   ]
  },
  {
   "cell_type": "code",
   "execution_count": 1,
   "id": "7df4793c",
   "metadata": {
    "execution": {
     "iopub.execute_input": "2024-04-12T12:10:21.479028Z",
     "iopub.status.busy": "2024-04-12T12:10:21.478831Z",
     "iopub.status.idle": "2024-04-12T12:10:22.543557Z",
     "shell.execute_reply": "2024-04-12T12:10:22.542929Z"
    }
   },
   "outputs": [],
   "source": [
    "import os\n",
    "import rdkit\n",
    "from rdkit import Chem\n",
    "from rdkit.Chem import PandasTools\n",
    "import pandas as pd\n",
    "import matplotlib.pyplot as plt\n",
    "from time import time\n",
    "import numpy as np\n",
    "from sklearn.pipeline import Pipeline, make_pipeline\n",
    "from sklearn.linear_model import Ridge\n",
    "from sklearn.model_selection import train_test_split\n",
    "from scikit_mol.fingerprints import MorganFingerprintTransformer\n",
    "from scikit_mol.conversions import SmilesToMolTransformer"
   ]
  },
  {
   "cell_type": "markdown",
   "id": "8acee1c3",
   "metadata": {},
   "source": [
    "We will need some data. There is a dataset with the SLC6A4 active compounds from ExcapeDB on Zenodo. The scikit-mol project uses a subset of this for testing, and the samples there has been specially selected to give good results in testing (it should therefore be used for any production modelling). If full_set is false, the fast subset will be used, and otherwise the full dataset will be downloaded if needed."
   ]
  },
  {
   "cell_type": "code",
   "execution_count": 2,
   "id": "45a8ebf1",
   "metadata": {
    "execution": {
     "iopub.execute_input": "2024-04-12T12:10:22.546506Z",
     "iopub.status.busy": "2024-04-12T12:10:22.546207Z",
     "iopub.status.idle": "2024-04-12T12:10:22.550011Z",
     "shell.execute_reply": "2024-04-12T12:10:22.549526Z"
    }
   },
   "outputs": [],
   "source": [
    "full_set = False\n",
    "\n",
    "if full_set:\n",
    "    csv_file = \"SLC6A4_active_excape_export.csv\"\n",
    "    if not os.path.exists(csv_file):\n",
    "        import urllib.request\n",
    "        url = \"https://ndownloader.figshare.com/files/25747817\"\n",
    "        urllib.request.urlretrieve(url, csv_file)\n",
    "else:\n",
    "    csv_file = '../tests/data/SLC6A4_active_excapedb_subset.csv'"
   ]
  },
  {
   "cell_type": "markdown",
   "id": "f3c108d4",
   "metadata": {},
   "source": [
    "The CSV data is loaded into a Pandas dataframe and the PandasTools utility from RDKit is used to add a column with RDKit molecules"
   ]
  },
  {
   "cell_type": "code",
   "execution_count": 3,
   "id": "08c233a7",
   "metadata": {
    "execution": {
     "iopub.execute_input": "2024-04-12T12:10:22.552652Z",
     "iopub.status.busy": "2024-04-12T12:10:22.552186Z",
     "iopub.status.idle": "2024-04-12T12:10:22.591597Z",
     "shell.execute_reply": "2024-04-12T12:10:22.591017Z"
    }
   },
   "outputs": [
    {
     "name": "stdout",
     "output_type": "stream",
     "text": [
      "0 out of 200 SMILES failed in conversion\n"
     ]
    }
   ],
   "source": [
    "\n",
    "data = pd.read_csv(csv_file)\n",
    "\n",
    "PandasTools.AddMoleculeColumnToFrame(data, smilesCol=\"SMILES\")\n",
    "print(f\"{data.ROMol.isna().sum()} out of {len(data)} SMILES failed in conversion\")"
   ]
  },
  {
   "cell_type": "markdown",
   "id": "e1828bee",
   "metadata": {},
   "source": [
    "We use the train_test_split to, well, split the dataframe's molecule columns and pXC50 column into lists for train and testing"
   ]
  },
  {
   "cell_type": "code",
   "execution_count": 4,
   "id": "5363d05a",
   "metadata": {
    "execution": {
     "iopub.execute_input": "2024-04-12T12:10:22.594077Z",
     "iopub.status.busy": "2024-04-12T12:10:22.593866Z",
     "iopub.status.idle": "2024-04-12T12:10:22.598774Z",
     "shell.execute_reply": "2024-04-12T12:10:22.598212Z"
    },
    "lines_to_next_cell": 2
   },
   "outputs": [],
   "source": [
    "\n",
    "mol_list_train, mol_list_test, y_train, y_test = train_test_split(data.ROMol, data.pXC50, random_state=42)"
   ]
  },
  {
   "cell_type": "markdown",
   "id": "bf9e8c8d",
   "metadata": {},
   "source": [
    "We will standardize the molecules before modelling. This is best done before the hyperparameter optimizatiion of the featurization with the scikit-mol transformer and regression modelling, as the standardization is otherwise done for every loop in the hyperparameter optimization, which will make it take longer time."
   ]
  },
  {
   "cell_type": "code",
   "execution_count": 5,
   "id": "885daf12",
   "metadata": {
    "execution": {
     "iopub.execute_input": "2024-04-12T12:10:22.601148Z",
     "iopub.status.busy": "2024-04-12T12:10:22.600938Z",
     "iopub.status.idle": "2024-04-12T12:10:22.967869Z",
     "shell.execute_reply": "2024-04-12T12:10:22.967178Z"
    }
   },
   "outputs": [],
   "source": [
    "# Probably the recommended way would be to prestandardize the data if there's no changes to the transformer, \n",
    "# and then add the standardizer in the inference pipeline.\n",
    "\n",
    "from scikit_mol.standardizer import Standardizer\n",
    "\n",
    "standardizer = Standardizer()\n",
    "mol_list_std_train = standardizer.transform(mol_list_train)"
   ]
  },
  {
   "cell_type": "markdown",
   "id": "a81ae4c4",
   "metadata": {},
   "source": [
    "A simple pipeline with a MorganTransformer and a Ridge() regression for demonstration."
   ]
  },
  {
   "cell_type": "code",
   "execution_count": 6,
   "id": "8fd14250",
   "metadata": {
    "execution": {
     "iopub.execute_input": "2024-04-12T12:10:22.970766Z",
     "iopub.status.busy": "2024-04-12T12:10:22.970539Z",
     "iopub.status.idle": "2024-04-12T12:10:22.973715Z",
     "shell.execute_reply": "2024-04-12T12:10:22.973234Z"
    }
   },
   "outputs": [],
   "source": [
    "\n",
    "moltransformer = MorganFingerprintTransformer()\n",
    "regressor = Ridge()\n",
    "\n",
    "optimization_pipe = make_pipeline(moltransformer, regressor)\n",
    "\n"
   ]
  },
  {
   "cell_type": "markdown",
   "id": "ad2752d0",
   "metadata": {},
   "source": [
    "For hyperparameter optimization we import the RandomizedSearchCV class from Scikit-Learn. It will try different random combinations of settings and use internal cross-validation to find the best model. In the end, it will fit the best found parameters on the full set. We also import loguniform, to get a better sampling of some of the parameters."
   ]
  },
  {
   "cell_type": "code",
   "execution_count": 7,
   "id": "fa082078",
   "metadata": {
    "execution": {
     "iopub.execute_input": "2024-04-12T12:10:22.976061Z",
     "iopub.status.busy": "2024-04-12T12:10:22.975846Z",
     "iopub.status.idle": "2024-04-12T12:10:22.978721Z",
     "shell.execute_reply": "2024-04-12T12:10:22.978155Z"
    },
    "title": "Now hyperparameter tuning"
   },
   "outputs": [],
   "source": [
    "from sklearn.model_selection import RandomizedSearchCV\n",
    "#from sklearn.utils.fixes import loguniform\n",
    "from scipy.stats import loguniform"
   ]
  },
  {
   "cell_type": "markdown",
   "id": "fa2a316a",
   "metadata": {},
   "source": [
    "With the pipelines, getting the names of the parameters to tune is a bit more tricky, as they are concatenations of the name of the step and the parameter with double underscores in between. We can get the available parameters from the pipeline with the get_params() method, and select the parameters we want to change from there."
   ]
  },
  {
   "cell_type": "code",
   "execution_count": 8,
   "id": "046e24d3",
   "metadata": {
    "execution": {
     "iopub.execute_input": "2024-04-12T12:10:22.981002Z",
     "iopub.status.busy": "2024-04-12T12:10:22.980797Z",
     "iopub.status.idle": "2024-04-12T12:10:22.986820Z",
     "shell.execute_reply": "2024-04-12T12:10:22.986344Z"
    },
    "title": "Which keys do we have?"
   },
   "outputs": [
    {
     "data": {
      "text/plain": [
       "dict_keys(['memory', 'steps', 'verbose', 'morganfingerprinttransformer', 'ridge', 'morganfingerprinttransformer__nBits', 'morganfingerprinttransformer__parallel', 'morganfingerprinttransformer__radius', 'morganfingerprinttransformer__useBondTypes', 'morganfingerprinttransformer__useChirality', 'morganfingerprinttransformer__useCounts', 'morganfingerprinttransformer__useFeatures', 'ridge__alpha', 'ridge__copy_X', 'ridge__fit_intercept', 'ridge__max_iter', 'ridge__positive', 'ridge__random_state', 'ridge__solver', 'ridge__tol'])"
      ]
     },
     "execution_count": 8,
     "metadata": {},
     "output_type": "execute_result"
    }
   ],
   "source": [
    "\n",
    "optimization_pipe.get_params().keys()"
   ]
  },
  {
   "cell_type": "markdown",
   "id": "cd7c2297",
   "metadata": {},
   "source": [
    "We will tune the regularization strength of the Ridge regressor, and try out different parameters for the Morgan fingerprint, namely the number of bits, the radius of the fingerprint, wheter to use counts or bits and features."
   ]
  },
  {
   "cell_type": "code",
   "execution_count": 9,
   "id": "cf2c45d7",
   "metadata": {
    "execution": {
     "iopub.execute_input": "2024-04-12T12:10:22.989460Z",
     "iopub.status.busy": "2024-04-12T12:10:22.988970Z",
     "iopub.status.idle": "2024-04-12T12:10:22.993117Z",
     "shell.execute_reply": "2024-04-12T12:10:22.992622Z"
    },
    "lines_to_next_cell": 1
   },
   "outputs": [],
   "source": [
    "\n",
    "param_dist = {'ridge__alpha': loguniform(1e-2, 1e3),\n",
    "            \"morganfingerprinttransformer__nBits\": [256,512,1024,2048,4096],\n",
    "            'morganfingerprinttransformer__radius':[1,2,3,4],\n",
    "            'morganfingerprinttransformer__useCounts': [True,False],\n",
    "            'morganfingerprinttransformer__useFeatures':[True,False]}"
   ]
  },
  {
   "cell_type": "markdown",
   "id": "d61fc18c",
   "metadata": {},
   "source": [
    "The report function was taken from [this example](https://scikit-learn.org/stable/auto_examples/model_selection/plot_randomized_search.html#sphx-glr-auto-examples-model-selection-plot-randomized-search-py) from the scikit learn documentation."
   ]
  },
  {
   "cell_type": "code",
   "execution_count": 10,
   "id": "fbb2cacd",
   "metadata": {
    "execution": {
     "iopub.execute_input": "2024-04-12T12:10:22.995477Z",
     "iopub.status.busy": "2024-04-12T12:10:22.995281Z",
     "iopub.status.idle": "2024-04-12T12:10:22.999317Z",
     "shell.execute_reply": "2024-04-12T12:10:22.998769Z"
    },
    "title": "From https://scikit-learn.org/stable/auto_examples/model_selection/plot_randomized_search.html#sphx-glr-auto-examples-model-selection-plot-randomized-search-py"
   },
   "outputs": [],
   "source": [
    "# Utility function to report best scores\n",
    "def report(results, n_top=3):\n",
    "    for i in range(1, n_top + 1):\n",
    "        candidates = np.flatnonzero(results[\"rank_test_score\"] == i)\n",
    "        for candidate in candidates:\n",
    "            print(\"Model with rank: {0}\".format(i))\n",
    "            print(\n",
    "                \"Mean validation score: {0:.3f} (std: {1:.3f})\".format(\n",
    "                    results[\"mean_test_score\"][candidate],\n",
    "                    results[\"std_test_score\"][candidate],\n",
    "                )\n",
    "            )\n",
    "            print(\"Parameters: {0}\".format(results[\"params\"][candidate]))\n",
    "            print(\"\")"
   ]
  },
  {
   "cell_type": "markdown",
   "id": "ad49376f",
   "metadata": {},
   "source": [
    "We will do 25 tries of random parameter sets, and see what comes out as the best one. If you are using the small example dataset, this should take some second, but may take some minutes with the full set."
   ]
  },
  {
   "cell_type": "code",
   "execution_count": 11,
   "id": "bc66efa3",
   "metadata": {
    "execution": {
     "iopub.execute_input": "2024-04-12T12:10:23.001598Z",
     "iopub.status.busy": "2024-04-12T12:10:23.001400Z",
     "iopub.status.idle": "2024-04-12T12:10:27.149245Z",
     "shell.execute_reply": "2024-04-12T12:10:27.148640Z"
    }
   },
   "outputs": [
    {
     "name": "stdout",
     "output_type": "stream",
     "text": [
      "Runtime: 4.14 for 25 iterations)\n"
     ]
    }
   ],
   "source": [
    "n_iter_search = 25\n",
    "random_search = RandomizedSearchCV(\n",
    "    optimization_pipe, param_distributions=param_dist, n_iter=n_iter_search, cv=3\n",
    ")\n",
    "t0 = time()\n",
    "random_search.fit(mol_list_std_train, y_train.values)\n",
    "t1 = time()\n",
    "\n",
    "print(f'Runtime: {t1-t0:0.2F} for {n_iter_search} iterations)')"
   ]
  },
  {
   "cell_type": "code",
   "execution_count": 12,
   "id": "b2b3d623",
   "metadata": {
    "execution": {
     "iopub.execute_input": "2024-04-12T12:10:27.153307Z",
     "iopub.status.busy": "2024-04-12T12:10:27.152284Z",
     "iopub.status.idle": "2024-04-12T12:10:27.157929Z",
     "shell.execute_reply": "2024-04-12T12:10:27.157394Z"
    },
    "lines_to_next_cell": 0
   },
   "outputs": [
    {
     "name": "stdout",
     "output_type": "stream",
     "text": [
      "Model with rank: 1\n",
      "Mean validation score: 0.539 (std: 0.090)\n",
      "Parameters: {'morganfingerprinttransformer__nBits': 2048, 'morganfingerprinttransformer__radius': 1, 'morganfingerprinttransformer__useCounts': False, 'morganfingerprinttransformer__useFeatures': False, 'ridge__alpha': 10.016632822744322}\n",
      "\n",
      "Model with rank: 2\n",
      "Mean validation score: 0.534 (std: 0.145)\n",
      "Parameters: {'morganfingerprinttransformer__nBits': 2048, 'morganfingerprinttransformer__radius': 3, 'morganfingerprinttransformer__useCounts': False, 'morganfingerprinttransformer__useFeatures': False, 'ridge__alpha': 0.7814453905088184}\n",
      "\n",
      "Model with rank: 3\n",
      "Mean validation score: 0.526 (std: 0.090)\n",
      "Parameters: {'morganfingerprinttransformer__nBits': 4096, 'morganfingerprinttransformer__radius': 1, 'morganfingerprinttransformer__useCounts': False, 'morganfingerprinttransformer__useFeatures': False, 'ridge__alpha': 11.295262712617353}\n",
      "\n"
     ]
    }
   ],
   "source": [
    "report(random_search.cv_results_)"
   ]
  },
  {
   "cell_type": "markdown",
   "id": "219e3e32",
   "metadata": {},
   "source": [
    "It can be interesting to see what combinations of hyperparameters gave good results for the cross-validation. Usually the number of bits are in the high end and radius is 2 to 4. But this can vary a bit, as we do a small number of tries for this demo. More extended search with more iterations could maybe find even better and more consistent. solutions"
   ]
  },
  {
   "cell_type": "markdown",
   "id": "630772af",
   "metadata": {},
   "source": [
    "Let's see if standardization had any influence on this dataset. We build an inference pipeline that includes the standardization object and the best estimator, and run the best estimator directly on the list of test molecules"
   ]
  },
  {
   "cell_type": "code",
   "execution_count": 13,
   "id": "cb369a0e",
   "metadata": {
    "execution": {
     "iopub.execute_input": "2024-04-12T12:10:27.161728Z",
     "iopub.status.busy": "2024-04-12T12:10:27.160746Z",
     "iopub.status.idle": "2024-04-12T12:10:27.316434Z",
     "shell.execute_reply": "2024-04-12T12:10:27.315830Z"
    }
   },
   "outputs": [
    {
     "name": "stdout",
     "output_type": "stream",
     "text": [
      "No Standardization 0.5379\n",
      "With Standardization 0.5379\n"
     ]
    }
   ],
   "source": [
    "inference_pipe = make_pipeline(standardizer, random_search.best_estimator_)\n",
    "\n",
    "print(f'No Standardization {random_search.best_estimator_.score(mol_list_test, y_test):0.4F}')\n",
    "print(f'With Standardization {inference_pipe.score(mol_list_test, y_test):0.4F}')"
   ]
  },
  {
   "cell_type": "markdown",
   "id": "e00bae88",
   "metadata": {
    "lines_to_next_cell": 0,
    "title": "Building an inference pipeline, it appears our test-data was pretty standard"
   },
   "source": [
    "We see that the dataset already appeared to be in forms that are similar to the ones coming from the standardization. \n",
    "\n",
    "Interestingly the test-set performance often seem to be better than the CV performance during the hyperparameter search. This may be due to the model being refit at the end of the search to the whole training dataset, as the refit parameter on the randomized_search object by default is true. The final model is thus fitted on more data than the individual models during training.\n",
    "\n",
    "To demonstrate the effect of standartization we can see the difference if we challenge the predictor with different forms of benzoic acid and benzoates."
   ]
  },
  {
   "cell_type": "code",
   "execution_count": 14,
   "id": "f6426b23",
   "metadata": {
    "execution": {
     "iopub.execute_input": "2024-04-12T12:10:27.320951Z",
     "iopub.status.busy": "2024-04-12T12:10:27.319924Z",
     "iopub.status.idle": "2024-04-12T12:10:27.337918Z",
     "shell.execute_reply": "2024-04-12T12:10:27.337344Z"
    }
   },
   "outputs": [
    {
     "name": "stdout",
     "output_type": "stream",
     "text": [
      "Predictions with no standardization: [5.95334818 5.99768591 5.99768591 6.31509408 6.09785566]\n",
      "Predictions with standardization:    [5.95334818 5.95334818 5.95334818 5.95334818 5.95334818]\n"
     ]
    }
   ],
   "source": [
    "# Intergrating the Standardizer and challenge it with some different forms and salts of benzoic acid\n",
    "smiles_list = ['c1ccccc1C(=O)[OH]', 'c1ccccc1C(=O)[O-]', 'c1ccccc1C(=O)[O-].[Na+]', 'c1ccccc1C(=O)[O][Na]', 'c1ccccc1C(=O)[O-].C[N+](C)C']\n",
    "mols_list = [Chem.MolFromSmiles(smiles) for smiles in smiles_list]\n",
    "\n",
    "print(f'Predictions with no standardization: {random_search.best_estimator_.predict(mols_list)}')\n",
    "print(f'Predictions with standardization:    {inference_pipe.predict(mols_list)}')"
   ]
  },
  {
   "cell_type": "markdown",
   "id": "47345289",
   "metadata": {},
   "source": [
    "Without standardization we get variation in the predictions, but with the standardization object in place, we get the same results. If you want a model that gives different predictions for the different forms, either the standardization need to be removed or the settings changed.\n",
    "\n",
    "From here it should be easy to save the model using pickle, so that it can be loaded and used in other python projects. The pipeline carries both the standardization, the featurization and the prediction in one, easy to reuse object. If you want the model to be able to predict directly from SMILES strings, check out the SmilesToMol class, which is also available in Scikit-Mol :-)\n"
   ]
  },
  {
   "cell_type": "markdown",
   "id": "8e0a8f49",
   "metadata": {},
   "source": []
  }
 ],
 "metadata": {
  "jupytext": {
   "cell_metadata_filter": "title,-all",
   "formats": "ipynb,py:percent"
  },
  "kernelspec": {
   "display_name": "Python 3.9.4 ('rdkit')",
   "language": "python",
   "name": "python3"
  },
  "language_info": {
   "codemirror_mode": {
    "name": "ipython",
    "version": 3
   },
   "file_extension": ".py",
   "mimetype": "text/x-python",
   "name": "python",
   "nbconvert_exporter": "python",
   "pygments_lexer": "ipython3",
   "version": "3.10.12"
  }
 },
 "nbformat": 4,
 "nbformat_minor": 5
}
