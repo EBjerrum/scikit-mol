{
 "cells": [
  {
   "cell_type": "markdown",
   "metadata": {},
   "source": [
    "# Desc2DTransformer: RDKit descriptors transformer\n",
    "\n",
    "The descriptors transformer can convert molecules into a list of RDKit descriptors. It largely follows the API of the other transformers, but has a few extra methods and properties to manage the descriptors."
   ]
  },
  {
   "cell_type": "code",
   "execution_count": 1,
   "metadata": {
    "execution": {
     "iopub.execute_input": "2022-12-09T17:05:18.237813Z",
     "iopub.status.busy": "2022-12-09T17:05:18.231669Z",
     "iopub.status.idle": "2022-12-09T17:05:19.472423Z",
     "shell.execute_reply": "2022-12-09T17:05:19.473052Z"
    },
    "lines_to_next_cell": 0
   },
   "outputs": [],
   "source": [
    "from rdkit import Chem\n",
    "import numpy as np\n",
    "import matplotlib.pyplot as plt\n",
    "from scikit_mol.descriptors import Desc2DTransformer"
   ]
  },
  {
   "cell_type": "markdown",
   "metadata": {},
   "source": [
    "After instantiation of the descriptor transformer, we can query which descriptors it found available in the RDKit framework."
   ]
  },
  {
   "cell_type": "code",
   "execution_count": 2,
   "metadata": {
    "execution": {
     "iopub.execute_input": "2022-12-09T17:05:19.483046Z",
     "iopub.status.busy": "2022-12-09T17:05:19.482270Z",
     "iopub.status.idle": "2022-12-09T17:05:19.488472Z",
     "shell.execute_reply": "2022-12-09T17:05:19.489024Z"
    }
   },
   "outputs": [
    {
     "name": "stdout",
     "output_type": "stream",
     "text": [
      "There are 208 available descriptors\n",
      "The first five descriptor names: ['MaxEStateIndex', 'MinEStateIndex', 'MaxAbsEStateIndex', 'MinAbsEStateIndex', 'qed']\n"
     ]
    }
   ],
   "source": [
    "descriptor = Desc2DTransformer()\n",
    "available_descriptors = descriptor.available_descriptors\n",
    "print(f\"There are {len(available_descriptors)} available descriptors\")\n",
    "print(f\"The first five descriptor names: {available_descriptors[:5]}\")"
   ]
  },
  {
   "cell_type": "markdown",
   "metadata": {},
   "source": [
    "We can transform molecules to their descriptor profiles"
   ]
  },
  {
   "cell_type": "code",
   "execution_count": 3,
   "metadata": {
    "execution": {
     "iopub.execute_input": "2022-12-09T17:05:19.500136Z",
     "iopub.status.busy": "2022-12-09T17:05:19.499086Z",
     "iopub.status.idle": "2022-12-09T17:05:19.799043Z",
     "shell.execute_reply": "2022-12-09T17:05:19.799755Z"
    }
   },
   "outputs": [
    {
     "data": {
      "image/png": "[encoded data removed]",
      "text/plain": [
       "<Figure size 432x288 with 1 Axes>"
      ]
     },
     "metadata": {
      "needs_background": "light"
     },
     "output_type": "display_data"
    }
   ],
   "source": [
    "smiles_list = [\"CCCC\", \"c1ccccc1\"]\n",
    "mols = [Chem.MolFromSmiles(smiles) for smiles in smiles_list]\n",
    "\n",
    "features = descriptor.transform(mols)\n",
    "_ = plt.plot(np.array(features).T)"
   ]
  },
  {
   "cell_type": "markdown",
   "metadata": {},
   "source": [
    "If we only want some of them, this can be specified at object instantiation."
   ]
  },
  {
   "cell_type": "code",
   "execution_count": 4,
   "metadata": {
    "execution": {
     "iopub.execute_input": "2022-12-09T17:05:19.808041Z",
     "iopub.status.busy": "2022-12-09T17:05:19.807220Z",
     "iopub.status.idle": "2022-12-09T17:05:19.812456Z",
     "shell.execute_reply": "2022-12-09T17:05:19.813071Z"
    }
   },
   "outputs": [
    {
     "name": "stdout",
     "output_type": "stream",
     "text": [
      "Selected descriptors are ['HeavyAtomCount', 'FractionCSP3', 'RingCount', 'MolLogP', 'MolWt']\n"
     ]
    }
   ],
   "source": [
    "some_descriptors = Desc2DTransformer(desc_list=['HeavyAtomCount', 'FractionCSP3', 'RingCount', 'MolLogP', 'MolWt'])\n",
    "print(f\"Selected descriptors are {some_descriptors.selected_descriptors}\")\n",
    "features = some_descriptors.transform(mols)"
   ]
  },
  {
   "cell_type": "markdown",
   "metadata": {},
   "source": [
    "If we want to update the selected descriptors on an already existing object, this can be done via the .set_params() method"
   ]
  },
  {
   "cell_type": "code",
   "execution_count": 5,
   "metadata": {
    "execution": {
     "iopub.execute_input": "2022-12-09T17:05:19.820034Z",
     "iopub.status.busy": "2022-12-09T17:05:19.818460Z",
     "iopub.status.idle": "2022-12-09T17:05:19.823770Z",
     "shell.execute_reply": "2022-12-09T17:05:19.824328Z"
    }
   },
   "outputs": [
    {
     "name": "stdout",
     "output_type": "stream",
     "text": [
      "Desc2DTransformer(desc_list=['HeavyAtomCount', 'FractionCSP3', 'RingCount'])\n"
     ]
    }
   ],
   "source": [
    "print(some_descriptors.set_params(desc_list=['HeavyAtomCount', 'FractionCSP3', 'RingCount']))"
   ]
  },
  {
   "cell_type": "code",
   "execution_count": null,
   "metadata": {},
   "outputs": [],
   "source": []
  }
 ],
 "metadata": {
  "jupytext": {
   "cell_metadata_filter": "-all",
   "formats": "ipynb,py:percent"
  },
  "kernelspec": {
   "display_name": "Python 3.9.4 ('rdkit')",
   "language": "python",
   "name": "python3"
  },
  "language_info": {
   "codemirror_mode": {
    "name": "ipython",
    "version": 3
   },
   "file_extension": ".py",
   "mimetype": "text/x-python",
   "name": "python",
   "nbconvert_exporter": "python",
   "pygments_lexer": "ipython3",
   "version": "3.9.4"
  },
  "vscode": {
   "interpreter": {
    "hash": "dc6218d6ccd9a44863300cd5111a59d6c18db4de812eb936d6a68ad5fa5cf18f"
   }
  }
 },
 "nbformat": 4,
 "nbformat_minor": 2
}
