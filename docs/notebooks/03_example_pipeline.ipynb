{
 "cells": [
  {
   "cell_type": "markdown",
   "id": "e7c43298",
   "metadata": {},
   "source": [
    "# Pipelining the scikit-mol transformer\n",
    "\n",
    "One of the very usable things with scikit-learn are their pipelines. With pipelines different scikit-learn transformers can be stacked and operated on just as a single model object. In this example we will build a simple model that can predict directly on RDKit molecules and then expand it to one that predicts directly on SMILES strings\n",
    "\n",
    "First some needed imports and a dataset"
   ]
  },
  {
   "cell_type": "code",
   "execution_count": 1,
   "id": "79139b10",
   "metadata": {
    "execution": {
     "iopub.execute_input": "2024-11-24T09:27:21.863626Z",
     "iopub.status.busy": "2024-11-24T09:27:21.863272Z",
     "iopub.status.idle": "2024-11-24T09:27:22.718519Z",
     "shell.execute_reply": "2024-11-24T09:27:22.717789Z"
    }
   },
   "outputs": [],
   "source": [
    "import os\n",
    "import rdkit\n",
    "from rdkit import Chem\n",
    "from rdkit.Chem import PandasTools\n",
    "import pandas as pd\n",
    "import matplotlib.pyplot as plt\n",
    "from time import time\n",
    "import numpy as np"
   ]
  },
  {
   "cell_type": "code",
   "execution_count": null,
   "id": "17a9cdd7",
   "metadata": {
    "execution": {
     "iopub.execute_input": "2024-11-24T09:27:22.722219Z",
     "iopub.status.busy": "2024-11-24T09:27:22.721369Z",
     "iopub.status.idle": "2024-11-24T09:27:22.727326Z",
     "shell.execute_reply": "2024-11-24T09:27:22.726709Z"
    },
    "lines_to_next_cell": 0
   },
   "outputs": [
    {
     "ename": "FileNotFoundError",
     "evalue": "[Errno 2] No such file or directory: '../tests/data/SLC6A4_active_excapedb_subset.csv'",
     "output_type": "error",
     "traceback": [
      "\u001b[0;31m---------------------------------------------------------------------------\u001b[0m",
      "\u001b[0;31mFileNotFoundError\u001b[0m                         Traceback (most recent call last)",
      "Cell \u001b[0;32mIn[2], line 2\u001b[0m\n\u001b[1;32m      1\u001b[0m csv_file \u001b[38;5;241m=\u001b[39m \u001b[38;5;124m\"\u001b[39m\u001b[38;5;124m../tests/data/SLC6A4_active_excapedb_subset.csv\u001b[39m\u001b[38;5;124m\"\u001b[39m  \u001b[38;5;66;03m# Hmm, maybe better to download directly\u001b[39;00m\n\u001b[0;32m----> 2\u001b[0m data \u001b[38;5;241m=\u001b[39m \u001b[43mpd\u001b[49m\u001b[38;5;241;43m.\u001b[39;49m\u001b[43mread_csv\u001b[49m\u001b[43m(\u001b[49m\u001b[43mcsv_file\u001b[49m\u001b[43m)\u001b[49m\n",
      "File \u001b[0;32m~/projects/scikit-mol/.venv/lib/python3.12/site-packages/pandas/io/parsers/readers.py:1026\u001b[0m, in \u001b[0;36mread_csv\u001b[0;34m(filepath_or_buffer, sep, delimiter, header, names, index_col, usecols, dtype, engine, converters, true_values, false_values, skipinitialspace, skiprows, skipfooter, nrows, na_values, keep_default_na, na_filter, verbose, skip_blank_lines, parse_dates, infer_datetime_format, keep_date_col, date_parser, date_format, dayfirst, cache_dates, iterator, chunksize, compression, thousands, decimal, lineterminator, quotechar, quoting, doublequote, escapechar, comment, encoding, encoding_errors, dialect, on_bad_lines, delim_whitespace, low_memory, memory_map, float_precision, storage_options, dtype_backend)\u001b[0m\n\u001b[1;32m   1013\u001b[0m kwds_defaults \u001b[38;5;241m=\u001b[39m _refine_defaults_read(\n\u001b[1;32m   1014\u001b[0m     dialect,\n\u001b[1;32m   1015\u001b[0m     delimiter,\n\u001b[0;32m   (...)\u001b[0m\n\u001b[1;32m   1022\u001b[0m     dtype_backend\u001b[38;5;241m=\u001b[39mdtype_backend,\n\u001b[1;32m   1023\u001b[0m )\n\u001b[1;32m   1024\u001b[0m kwds\u001b[38;5;241m.\u001b[39mupdate(kwds_defaults)\n\u001b[0;32m-> 1026\u001b[0m \u001b[38;5;28;01mreturn\u001b[39;00m \u001b[43m_read\u001b[49m\u001b[43m(\u001b[49m\u001b[43mfilepath_or_buffer\u001b[49m\u001b[43m,\u001b[49m\u001b[43m \u001b[49m\u001b[43mkwds\u001b[49m\u001b[43m)\u001b[49m\n",
      "File \u001b[0;32m~/projects/scikit-mol/.venv/lib/python3.12/site-packages/pandas/io/parsers/readers.py:620\u001b[0m, in \u001b[0;36m_read\u001b[0;34m(filepath_or_buffer, kwds)\u001b[0m\n\u001b[1;32m    617\u001b[0m _validate_names(kwds\u001b[38;5;241m.\u001b[39mget(\u001b[38;5;124m\"\u001b[39m\u001b[38;5;124mnames\u001b[39m\u001b[38;5;124m\"\u001b[39m, \u001b[38;5;28;01mNone\u001b[39;00m))\n\u001b[1;32m    619\u001b[0m \u001b[38;5;66;03m# Create the parser.\u001b[39;00m\n\u001b[0;32m--> 620\u001b[0m parser \u001b[38;5;241m=\u001b[39m \u001b[43mTextFileReader\u001b[49m\u001b[43m(\u001b[49m\u001b[43mfilepath_or_buffer\u001b[49m\u001b[43m,\u001b[49m\u001b[43m \u001b[49m\u001b[38;5;241;43m*\u001b[39;49m\u001b[38;5;241;43m*\u001b[39;49m\u001b[43mkwds\u001b[49m\u001b[43m)\u001b[49m\n\u001b[1;32m    622\u001b[0m \u001b[38;5;28;01mif\u001b[39;00m chunksize \u001b[38;5;129;01mor\u001b[39;00m iterator:\n\u001b[1;32m    623\u001b[0m     \u001b[38;5;28;01mreturn\u001b[39;00m parser\n",
      "File \u001b[0;32m~/projects/scikit-mol/.venv/lib/python3.12/site-packages/pandas/io/parsers/readers.py:1620\u001b[0m, in \u001b[0;36mTextFileReader.__init__\u001b[0;34m(self, f, engine, **kwds)\u001b[0m\n\u001b[1;32m   1617\u001b[0m     \u001b[38;5;28mself\u001b[39m\u001b[38;5;241m.\u001b[39moptions[\u001b[38;5;124m\"\u001b[39m\u001b[38;5;124mhas_index_names\u001b[39m\u001b[38;5;124m\"\u001b[39m] \u001b[38;5;241m=\u001b[39m kwds[\u001b[38;5;124m\"\u001b[39m\u001b[38;5;124mhas_index_names\u001b[39m\u001b[38;5;124m\"\u001b[39m]\n\u001b[1;32m   1619\u001b[0m \u001b[38;5;28mself\u001b[39m\u001b[38;5;241m.\u001b[39mhandles: IOHandles \u001b[38;5;241m|\u001b[39m \u001b[38;5;28;01mNone\u001b[39;00m \u001b[38;5;241m=\u001b[39m \u001b[38;5;28;01mNone\u001b[39;00m\n\u001b[0;32m-> 1620\u001b[0m \u001b[38;5;28mself\u001b[39m\u001b[38;5;241m.\u001b[39m_engine \u001b[38;5;241m=\u001b[39m \u001b[38;5;28;43mself\u001b[39;49m\u001b[38;5;241;43m.\u001b[39;49m\u001b[43m_make_engine\u001b[49m\u001b[43m(\u001b[49m\u001b[43mf\u001b[49m\u001b[43m,\u001b[49m\u001b[43m \u001b[49m\u001b[38;5;28;43mself\u001b[39;49m\u001b[38;5;241;43m.\u001b[39;49m\u001b[43mengine\u001b[49m\u001b[43m)\u001b[49m\n",
      "File \u001b[0;32m~/projects/scikit-mol/.venv/lib/python3.12/site-packages/pandas/io/parsers/readers.py:1880\u001b[0m, in \u001b[0;36mTextFileReader._make_engine\u001b[0;34m(self, f, engine)\u001b[0m\n\u001b[1;32m   1878\u001b[0m     \u001b[38;5;28;01mif\u001b[39;00m \u001b[38;5;124m\"\u001b[39m\u001b[38;5;124mb\u001b[39m\u001b[38;5;124m\"\u001b[39m \u001b[38;5;129;01mnot\u001b[39;00m \u001b[38;5;129;01min\u001b[39;00m mode:\n\u001b[1;32m   1879\u001b[0m         mode \u001b[38;5;241m+\u001b[39m\u001b[38;5;241m=\u001b[39m \u001b[38;5;124m\"\u001b[39m\u001b[38;5;124mb\u001b[39m\u001b[38;5;124m\"\u001b[39m\n\u001b[0;32m-> 1880\u001b[0m \u001b[38;5;28mself\u001b[39m\u001b[38;5;241m.\u001b[39mhandles \u001b[38;5;241m=\u001b[39m \u001b[43mget_handle\u001b[49m\u001b[43m(\u001b[49m\n\u001b[1;32m   1881\u001b[0m \u001b[43m    \u001b[49m\u001b[43mf\u001b[49m\u001b[43m,\u001b[49m\n\u001b[1;32m   1882\u001b[0m \u001b[43m    \u001b[49m\u001b[43mmode\u001b[49m\u001b[43m,\u001b[49m\n\u001b[1;32m   1883\u001b[0m \u001b[43m    \u001b[49m\u001b[43mencoding\u001b[49m\u001b[38;5;241;43m=\u001b[39;49m\u001b[38;5;28;43mself\u001b[39;49m\u001b[38;5;241;43m.\u001b[39;49m\u001b[43moptions\u001b[49m\u001b[38;5;241;43m.\u001b[39;49m\u001b[43mget\u001b[49m\u001b[43m(\u001b[49m\u001b[38;5;124;43m\"\u001b[39;49m\u001b[38;5;124;43mencoding\u001b[39;49m\u001b[38;5;124;43m\"\u001b[39;49m\u001b[43m,\u001b[49m\u001b[43m \u001b[49m\u001b[38;5;28;43;01mNone\u001b[39;49;00m\u001b[43m)\u001b[49m\u001b[43m,\u001b[49m\n\u001b[1;32m   1884\u001b[0m \u001b[43m    \u001b[49m\u001b[43mcompression\u001b[49m\u001b[38;5;241;43m=\u001b[39;49m\u001b[38;5;28;43mself\u001b[39;49m\u001b[38;5;241;43m.\u001b[39;49m\u001b[43moptions\u001b[49m\u001b[38;5;241;43m.\u001b[39;49m\u001b[43mget\u001b[49m\u001b[43m(\u001b[49m\u001b[38;5;124;43m\"\u001b[39;49m\u001b[38;5;124;43mcompression\u001b[39;49m\u001b[38;5;124;43m\"\u001b[39;49m\u001b[43m,\u001b[49m\u001b[43m \u001b[49m\u001b[38;5;28;43;01mNone\u001b[39;49;00m\u001b[43m)\u001b[49m\u001b[43m,\u001b[49m\n\u001b[1;32m   1885\u001b[0m \u001b[43m    \u001b[49m\u001b[43mmemory_map\u001b[49m\u001b[38;5;241;43m=\u001b[39;49m\u001b[38;5;28;43mself\u001b[39;49m\u001b[38;5;241;43m.\u001b[39;49m\u001b[43moptions\u001b[49m\u001b[38;5;241;43m.\u001b[39;49m\u001b[43mget\u001b[49m\u001b[43m(\u001b[49m\u001b[38;5;124;43m\"\u001b[39;49m\u001b[38;5;124;43mmemory_map\u001b[39;49m\u001b[38;5;124;43m\"\u001b[39;49m\u001b[43m,\u001b[49m\u001b[43m \u001b[49m\u001b[38;5;28;43;01mFalse\u001b[39;49;00m\u001b[43m)\u001b[49m\u001b[43m,\u001b[49m\n\u001b[1;32m   1886\u001b[0m \u001b[43m    \u001b[49m\u001b[43mis_text\u001b[49m\u001b[38;5;241;43m=\u001b[39;49m\u001b[43mis_text\u001b[49m\u001b[43m,\u001b[49m\n\u001b[1;32m   1887\u001b[0m \u001b[43m    \u001b[49m\u001b[43merrors\u001b[49m\u001b[38;5;241;43m=\u001b[39;49m\u001b[38;5;28;43mself\u001b[39;49m\u001b[38;5;241;43m.\u001b[39;49m\u001b[43moptions\u001b[49m\u001b[38;5;241;43m.\u001b[39;49m\u001b[43mget\u001b[49m\u001b[43m(\u001b[49m\u001b[38;5;124;43m\"\u001b[39;49m\u001b[38;5;124;43mencoding_errors\u001b[39;49m\u001b[38;5;124;43m\"\u001b[39;49m\u001b[43m,\u001b[49m\u001b[43m \u001b[49m\u001b[38;5;124;43m\"\u001b[39;49m\u001b[38;5;124;43mstrict\u001b[39;49m\u001b[38;5;124;43m\"\u001b[39;49m\u001b[43m)\u001b[49m\u001b[43m,\u001b[49m\n\u001b[1;32m   1888\u001b[0m \u001b[43m    \u001b[49m\u001b[43mstorage_options\u001b[49m\u001b[38;5;241;43m=\u001b[39;49m\u001b[38;5;28;43mself\u001b[39;49m\u001b[38;5;241;43m.\u001b[39;49m\u001b[43moptions\u001b[49m\u001b[38;5;241;43m.\u001b[39;49m\u001b[43mget\u001b[49m\u001b[43m(\u001b[49m\u001b[38;5;124;43m\"\u001b[39;49m\u001b[38;5;124;43mstorage_options\u001b[39;49m\u001b[38;5;124;43m\"\u001b[39;49m\u001b[43m,\u001b[49m\u001b[43m \u001b[49m\u001b[38;5;28;43;01mNone\u001b[39;49;00m\u001b[43m)\u001b[49m\u001b[43m,\u001b[49m\n\u001b[1;32m   1889\u001b[0m \u001b[43m\u001b[49m\u001b[43m)\u001b[49m\n\u001b[1;32m   1890\u001b[0m \u001b[38;5;28;01massert\u001b[39;00m \u001b[38;5;28mself\u001b[39m\u001b[38;5;241m.\u001b[39mhandles \u001b[38;5;129;01mis\u001b[39;00m \u001b[38;5;129;01mnot\u001b[39;00m \u001b[38;5;28;01mNone\u001b[39;00m\n\u001b[1;32m   1891\u001b[0m f \u001b[38;5;241m=\u001b[39m \u001b[38;5;28mself\u001b[39m\u001b[38;5;241m.\u001b[39mhandles\u001b[38;5;241m.\u001b[39mhandle\n",
      "File \u001b[0;32m~/projects/scikit-mol/.venv/lib/python3.12/site-packages/pandas/io/common.py:873\u001b[0m, in \u001b[0;36mget_handle\u001b[0;34m(path_or_buf, mode, encoding, compression, memory_map, is_text, errors, storage_options)\u001b[0m\n\u001b[1;32m    868\u001b[0m \u001b[38;5;28;01melif\u001b[39;00m \u001b[38;5;28misinstance\u001b[39m(handle, \u001b[38;5;28mstr\u001b[39m):\n\u001b[1;32m    869\u001b[0m     \u001b[38;5;66;03m# Check whether the filename is to be opened in binary mode.\u001b[39;00m\n\u001b[1;32m    870\u001b[0m     \u001b[38;5;66;03m# Binary mode does not support 'encoding' and 'newline'.\u001b[39;00m\n\u001b[1;32m    871\u001b[0m     \u001b[38;5;28;01mif\u001b[39;00m ioargs\u001b[38;5;241m.\u001b[39mencoding \u001b[38;5;129;01mand\u001b[39;00m \u001b[38;5;124m\"\u001b[39m\u001b[38;5;124mb\u001b[39m\u001b[38;5;124m\"\u001b[39m \u001b[38;5;129;01mnot\u001b[39;00m \u001b[38;5;129;01min\u001b[39;00m ioargs\u001b[38;5;241m.\u001b[39mmode:\n\u001b[1;32m    872\u001b[0m         \u001b[38;5;66;03m# Encoding\u001b[39;00m\n\u001b[0;32m--> 873\u001b[0m         handle \u001b[38;5;241m=\u001b[39m \u001b[38;5;28;43mopen\u001b[39;49m\u001b[43m(\u001b[49m\n\u001b[1;32m    874\u001b[0m \u001b[43m            \u001b[49m\u001b[43mhandle\u001b[49m\u001b[43m,\u001b[49m\n\u001b[1;32m    875\u001b[0m \u001b[43m            \u001b[49m\u001b[43mioargs\u001b[49m\u001b[38;5;241;43m.\u001b[39;49m\u001b[43mmode\u001b[49m\u001b[43m,\u001b[49m\n\u001b[1;32m    876\u001b[0m \u001b[43m            \u001b[49m\u001b[43mencoding\u001b[49m\u001b[38;5;241;43m=\u001b[39;49m\u001b[43mioargs\u001b[49m\u001b[38;5;241;43m.\u001b[39;49m\u001b[43mencoding\u001b[49m\u001b[43m,\u001b[49m\n\u001b[1;32m    877\u001b[0m \u001b[43m            \u001b[49m\u001b[43merrors\u001b[49m\u001b[38;5;241;43m=\u001b[39;49m\u001b[43merrors\u001b[49m\u001b[43m,\u001b[49m\n\u001b[1;32m    878\u001b[0m \u001b[43m            \u001b[49m\u001b[43mnewline\u001b[49m\u001b[38;5;241;43m=\u001b[39;49m\u001b[38;5;124;43m\"\u001b[39;49m\u001b[38;5;124;43m\"\u001b[39;49m\u001b[43m,\u001b[49m\n\u001b[1;32m    879\u001b[0m \u001b[43m        \u001b[49m\u001b[43m)\u001b[49m\n\u001b[1;32m    880\u001b[0m     \u001b[38;5;28;01melse\u001b[39;00m:\n\u001b[1;32m    881\u001b[0m         \u001b[38;5;66;03m# Binary mode\u001b[39;00m\n\u001b[1;32m    882\u001b[0m         handle \u001b[38;5;241m=\u001b[39m \u001b[38;5;28mopen\u001b[39m(handle, ioargs\u001b[38;5;241m.\u001b[39mmode)\n",
      "\u001b[0;31mFileNotFoundError\u001b[0m: [Errno 2] No such file or directory: '../tests/data/SLC6A4_active_excapedb_subset.csv'"
     ]
    }
   ],
   "source": [
    "csv_file = \"../../tests/data/SLC6A4_active_excapedb_subset.csv\"  # Hmm, maybe better to download directly\n",
    "data = pd.read_csv(csv_file)"
   ]
  },
  {
   "cell_type": "markdown",
   "id": "066131b8",
   "metadata": {},
   "source": [
    "The dataset is a subset of the SLC6A4 actives from ExcapeDB. They are hand selected to give test set performance despite the small size, and are provided as example data only and should not be used to build serious QSAR models.\n",
    "\n",
    "We add RDKit mol objects to the dataframe with pandastools and check that all conversions went well."
   ]
  },
  {
   "cell_type": "code",
   "execution_count": null,
   "id": "a3ec0a23",
   "metadata": {
    "execution": {
     "iopub.execute_input": "2024-11-24T09:27:22.729951Z",
     "iopub.status.busy": "2024-11-24T09:27:22.729732Z",
     "iopub.status.idle": "2024-11-24T09:27:22.769704Z",
     "shell.execute_reply": "2024-11-24T09:27:22.768854Z"
    },
    "lines_to_next_cell": 0
   },
   "outputs": [
    {
     "name": "stdout",
     "output_type": "stream",
     "text": [
      "0 out of 200 SMILES failed in conversion\n"
     ]
    }
   ],
   "source": [
    "PandasTools.AddMoleculeColumnToFrame(data, smilesCol=\"SMILES\")\n",
    "print(f\"{data.ROMol.isna().sum()} out of {len(data)} SMILES failed in conversion\")"
   ]
  },
  {
   "cell_type": "markdown",
   "id": "eccaf4af",
   "metadata": {},
   "source": [
    "Then, let's import some tools from scikit-learn and two transformers from scikit-mol"
   ]
  },
  {
   "cell_type": "code",
   "execution_count": null,
   "id": "4eb8f0fa",
   "metadata": {
    "execution": {
     "iopub.execute_input": "2024-11-24T09:27:22.772861Z",
     "iopub.status.busy": "2024-11-24T09:27:22.772534Z",
     "iopub.status.idle": "2024-11-24T09:27:23.182612Z",
     "shell.execute_reply": "2024-11-24T09:27:23.181966Z"
    }
   },
   "outputs": [],
   "source": [
    "from sklearn.pipeline import Pipeline\n",
    "from sklearn.linear_model import Ridge\n",
    "from sklearn.model_selection import train_test_split\n",
    "from scikit_mol.fingerprints import MorganFingerprintTransformer\n",
    "from scikit_mol.conversions import SmilesToMolTransformer"
   ]
  },
  {
   "cell_type": "code",
   "execution_count": null,
   "id": "99edec0f",
   "metadata": {
    "execution": {
     "iopub.execute_input": "2024-11-24T09:27:23.185612Z",
     "iopub.status.busy": "2024-11-24T09:27:23.185269Z",
     "iopub.status.idle": "2024-11-24T09:27:23.190844Z",
     "shell.execute_reply": "2024-11-24T09:27:23.190290Z"
    }
   },
   "outputs": [],
   "source": [
    "mol_list_train, mol_list_test, y_train, y_test = train_test_split(\n",
    "    data.ROMol, data.pXC50, random_state=0\n",
    ")"
   ]
  },
  {
   "cell_type": "markdown",
   "id": "b8380817",
   "metadata": {},
   "source": [
    "After a split into train and test, we'll build the first pipeline"
   ]
  },
  {
   "cell_type": "code",
   "execution_count": null,
   "id": "a27d6ff9",
   "metadata": {
    "execution": {
     "iopub.execute_input": "2024-11-24T09:27:23.193426Z",
     "iopub.status.busy": "2024-11-24T09:27:23.193188Z",
     "iopub.status.idle": "2024-11-24T09:27:23.198881Z",
     "shell.execute_reply": "2024-11-24T09:27:23.198225Z"
    }
   },
   "outputs": [
    {
     "name": "stdout",
     "output_type": "stream",
     "text": [
      "Pipeline(steps=[('mol_transformer', MorganFingerprintTransformer()),\n",
      "                ('Regressor', Ridge())])\n"
     ]
    }
   ],
   "source": [
    "pipe = Pipeline(\n",
    "    [(\"mol_transformer\", MorganFingerprintTransformer()), (\"Regressor\", Ridge())]\n",
    ")\n",
    "print(pipe)"
   ]
  },
  {
   "cell_type": "markdown",
   "id": "6c12f9a8",
   "metadata": {},
   "source": [
    "We can do the fit by simply providing the list of RDKit molecule objects"
   ]
  },
  {
   "cell_type": "code",
   "execution_count": null,
   "id": "634ca919",
   "metadata": {
    "execution": {
     "iopub.execute_input": "2024-11-24T09:27:23.201230Z",
     "iopub.status.busy": "2024-11-24T09:27:23.201013Z",
     "iopub.status.idle": "2024-11-24T09:27:23.265644Z",
     "shell.execute_reply": "2024-11-24T09:27:23.264698Z"
    },
    "lines_to_next_cell": 0
   },
   "outputs": [
    {
     "name": "stdout",
     "output_type": "stream",
     "text": [
      "Train score is :1.00\n",
      "Test score is  :0.55\n"
     ]
    }
   ],
   "source": [
    "pipe.fit(mol_list_train, y_train)\n",
    "print(f\"Train score is :{pipe.score(mol_list_train,y_train):0.2F}\")\n",
    "print(f\"Test score is  :{pipe.score(mol_list_test, y_test):0.2F}\")"
   ]
  },
  {
   "cell_type": "markdown",
   "id": "8440cc5a",
   "metadata": {},
   "source": [
    "Nevermind the performance, or the exact value of the prediction, this is for demonstration purpures. We can easily predict on lists of molecules"
   ]
  },
  {
   "cell_type": "code",
   "execution_count": null,
   "id": "f4431aab",
   "metadata": {
    "execution": {
     "iopub.execute_input": "2024-11-24T09:27:23.269015Z",
     "iopub.status.busy": "2024-11-24T09:27:23.268218Z",
     "iopub.status.idle": "2024-11-24T09:27:23.280889Z",
     "shell.execute_reply": "2024-11-24T09:27:23.279967Z"
    }
   },
   "outputs": [
    {
     "data": {
      "text/plain": [
       "array([6.00400299])"
      ]
     },
     "execution_count": 8,
     "metadata": {},
     "output_type": "execute_result"
    }
   ],
   "source": [
    "pipe.predict([Chem.MolFromSmiles(\"c1ccccc1C(=O)[OH]\")])"
   ]
  },
  {
   "cell_type": "markdown",
   "id": "a60e242b",
   "metadata": {},
   "source": [
    "We can also expand the already fitted pipeline, how about creating a pipeline that can predict directly from SMILES? With scikit-mol that is easy!"
   ]
  },
  {
   "cell_type": "code",
   "execution_count": null,
   "id": "a908097d",
   "metadata": {
    "execution": {
     "iopub.execute_input": "2024-11-24T09:27:23.284650Z",
     "iopub.status.busy": "2024-11-24T09:27:23.283862Z",
     "iopub.status.idle": "2024-11-24T09:27:23.298454Z",
     "shell.execute_reply": "2024-11-24T09:27:23.297546Z"
    }
   },
   "outputs": [
    {
     "name": "stdout",
     "output_type": "stream",
     "text": [
      "Pipeline(steps=[('smiles_transformer', SmilesToMolTransformer()),\n",
      "                ('pipe',\n",
      "                 Pipeline(steps=[('mol_transformer',\n",
      "                                  MorganFingerprintTransformer()),\n",
      "                                 ('Regressor', Ridge())]))])\n"
     ]
    }
   ],
   "source": [
    "smiles_pipe = Pipeline(\n",
    "    [(\"smiles_transformer\", SmilesToMolTransformer()), (\"pipe\", pipe)]\n",
    ")\n",
    "print(smiles_pipe)"
   ]
  },
  {
   "cell_type": "code",
   "execution_count": null,
   "id": "0124653c",
   "metadata": {
    "execution": {
     "iopub.execute_input": "2024-11-24T09:27:23.302185Z",
     "iopub.status.busy": "2024-11-24T09:27:23.301318Z",
     "iopub.status.idle": "2024-11-24T09:27:23.307070Z",
     "shell.execute_reply": "2024-11-24T09:27:23.306539Z"
    }
   },
   "outputs": [
    {
     "data": {
      "text/plain": [
       "array([6.00400299])"
      ]
     },
     "execution_count": 10,
     "metadata": {},
     "output_type": "execute_result"
    }
   ],
   "source": [
    "smiles_pipe.predict([\"c1ccccc1C(=O)[OH]\"])"
   ]
  },
  {
   "cell_type": "markdown",
   "id": "069e2d01",
   "metadata": {},
   "source": [
    "From here, the pipelines could be pickled, and later loaded for easy prediction on RDKit molecule objects or SMILES in other scripts. The transformation with the MorganTransformer will be the same as during fitting, so no need to remember if radius 2 or 3 was used for this or that model, as it is already in the pipeline itself. If we need to see the parameters for a particular pipeline of model, we can always get the non default settings via print or all settings with .get_params()."
   ]
  },
  {
   "cell_type": "code",
   "execution_count": null,
   "id": "63c8ef60",
   "metadata": {
    "execution": {
     "iopub.execute_input": "2024-11-24T09:27:23.309849Z",
     "iopub.status.busy": "2024-11-24T09:27:23.309649Z",
     "iopub.status.idle": "2024-11-24T09:27:23.317613Z",
     "shell.execute_reply": "2024-11-24T09:27:23.316837Z"
    }
   },
   "outputs": [
    {
     "data": {
      "text/plain": [
       "{'memory': None,\n",
       " 'steps': [('smiles_transformer', SmilesToMolTransformer()),\n",
       "  ('pipe',\n",
       "   Pipeline(steps=[('mol_transformer', MorganFingerprintTransformer()),\n",
       "                   ('Regressor', Ridge())]))],\n",
       " 'verbose': False,\n",
       " 'smiles_transformer': SmilesToMolTransformer(),\n",
       " 'pipe': Pipeline(steps=[('mol_transformer', MorganFingerprintTransformer()),\n",
       "                 ('Regressor', Ridge())]),\n",
       " 'smiles_transformer__parallel': False,\n",
       " 'smiles_transformer__safe_inference_mode': False,\n",
       " 'pipe__memory': None,\n",
       " 'pipe__steps': [('mol_transformer', MorganFingerprintTransformer()),\n",
       "  ('Regressor', Ridge())],\n",
       " 'pipe__verbose': False,\n",
       " 'pipe__mol_transformer': MorganFingerprintTransformer(),\n",
       " 'pipe__Regressor': Ridge(),\n",
       " 'pipe__mol_transformer__fpSize': 2048,\n",
       " 'pipe__mol_transformer__parallel': False,\n",
       " 'pipe__mol_transformer__radius': 2,\n",
       " 'pipe__mol_transformer__safe_inference_mode': False,\n",
       " 'pipe__mol_transformer__useBondTypes': True,\n",
       " 'pipe__mol_transformer__useChirality': False,\n",
       " 'pipe__mol_transformer__useCounts': False,\n",
       " 'pipe__mol_transformer__useFeatures': False,\n",
       " 'pipe__Regressor__alpha': 1.0,\n",
       " 'pipe__Regressor__copy_X': True,\n",
       " 'pipe__Regressor__fit_intercept': True,\n",
       " 'pipe__Regressor__max_iter': None,\n",
       " 'pipe__Regressor__positive': False,\n",
       " 'pipe__Regressor__random_state': None,\n",
       " 'pipe__Regressor__solver': 'auto',\n",
       " 'pipe__Regressor__tol': 0.0001}"
      ]
     },
     "execution_count": 11,
     "metadata": {},
     "output_type": "execute_result"
    }
   ],
   "source": [
    "smiles_pipe.get_params()"
   ]
  }
 ],
 "metadata": {
  "jupytext": {
   "formats": "docs//notebooks//ipynb,docs//notebooks//scripts//py:percent"
  },
  "kernelspec": {
   "display_name": ".venv",
   "language": "python",
   "name": "python3"
  },
  "language_info": {
   "codemirror_mode": {
    "name": "ipython",
    "version": 3
   },
   "file_extension": ".py",
   "mimetype": "text/x-python",
   "name": "python",
   "nbconvert_exporter": "python",
   "pygments_lexer": "ipython3",
   "version": "3.12.6"
  }
 },
 "nbformat": 4,
 "nbformat_minor": 5
}
