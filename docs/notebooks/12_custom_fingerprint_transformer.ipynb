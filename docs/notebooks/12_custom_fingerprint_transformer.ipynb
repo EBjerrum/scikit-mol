{
 "cells": [
  {
   "cell_type": "markdown",
   "id": "de742d6d",
   "metadata": {},
   "source": [
    "# Creating custom fingerprint transformers\n",
    "\n",
    "If the default fingerprint transformers provided by the scikit-mol library are not enough for your needs, you can create your own custom fingerprint transformers. In this notebook, we will show you how to do this.\n",
    "\n",
    "Note that base classes are partially stable and may change in the future versions of the library. We will try to keep the changes minimal and provide a migration guide if necessary. This notebook is also will be updated accordingly."
   ]
  },
  {
   "cell_type": "markdown",
   "id": "0e0a8a2b",
   "metadata": {},
   "source": [
    "## Basics\n",
    "\n",
    "For now we recommend you to use the `BaseFpsTransformer` class as a base class for your custom fingerprint transformers. This class provides a simple interface to create fingerprint transformers that can be used with the scikit-mol library.\n",
    "\n",
    "To create your custom fingerprint transformer, you need to create a class that inherits from the `BaseFpsTransformer` class and implement the `_transform_mol` method. This method should take a single RDKit molecule object as input and return a fingerprint as a numpy array."
   ]
  },
  {
   "cell_type": "code",
   "execution_count": 1,
   "id": "1ed1c7f0",
   "metadata": {},
   "outputs": [
    {
     "name": "stderr",
     "output_type": "stream",
     "text": [
      "/home/anton/projects/scikit-mol/.venv/lib/python3.12/site-packages/joblib/externals/loky/backend/fork_exec.py:38: DeprecationWarning: This process (pid=43991) is multi-threaded, use of fork() may lead to deadlocks in the child.\n",
      "  pid = os.fork()\n",
      "/home/anton/projects/scikit-mol/.venv/lib/python3.12/site-packages/joblib/externals/loky/backend/fork_exec.py:38: DeprecationWarning: This process (pid=43991) is multi-threaded, use of fork() may lead to deadlocks in the child.\n",
      "  pid = os.fork()\n",
      "/home/anton/projects/scikit-mol/.venv/lib/python3.12/site-packages/joblib/externals/loky/backend/fork_exec.py:38: DeprecationWarning: This process (pid=43991) is multi-threaded, use of fork() may lead to deadlocks in the child.\n",
      "  pid = os.fork()\n",
      "/home/anton/projects/scikit-mol/.venv/lib/python3.12/site-packages/joblib/externals/loky/backend/fork_exec.py:38: DeprecationWarning: This process (pid=43991) is multi-threaded, use of fork() may lead to deadlocks in the child.\n",
      "  pid = os.fork()\n",
      "/home/anton/projects/scikit-mol/.venv/lib/python3.12/site-packages/joblib/externals/loky/backend/fork_exec.py:38: DeprecationWarning: This process (pid=43991) is multi-threaded, use of fork() may lead to deadlocks in the child.\n",
      "  pid = os.fork()\n"
     ]
    },
    {
     "data": {
      "text/plain": [
       "array([[2., 2., 2., ..., 2., 2., 2.],\n",
       "       [2., 2., 2., ..., 2., 2., 2.],\n",
       "       [2., 2., 2., ..., 2., 2., 2.],\n",
       "       ...,\n",
       "       [2., 2., 2., ..., 2., 2., 2.],\n",
       "       [2., 2., 2., ..., 2., 2., 2.],\n",
       "       [2., 2., 2., ..., 2., 2., 2.]], shape=(100, 64))"
      ]
     },
     "execution_count": 1,
     "metadata": {},
     "output_type": "execute_result"
    }
   ],
   "source": [
    "from scikit_mol.fingerprints.baseclasses import BaseFpsTransformer\n",
    "import numpy as np\n",
    "from rdkit import Chem\n",
    "\n",
    "\n",
    "class DummyFingerprintTransformer(BaseFpsTransformer):\n",
    "    def __init__(self, fpSize=64, n_jobs=1, safe_inference_mode=False):\n",
    "        self.fpSize = fpSize\n",
    "        super().__init__(\n",
    "            n_jobs=n_jobs, safe_inference_mode=safe_inference_mode, name=\"dummy\"\n",
    "        )\n",
    "\n",
    "    def _transform_mol(self, mol):\n",
    "        return mol.GetNumAtoms() * np.ones(self.fpSize)\n",
    "\n",
    "\n",
    "trans = DummyFingerprintTransformer(n_jobs=4)\n",
    "mols = [Chem.MolFromSmiles(\"CC\")] * 100\n",
    "trans.transform(mols)"
   ]
  },
  {
   "cell_type": "markdown",
   "id": "619ebaf3",
   "metadata": {},
   "source": [
    "## Non-pickable objects\n",
    "When working with some of the `rdkit` function and classes you will often discover that some of the are unpickable objects. This means that they cannot be serialized and deserialized using the `pickle` module. This is a problem when you want to use the parallelization (controlled by the `n_jobs` parameter).\n",
    "\n",
    "Any non-pickable object in the transformer attributes should be initialized in the `__init__` method of the transforme from the other *picklable* arguments.\n",
    "\n",
    "In the example below, we will create a custom fingerprint transformer that uses the Morgan fingerprint with radius **2** and **1024** bits. Used generator is unpickable, but it can be created during the initialization of the transformer from the picklable `maxPath` and `fpSize` arguments."
   ]
  },
  {
   "cell_type": "code",
   "execution_count": 2,
   "id": "4e944033",
   "metadata": {},
   "outputs": [
    {
     "data": {
      "text/plain": [
       "array([[0, 0, 0, ..., 0, 0, 0],\n",
       "       [0, 0, 0, ..., 0, 0, 0],\n",
       "       [0, 0, 0, ..., 0, 0, 0],\n",
       "       ...,\n",
       "       [0, 0, 0, ..., 0, 0, 0],\n",
       "       [0, 0, 0, ..., 0, 0, 0],\n",
       "       [0, 0, 0, ..., 0, 0, 0]], shape=(100, 512), dtype=uint8)"
      ]
     },
     "execution_count": 2,
     "metadata": {},
     "output_type": "execute_result"
    }
   ],
   "source": [
    "from rdkit.Chem import rdFingerprintGenerator\n",
    "\n",
    "\n",
    "class UnpickableFingerprintTransformer(BaseFpsTransformer):\n",
    "    def __init__(self, fpSize=1024, n_jobs=1, safe_inference_mode=False, **kwargs):\n",
    "        self.fpSize = fpSize\n",
    "        super().__init__(\n",
    "            n_jobs=n_jobs, safe_inference_mode=safe_inference_mode, **kwargs\n",
    "        )\n",
    "        self.fp_gen = rdFingerprintGenerator.GetRDKitFPGenerator(\n",
    "            maxPath=2, fpSize=self.fpSize\n",
    "        )\n",
    "\n",
    "    def _transform_mol(self, mol):\n",
    "        return self.fp_gen.GetFingerprintAsNumPy(mol)\n",
    "\n",
    "\n",
    "trans = UnpickableFingerprintTransformer(n_jobs=4, fpSize=512)\n",
    "trans.transform(mols)"
   ]
  },
  {
   "cell_type": "markdown",
   "id": "b3f2c4c4",
   "metadata": {},
   "source": [
    "Non-pickable object should not be present among the `__init__` arguments of the transformer. Doing so will prevent them to be pickled to recreate a transformer instance in the worker processes. If you for some reason need to pass a non-pickable object to the transformer you can do so (**highly discouraged**, please [open the issue](https://github.com/EBjerrum/scikit-mol/issues), maybe we will be able to help you do it better) by using the transformer in the sequential mode (i.e. `n_jobs=1`)."
   ]
  },
  {
   "cell_type": "code",
   "execution_count": 3,
   "id": "e569b656",
   "metadata": {},
   "outputs": [
    {
     "name": "stdout",
     "output_type": "stream",
     "text": [
      "n_jobs=1 is fine\n"
     ]
    },
    {
     "name": "stderr",
     "output_type": "stream",
     "text": [
      "/home/anton/projects/scikit-mol/.venv/lib/python3.12/site-packages/joblib/externals/loky/backend/fork_exec.py:38: DeprecationWarning: This process (pid=43991) is multi-threaded, use of fork() may lead to deadlocks in the child.\n",
      "  pid = os.fork()\n"
     ]
    },
    {
     "name": "stdout",
     "output_type": "stream",
     "text": [
      "n_jobs=2 is not fine, because the generator passed as an argument is not picklable\n",
      "Error msg: Could not pickle the task to send it to the workers.\n"
     ]
    },
    {
     "name": "stderr",
     "output_type": "stream",
     "text": [
      "/home/anton/projects/scikit-mol/.venv/lib/python3.12/site-packages/joblib/externals/loky/backend/fork_exec.py:38: DeprecationWarning: This process (pid=43991) is multi-threaded, use of fork() may lead to deadlocks in the child.\n",
      "  pid = os.fork()\n"
     ]
    }
   ],
   "source": [
    "class BadTransformer(BaseFpsTransformer):\n",
    "    def __init__(self, generator, n_jobs=1):\n",
    "        self.generator = generator\n",
    "        super().__init__(n_jobs=n_jobs)\n",
    "\n",
    "    def _transform_mol(self, mol):\n",
    "        return self.generator.GetFingerprint(mol)\n",
    "\n",
    "\n",
    "fp_gen = rdFingerprintGenerator.GetMorganGenerator(radius=2, fpSize=10)\n",
    "BadTransformer(fp_gen, n_jobs=1).transform(mols)\n",
    "print(\"n_jobs=1 is fine\")\n",
    "try:\n",
    "    BadTransformer(fp_gen, n_jobs=2).transform(mols)\n",
    "except Exception as e:\n",
    "    print(\n",
    "        \"n_jobs=2 is not fine, because the generator passed as an argument is not picklable\"\n",
    "    )\n",
    "    print(f\"Error msg: {e}\")"
   ]
  },
  {
   "cell_type": "markdown",
   "id": "25517562",
   "metadata": {},
   "source": [
    "## Fingerprint name\n",
    "\n",
    "To use the fingerptint in the `pandas` output mode it needes to know the name of the fingerprint and the number of bits (features) in it to generate the columns names. The number of feature is derived from `fpSize` attribute \n",
    "\n",
    "And the name resolution works as follows (in order of priority):\n",
    "- if the fingerprint has a name set during the initialization of the base class, it is used\n",
    "- if the name of the class follows the pattern `XFingerprintTransformer`, the name (`fp_X`) is extracted from it\n",
    "- as a last resort, the name is set to name of the class"
   ]
  },
  {
   "cell_type": "code",
   "execution_count": 4,
   "id": "07dbac7a",
   "metadata": {
    "lines_to_next_cell": 2
   },
   "outputs": [
    {
     "name": "stdout",
     "output_type": "stream",
     "text": [
      "['namedtansformer1_1' 'namedtansformer1_2' 'namedtansformer1_3' ...\n",
      " 'namedtansformer1_1022' 'namedtansformer1_1023' 'namedtansformer1_1024']\n",
      "['fp_fancy_1' 'fp_fancy_2' 'fp_fancy_3' ... 'fp_fancy_1022'\n",
      " 'fp_fancy_1023' 'fp_fancy_1024']\n",
      "['fp_fancy_1' 'fp_fancy_2' 'fp_fancy_3' ... 'fp_fancy_1022'\n",
      " 'fp_fancy_1023' 'fp_fancy_1024']\n"
     ]
    }
   ],
   "source": [
    "class NamedTansformer1(UnpickableFingerprintTransformer):\n",
    "    pass\n",
    "\n",
    "\n",
    "class NamedTansformer2(UnpickableFingerprintTransformer):\n",
    "    def __init__(self):\n",
    "        super().__init__(name=\"fp_fancy\")\n",
    "\n",
    "\n",
    "class FancyFingerprintTransformer(UnpickableFingerprintTransformer):\n",
    "    pass\n",
    "\n",
    "\n",
    "print(NamedTansformer1().get_feature_names_out())\n",
    "print(NamedTansformer2().get_feature_names_out())\n",
    "print(FancyFingerprintTransformer().get_feature_names_out())"
   ]
  }
 ],
 "metadata": {
  "jupytext": {
   "formats": "docs//notebooks//ipynb,docs//notebooks//scripts//py:percent"
  },
  "kernelspec": {
   "display_name": ".venv",
   "language": "python",
   "name": "python3"
  },
  "language_info": {
   "codemirror_mode": {
    "name": "ipython",
    "version": 3
   },
   "file_extension": ".py",
   "mimetype": "text/x-python",
   "name": "python",
   "nbconvert_exporter": "python",
   "pygments_lexer": "ipython3",
   "version": "3.12.6"
  }
 },
 "nbformat": 4,
 "nbformat_minor": 5
}
